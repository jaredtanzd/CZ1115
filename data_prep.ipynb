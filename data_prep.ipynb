{
 "cells": [
  {
   "cell_type": "markdown",
   "source": "# Data Preparation",
   "metadata": {
    "cell_id": "f4dd65cd80ee4b49bc36fb95e1a758af",
    "tags": [],
    "is_collapsed": false,
    "deepnote_cell_type": "text-cell-h1"
   }
  },
  {
   "cell_type": "markdown",
   "source": "## Import Tools & DataSets",
   "metadata": {
    "cell_id": "e998fd11b3974caf97f0694dbb0ab448",
    "tags": [],
    "deepnote_cell_type": "markdown",
    "deepnote_cell_height": 70
   }
  },
  {
   "cell_type": "code",
   "metadata": {
    "tags": [],
    "cell_id": "00ae0cbf-35ca-4dd7-a1fe-3253b28f8b3f",
    "deepnote_to_be_reexecuted": false,
    "source_hash": "ed6e1641",
    "execution_start": 1650810985762,
    "execution_millis": 3152,
    "deepnote_cell_type": "code",
    "deepnote_cell_height": 171
   },
   "source": "# Basic Libraries\nimport numpy as np\nimport pandas as pd\nimport seaborn as sb\nimport matplotlib.pyplot as plt \nsb.set() # set the default Seaborn style for graphics",
   "execution_count": 1,
   "outputs": []
  },
  {
   "cell_type": "code",
   "metadata": {
    "cell_id": "297ece69af92466288605d71f27e028f",
    "tags": [],
    "deepnote_to_be_reexecuted": false,
    "source_hash": "27b068dc",
    "execution_start": 1650810988928,
    "execution_millis": 201,
    "deepnote_cell_type": "code",
    "deepnote_cell_height": 430
   },
   "source": "subway_data = pd.read_csv('datasets/1_subway_data.csv')\nsubway_data.head()",
   "execution_count": 2,
   "outputs": [
    {
     "output_type": "execute_result",
     "execution_count": 2,
     "data": {
      "application/vnd.deepnote.dataframe.v3+json": {
       "column_count": 17,
       "row_count": 5,
       "columns": [
        {
         "name": "Unnamed: 0",
         "dtype": "object",
         "stats": {
          "unique_count": 5,
          "nan_count": 0,
          "categories": [
           {
            "name": "6\" All-American Club",
            "count": 1
           },
           {
            "name": "6\" Black Forest Ham",
            "count": 1
           },
           {
            "name": "3 others",
            "count": 3
           }
          ]
         }
        },
        {
         "name": "Category",
         "dtype": "object",
         "stats": {
          "unique_count": 1,
          "nan_count": 0,
          "categories": [
           {
            "name": "Sandwich",
            "count": 5
           }
          ]
         }
        },
        {
         "name": "Serving Size (g)",
         "dtype": "int64",
         "stats": {
          "unique_count": 4,
          "nan_count": 0,
          "min": "211",
          "max": "256",
          "histogram": [
           {
            "bin_start": 211,
            "bin_end": 215.5,
            "count": 1
           },
           {
            "bin_start": 215.5,
            "bin_end": 220,
            "count": 1
           },
           {
            "bin_start": 220,
            "bin_end": 224.5,
            "count": 0
           },
           {
            "bin_start": 224.5,
            "bin_end": 229,
            "count": 0
           },
           {
            "bin_start": 229,
            "bin_end": 233.5,
            "count": 0
           },
           {
            "bin_start": 233.5,
            "bin_end": 238,
            "count": 0
           },
           {
            "bin_start": 238,
            "bin_end": 242.5,
            "count": 0
           },
           {
            "bin_start": 242.5,
            "bin_end": 247,
            "count": 0
           },
           {
            "bin_start": 247,
            "bin_end": 251.5,
            "count": 1
           },
           {
            "bin_start": 251.5,
            "bin_end": 256,
            "count": 2
           }
          ]
         }
        },
        {
         "name": "Calories",
         "dtype": "int64",
         "stats": {
          "unique_count": 5,
          "nan_count": 0,
          "min": "270",
          "max": "530",
          "histogram": [
           {
            "bin_start": 270,
            "bin_end": 296,
            "count": 1
           },
           {
            "bin_start": 296,
            "bin_end": 322,
            "count": 0
           },
           {
            "bin_start": 322,
            "bin_end": 348,
            "count": 1
           },
           {
            "bin_start": 348,
            "bin_end": 374,
            "count": 1
           },
           {
            "bin_start": 374,
            "bin_end": 400,
            "count": 0
           },
           {
            "bin_start": 400,
            "bin_end": 426,
            "count": 0
           },
           {
            "bin_start": 426,
            "bin_end": 452,
            "count": 0
           },
           {
            "bin_start": 452,
            "bin_end": 478,
            "count": 0
           },
           {
            "bin_start": 478,
            "bin_end": 504,
            "count": 0
           },
           {
            "bin_start": 504,
            "bin_end": 530,
            "count": 2
           }
          ]
         }
        },
        {
         "name": "Total Fat (g)",
         "dtype": "int64",
         "stats": {
          "unique_count": 5,
          "nan_count": 0,
          "min": "4",
          "max": "29",
          "histogram": [
           {
            "bin_start": 4,
            "bin_end": 6.5,
            "count": 1
           },
           {
            "bin_start": 6.5,
            "bin_end": 9,
            "count": 0
           },
           {
            "bin_start": 9,
            "bin_end": 11.5,
            "count": 0
           },
           {
            "bin_start": 11.5,
            "bin_end": 14,
            "count": 2
           },
           {
            "bin_start": 14,
            "bin_end": 16.5,
            "count": 0
           },
           {
            "bin_start": 16.5,
            "bin_end": 19,
            "count": 0
           },
           {
            "bin_start": 19,
            "bin_end": 21.5,
            "count": 0
           },
           {
            "bin_start": 21.5,
            "bin_end": 24,
            "count": 0
           },
           {
            "bin_start": 24,
            "bin_end": 26.5,
            "count": 0
           },
           {
            "bin_start": 26.5,
            "bin_end": 29,
            "count": 2
           }
          ]
         }
        },
        {
         "name": "Saturated Fat (g)",
         "dtype": "float64",
         "stats": {
          "unique_count": 5,
          "nan_count": 0,
          "min": "1.0",
          "max": "11.0",
          "histogram": [
           {
            "bin_start": 1,
            "bin_end": 2,
            "count": 1
           },
           {
            "bin_start": 2,
            "bin_end": 3,
            "count": 0
           },
           {
            "bin_start": 3,
            "bin_end": 4,
            "count": 1
           },
           {
            "bin_start": 4,
            "bin_end": 5,
            "count": 0
           },
           {
            "bin_start": 5,
            "bin_end": 6,
            "count": 0
           },
           {
            "bin_start": 6,
            "bin_end": 7,
            "count": 1
           },
           {
            "bin_start": 7,
            "bin_end": 8,
            "count": 0
           },
           {
            "bin_start": 8,
            "bin_end": 9,
            "count": 0
           },
           {
            "bin_start": 9,
            "bin_end": 10,
            "count": 0
           },
           {
            "bin_start": 10,
            "bin_end": 11,
            "count": 2
           }
          ]
         }
        },
        {
         "name": "Trans Fat (g)",
         "dtype": "float64",
         "stats": {
          "unique_count": 1,
          "nan_count": 0,
          "min": "0.0",
          "max": "0.0",
          "histogram": [
           {
            "bin_start": -0.5,
            "bin_end": -0.4,
            "count": 0
           },
           {
            "bin_start": -0.4,
            "bin_end": -0.3,
            "count": 0
           },
           {
            "bin_start": -0.3,
            "bin_end": -0.19999999999999996,
            "count": 0
           },
           {
            "bin_start": -0.19999999999999996,
            "bin_end": -0.09999999999999998,
            "count": 0
           },
           {
            "bin_start": -0.09999999999999998,
            "bin_end": 0,
            "count": 0
           },
           {
            "bin_start": 0,
            "bin_end": 0.10000000000000009,
            "count": 5
           },
           {
            "bin_start": 0.10000000000000009,
            "bin_end": 0.20000000000000007,
            "count": 0
           },
           {
            "bin_start": 0.20000000000000007,
            "bin_end": 0.30000000000000004,
            "count": 0
           },
           {
            "bin_start": 0.30000000000000004,
            "bin_end": 0.4,
            "count": 0
           },
           {
            "bin_start": 0.4,
            "bin_end": 0.5,
            "count": 0
           }
          ]
         }
        },
        {
         "name": "Cholesterol (mg)",
         "dtype": "int64",
         "stats": {
          "unique_count": 4,
          "nan_count": 0,
          "min": "30",
          "max": "105",
          "histogram": [
           {
            "bin_start": 30,
            "bin_end": 37.5,
            "count": 1
           },
           {
            "bin_start": 37.5,
            "bin_end": 45,
            "count": 0
           },
           {
            "bin_start": 45,
            "bin_end": 52.5,
            "count": 0
           },
           {
            "bin_start": 52.5,
            "bin_end": 60,
            "count": 2
           },
           {
            "bin_start": 60,
            "bin_end": 67.5,
            "count": 0
           },
           {
            "bin_start": 67.5,
            "bin_end": 75,
            "count": 0
           },
           {
            "bin_start": 75,
            "bin_end": 82.5,
            "count": 0
           },
           {
            "bin_start": 82.5,
            "bin_end": 90,
            "count": 0
           },
           {
            "bin_start": 90,
            "bin_end": 97.5,
            "count": 0
           },
           {
            "bin_start": 97.5,
            "bin_end": 105,
            "count": 2
           }
          ]
         }
        },
        {
         "name": "Sodium (mg)",
         "dtype": "int64",
         "stats": {
          "unique_count": 5,
          "nan_count": 0,
          "min": "810",
          "max": "1360",
          "histogram": [
           {
            "bin_start": 810,
            "bin_end": 865,
            "count": 1
           },
           {
            "bin_start": 865,
            "bin_end": 920,
            "count": 0
           },
           {
            "bin_start": 920,
            "bin_end": 975,
            "count": 0
           },
           {
            "bin_start": 975,
            "bin_end": 1030,
            "count": 1
           },
           {
            "bin_start": 1030,
            "bin_end": 1085,
            "count": 0
           },
           {
            "bin_start": 1085,
            "bin_end": 1140,
            "count": 0
           },
           {
            "bin_start": 1140,
            "bin_end": 1195,
            "count": 0
           },
           {
            "bin_start": 1195,
            "bin_end": 1250,
            "count": 2
           },
           {
            "bin_start": 1250,
            "bin_end": 1305,
            "count": 0
           },
           {
            "bin_start": 1305,
            "bin_end": 1360,
            "count": 1
           }
          ]
         }
        },
        {
         "name": "Carbohydrates (g)",
         "dtype": "int64",
         "stats": {
          "unique_count": 2,
          "nan_count": 0,
          "min": "39",
          "max": "41",
          "histogram": [
           {
            "bin_start": 39,
            "bin_end": 39.2,
            "count": 4
           },
           {
            "bin_start": 39.2,
            "bin_end": 39.4,
            "count": 0
           },
           {
            "bin_start": 39.4,
            "bin_end": 39.6,
            "count": 0
           },
           {
            "bin_start": 39.6,
            "bin_end": 39.8,
            "count": 0
           },
           {
            "bin_start": 39.8,
            "bin_end": 40,
            "count": 0
           },
           {
            "bin_start": 40,
            "bin_end": 40.2,
            "count": 0
           },
           {
            "bin_start": 40.2,
            "bin_end": 40.4,
            "count": 0
           },
           {
            "bin_start": 40.4,
            "bin_end": 40.6,
            "count": 0
           },
           {
            "bin_start": 40.6,
            "bin_end": 40.8,
            "count": 0
           },
           {
            "bin_start": 40.8,
            "bin_end": 41,
            "count": 1
           }
          ]
         }
        },
        {
         "name": "Dietary Fiber (g)",
         "dtype": "object",
         "stats": {
          "unique_count": 3,
          "nan_count": 0,
          "categories": [
           {
            "name": "2",
            "count": 3
           },
           {
            "name": "1",
            "count": 1
           },
           {
            "name": "4",
            "count": 1
           }
          ]
         }
        },
        {
         "name": "Sugars (g)",
         "dtype": "int64",
         "stats": {
          "unique_count": 3,
          "nan_count": 0,
          "min": "4",
          "max": "6",
          "histogram": [
           {
            "bin_start": 4,
            "bin_end": 4.2,
            "count": 1
           },
           {
            "bin_start": 4.2,
            "bin_end": 4.4,
            "count": 0
           },
           {
            "bin_start": 4.4,
            "bin_end": 4.6,
            "count": 0
           },
           {
            "bin_start": 4.6,
            "bin_end": 4.8,
            "count": 0
           },
           {
            "bin_start": 4.8,
            "bin_end": 5,
            "count": 0
           },
           {
            "bin_start": 5,
            "bin_end": 5.2,
            "count": 3
           },
           {
            "bin_start": 5.2,
            "bin_end": 5.4,
            "count": 0
           },
           {
            "bin_start": 5.4,
            "bin_end": 5.6,
            "count": 0
           },
           {
            "bin_start": 5.6,
            "bin_end": 5.8,
            "count": 0
           },
           {
            "bin_start": 5.8,
            "bin_end": 6,
            "count": 1
           }
          ]
         }
        },
        {
         "name": "Protein (g)",
         "dtype": "int64",
         "stats": {
          "unique_count": 5,
          "nan_count": 0,
          "min": "18",
          "max": "36",
          "histogram": [
           {
            "bin_start": 18,
            "bin_end": 19.8,
            "count": 1
           },
           {
            "bin_start": 19.8,
            "bin_end": 21.6,
            "count": 0
           },
           {
            "bin_start": 21.6,
            "bin_end": 23.4,
            "count": 0
           },
           {
            "bin_start": 23.4,
            "bin_end": 25.2,
            "count": 2
           },
           {
            "bin_start": 25.2,
            "bin_end": 27,
            "count": 0
           },
           {
            "bin_start": 27,
            "bin_end": 28.8,
            "count": 0
           },
           {
            "bin_start": 28.8,
            "bin_end": 30.6,
            "count": 0
           },
           {
            "bin_start": 30.6,
            "bin_end": 32.4,
            "count": 0
           },
           {
            "bin_start": 32.4,
            "bin_end": 34.2,
            "count": 1
           },
           {
            "bin_start": 34.2,
            "bin_end": 36,
            "count": 1
           }
          ]
         }
        },
        {
         "name": "Vitamin A % DV",
         "dtype": "int64",
         "stats": {
          "unique_count": 3,
          "nan_count": 0,
          "min": "15",
          "max": "30",
          "histogram": [
           {
            "bin_start": 15,
            "bin_end": 16.5,
            "count": 1
           },
           {
            "bin_start": 16.5,
            "bin_end": 18,
            "count": 0
           },
           {
            "bin_start": 18,
            "bin_end": 19.5,
            "count": 0
           },
           {
            "bin_start": 19.5,
            "bin_end": 21,
            "count": 0
           },
           {
            "bin_start": 21,
            "bin_end": 22.5,
            "count": 0
           },
           {
            "bin_start": 22.5,
            "bin_end": 24,
            "count": 0
           },
           {
            "bin_start": 24,
            "bin_end": 25.5,
            "count": 3
           },
           {
            "bin_start": 25.5,
            "bin_end": 27,
            "count": 0
           },
           {
            "bin_start": 27,
            "bin_end": 28.5,
            "count": 0
           },
           {
            "bin_start": 28.5,
            "bin_end": 30,
            "count": 1
           }
          ]
         }
        },
        {
         "name": "Vitamin C % DV",
         "dtype": "int64",
         "stats": {
          "unique_count": 2,
          "nan_count": 0,
          "min": "15",
          "max": "20",
          "histogram": [
           {
            "bin_start": 15,
            "bin_end": 15.5,
            "count": 3
           },
           {
            "bin_start": 15.5,
            "bin_end": 16,
            "count": 0
           },
           {
            "bin_start": 16,
            "bin_end": 16.5,
            "count": 0
           },
           {
            "bin_start": 16.5,
            "bin_end": 17,
            "count": 0
           },
           {
            "bin_start": 17,
            "bin_end": 17.5,
            "count": 0
           },
           {
            "bin_start": 17.5,
            "bin_end": 18,
            "count": 0
           },
           {
            "bin_start": 18,
            "bin_end": 18.5,
            "count": 0
           },
           {
            "bin_start": 18.5,
            "bin_end": 19,
            "count": 0
           },
           {
            "bin_start": 19,
            "bin_end": 19.5,
            "count": 0
           },
           {
            "bin_start": 19.5,
            "bin_end": 20,
            "count": 2
           }
          ]
         }
        },
        {
         "name": "Calcium % DV",
         "dtype": "int64",
         "stats": {
          "unique_count": 3,
          "nan_count": 0,
          "min": "2",
          "max": "20",
          "histogram": [
           {
            "bin_start": 2,
            "bin_end": 3.8,
            "count": 2
           },
           {
            "bin_start": 3.8,
            "bin_end": 5.6,
            "count": 0
           },
           {
            "bin_start": 5.6,
            "bin_end": 7.4,
            "count": 1
           },
           {
            "bin_start": 7.4,
            "bin_end": 9.2,
            "count": 0
           },
           {
            "bin_start": 9.2,
            "bin_end": 11,
            "count": 0
           },
           {
            "bin_start": 11,
            "bin_end": 12.8,
            "count": 0
           },
           {
            "bin_start": 12.8,
            "bin_end": 14.6,
            "count": 0
           },
           {
            "bin_start": 14.6,
            "bin_end": 16.4,
            "count": 0
           },
           {
            "bin_start": 16.4,
            "bin_end": 18.2,
            "count": 0
           },
           {
            "bin_start": 18.2,
            "bin_end": 20,
            "count": 2
           }
          ]
         }
        },
        {
         "name": "Iron % DV",
         "dtype": "int64",
         "stats": {
          "unique_count": 2,
          "nan_count": 0,
          "min": "15",
          "max": "20",
          "histogram": [
           {
            "bin_start": 15,
            "bin_end": 15.5,
            "count": 4
           },
           {
            "bin_start": 15.5,
            "bin_end": 16,
            "count": 0
           },
           {
            "bin_start": 16,
            "bin_end": 16.5,
            "count": 0
           },
           {
            "bin_start": 16.5,
            "bin_end": 17,
            "count": 0
           },
           {
            "bin_start": 17,
            "bin_end": 17.5,
            "count": 0
           },
           {
            "bin_start": 17.5,
            "bin_end": 18,
            "count": 0
           },
           {
            "bin_start": 18,
            "bin_end": 18.5,
            "count": 0
           },
           {
            "bin_start": 18.5,
            "bin_end": 19,
            "count": 0
           },
           {
            "bin_start": 19,
            "bin_end": 19.5,
            "count": 0
           },
           {
            "bin_start": 19.5,
            "bin_end": 20,
            "count": 1
           }
          ]
         }
        },
        {
         "name": "_deepnote_index_column",
         "dtype": "int64"
        }
       ],
       "rows": [
        {
         "Unnamed: 0": "6\" All-American Club",
         "Category": "Sandwich",
         "Serving Size (g)": 211,
         "Calories": 350,
         "Total Fat (g)": 13,
         "Saturated Fat (g)": 6,
         "Trans Fat (g)": 0,
         "Cholesterol (mg)": 55,
         "Sodium (mg)": 1220,
         "Carbohydrates (g)": 39,
         "Dietary Fiber (g)": "1",
         "Sugars (g)": 5,
         "Protein (g)": 25,
         "Vitamin A % DV": 15,
         "Vitamin C % DV": 15,
         "Calcium % DV": 6,
         "Iron % DV": 20,
         "_deepnote_index_column": 0
        },
        {
         "Unnamed: 0": "6\" Black Forest Ham",
         "Category": "Sandwich",
         "Serving Size (g)": 219,
         "Calories": 270,
         "Total Fat (g)": 4,
         "Saturated Fat (g)": 1,
         "Trans Fat (g)": 0,
         "Cholesterol (mg)": 30,
         "Sodium (mg)": 810,
         "Carbohydrates (g)": 41,
         "Dietary Fiber (g)": "4",
         "Sugars (g)": 6,
         "Protein (g)": 18,
         "Vitamin A % DV": 30,
         "Vitamin C % DV": 15,
         "Calcium % DV": 2,
         "Iron % DV": 15,
         "_deepnote_index_column": 1
        },
        {
         "Unnamed: 0": "6\" Buffalo Chicken (with Grilled Chicken)",
         "Category": "Sandwich",
         "Serving Size (g)": 248,
         "Calories": 340,
         "Total Fat (g)": 12,
         "Saturated Fat (g)": 3,
         "Trans Fat (g)": 0,
         "Cholesterol (mg)": 55,
         "Sodium (mg)": 1360,
         "Carbohydrates (g)": 39,
         "Dietary Fiber (g)": "2",
         "Sugars (g)": 4,
         "Protein (g)": 24,
         "Vitamin A % DV": 25,
         "Vitamin C % DV": 20,
         "Calcium % DV": 2,
         "Iron % DV": 15,
         "_deepnote_index_column": 2
        },
        {
         "Unnamed: 0": "6\" Chicken & Bacon Ranch (with Grilled Chicken)",
         "Category": "Sandwich",
         "Serving Size (g)": 256,
         "Calories": 510,
         "Total Fat (g)": 27,
         "Saturated Fat (g)": 10,
         "Trans Fat (g)": 0,
         "Cholesterol (mg)": 100,
         "Sodium (mg)": 1020,
         "Carbohydrates (g)": 39,
         "Dietary Fiber (g)": "2",
         "Sugars (g)": 5,
         "Protein (g)": 36,
         "Vitamin A % DV": 25,
         "Vitamin C % DV": 20,
         "Calcium % DV": 20,
         "Iron % DV": 15,
         "_deepnote_index_column": 3
        },
        {
         "Unnamed: 0": "6\" Chicken & Bacon Ranch (with Rotisserie-Style Chicken)",
         "Category": "Sandwich",
         "Serving Size (g)": 256,
         "Calories": 530,
         "Total Fat (g)": 29,
         "Saturated Fat (g)": 11,
         "Trans Fat (g)": 0,
         "Cholesterol (mg)": 105,
         "Sodium (mg)": 1200,
         "Carbohydrates (g)": 39,
         "Dietary Fiber (g)": "2",
         "Sugars (g)": 5,
         "Protein (g)": 34,
         "Vitamin A % DV": 25,
         "Vitamin C % DV": 15,
         "Calcium % DV": 20,
         "Iron % DV": 15,
         "_deepnote_index_column": 4
        }
       ]
      },
      "text/plain": "                                          Unnamed: 0  Category  \\\n0                               6\" All-American Club  Sandwich   \n1                                6\" Black Forest Ham  Sandwich   \n2          6\" Buffalo Chicken (with Grilled Chicken)  Sandwich   \n3    6\" Chicken & Bacon Ranch (with Grilled Chicken)  Sandwich   \n4  6\" Chicken & Bacon Ranch (with Rotisserie-Styl...  Sandwich   \n\n   Serving Size (g)  Calories  Total Fat (g)  Saturated Fat (g)  \\\n0               211       350             13                6.0   \n1               219       270              4                1.0   \n2               248       340             12                3.0   \n3               256       510             27               10.0   \n4               256       530             29               11.0   \n\n   Trans Fat (g)  Cholesterol (mg)  Sodium (mg)  Carbohydrates (g)  \\\n0            0.0                55         1220                 39   \n1            0.0                30          810                 41   \n2            0.0                55         1360                 39   \n3            0.0               100         1020                 39   \n4            0.0               105         1200                 39   \n\n  Dietary Fiber (g)  Sugars (g)  Protein (g)  Vitamin A % DV  Vitamin C % DV  \\\n0                 1           5           25              15              15   \n1                 4           6           18              30              15   \n2                 2           4           24              25              20   \n3                 2           5           36              25              20   \n4                 2           5           34              25              15   \n\n   Calcium % DV  Iron % DV  \n0             6         20  \n1             2         15  \n2             2         15  \n3            20         15  \n4            20         15  ",
      "text/html": "<div>\n<style scoped>\n    .dataframe tbody tr th:only-of-type {\n        vertical-align: middle;\n    }\n\n    .dataframe tbody tr th {\n        vertical-align: top;\n    }\n\n    .dataframe thead th {\n        text-align: right;\n    }\n</style>\n<table border=\"1\" class=\"dataframe\">\n  <thead>\n    <tr style=\"text-align: right;\">\n      <th></th>\n      <th>Unnamed: 0</th>\n      <th>Category</th>\n      <th>Serving Size (g)</th>\n      <th>Calories</th>\n      <th>Total Fat (g)</th>\n      <th>Saturated Fat (g)</th>\n      <th>Trans Fat (g)</th>\n      <th>Cholesterol (mg)</th>\n      <th>Sodium (mg)</th>\n      <th>Carbohydrates (g)</th>\n      <th>Dietary Fiber (g)</th>\n      <th>Sugars (g)</th>\n      <th>Protein (g)</th>\n      <th>Vitamin A % DV</th>\n      <th>Vitamin C % DV</th>\n      <th>Calcium % DV</th>\n      <th>Iron % DV</th>\n    </tr>\n  </thead>\n  <tbody>\n    <tr>\n      <th>0</th>\n      <td>6\" All-American Club</td>\n      <td>Sandwich</td>\n      <td>211</td>\n      <td>350</td>\n      <td>13</td>\n      <td>6.0</td>\n      <td>0.0</td>\n      <td>55</td>\n      <td>1220</td>\n      <td>39</td>\n      <td>1</td>\n      <td>5</td>\n      <td>25</td>\n      <td>15</td>\n      <td>15</td>\n      <td>6</td>\n      <td>20</td>\n    </tr>\n    <tr>\n      <th>1</th>\n      <td>6\" Black Forest Ham</td>\n      <td>Sandwich</td>\n      <td>219</td>\n      <td>270</td>\n      <td>4</td>\n      <td>1.0</td>\n      <td>0.0</td>\n      <td>30</td>\n      <td>810</td>\n      <td>41</td>\n      <td>4</td>\n      <td>6</td>\n      <td>18</td>\n      <td>30</td>\n      <td>15</td>\n      <td>2</td>\n      <td>15</td>\n    </tr>\n    <tr>\n      <th>2</th>\n      <td>6\" Buffalo Chicken (with Grilled Chicken)</td>\n      <td>Sandwich</td>\n      <td>248</td>\n      <td>340</td>\n      <td>12</td>\n      <td>3.0</td>\n      <td>0.0</td>\n      <td>55</td>\n      <td>1360</td>\n      <td>39</td>\n      <td>2</td>\n      <td>4</td>\n      <td>24</td>\n      <td>25</td>\n      <td>20</td>\n      <td>2</td>\n      <td>15</td>\n    </tr>\n    <tr>\n      <th>3</th>\n      <td>6\" Chicken &amp; Bacon Ranch (with Grilled Chicken)</td>\n      <td>Sandwich</td>\n      <td>256</td>\n      <td>510</td>\n      <td>27</td>\n      <td>10.0</td>\n      <td>0.0</td>\n      <td>100</td>\n      <td>1020</td>\n      <td>39</td>\n      <td>2</td>\n      <td>5</td>\n      <td>36</td>\n      <td>25</td>\n      <td>20</td>\n      <td>20</td>\n      <td>15</td>\n    </tr>\n    <tr>\n      <th>4</th>\n      <td>6\" Chicken &amp; Bacon Ranch (with Rotisserie-Styl...</td>\n      <td>Sandwich</td>\n      <td>256</td>\n      <td>530</td>\n      <td>29</td>\n      <td>11.0</td>\n      <td>0.0</td>\n      <td>105</td>\n      <td>1200</td>\n      <td>39</td>\n      <td>2</td>\n      <td>5</td>\n      <td>34</td>\n      <td>25</td>\n      <td>15</td>\n      <td>20</td>\n      <td>15</td>\n    </tr>\n  </tbody>\n</table>\n</div>"
     },
     "metadata": {}
    }
   ]
  },
  {
   "cell_type": "code",
   "metadata": {
    "cell_id": "080b327dfce640978f080ae4f1c0dfb2",
    "tags": [],
    "deepnote_to_be_reexecuted": false,
    "source_hash": "c3719128",
    "execution_start": 1650810989135,
    "execution_millis": 133,
    "deepnote_cell_type": "code",
    "deepnote_cell_height": 448
   },
   "source": "bk_data = pd.read_csv('datasets/1_burgerking_data.csv', encoding= 'unicode_escape')\nbk_data.head()\n",
   "execution_count": 3,
   "outputs": [
    {
     "output_type": "execute_result",
     "execution_count": 3,
     "data": {
      "application/vnd.deepnote.dataframe.v3+json": {
       "column_count": 14,
       "row_count": 5,
       "columns": [
        {
         "name": "Category",
         "dtype": "object",
         "stats": {
          "unique_count": 1,
          "nan_count": 0,
          "categories": [
           {
            "name": "WHOPPER SANDWICHES",
            "count": 5
           }
          ]
         }
        },
        {
         "name": "Product Name",
         "dtype": "object",
         "stats": {
          "unique_count": 5,
          "nan_count": 0,
          "categories": [
           {
            "name": "WHOPPER Sandwich",
            "count": 1
           },
           {
            "name": "WHOPPER Sandwich with Cheese",
            "count": 1
           },
           {
            "name": "3 others",
            "count": 3
           }
          ]
         }
        },
        {
         "name": "Serving Size (g)",
         "dtype": "float64",
         "stats": {
          "unique_count": 5,
          "nan_count": 0,
          "min": "270.0",
          "max": "377.0",
          "histogram": [
           {
            "bin_start": 270,
            "bin_end": 280.7,
            "count": 1
           },
           {
            "bin_start": 280.7,
            "bin_end": 291.4,
            "count": 0
           },
           {
            "bin_start": 291.4,
            "bin_end": 302.1,
            "count": 1
           },
           {
            "bin_start": 302.1,
            "bin_end": 312.8,
            "count": 1
           },
           {
            "bin_start": 312.8,
            "bin_end": 323.5,
            "count": 0
           },
           {
            "bin_start": 323.5,
            "bin_end": 334.2,
            "count": 0
           },
           {
            "bin_start": 334.2,
            "bin_end": 344.9,
            "count": 0
           },
           {
            "bin_start": 344.9,
            "bin_end": 355.6,
            "count": 1
           },
           {
            "bin_start": 355.6,
            "bin_end": 366.3,
            "count": 0
           },
           {
            "bin_start": 366.3,
            "bin_end": 377,
            "count": 1
           }
          ]
         }
        },
        {
         "name": "Calories",
         "dtype": "int64",
         "stats": {
          "unique_count": 5,
          "nan_count": 0,
          "min": "660",
          "max": "980",
          "histogram": [
           {
            "bin_start": 660,
            "bin_end": 692,
            "count": 1
           },
           {
            "bin_start": 692,
            "bin_end": 724,
            "count": 0
           },
           {
            "bin_start": 724,
            "bin_end": 756,
            "count": 1
           },
           {
            "bin_start": 756,
            "bin_end": 788,
            "count": 0
           },
           {
            "bin_start": 788,
            "bin_end": 820,
            "count": 1
           },
           {
            "bin_start": 820,
            "bin_end": 852,
            "count": 0
           },
           {
            "bin_start": 852,
            "bin_end": 884,
            "count": 0
           },
           {
            "bin_start": 884,
            "bin_end": 916,
            "count": 1
           },
           {
            "bin_start": 916,
            "bin_end": 948,
            "count": 0
           },
           {
            "bin_start": 948,
            "bin_end": 980,
            "count": 1
           }
          ]
         }
        },
        {
         "name": "Calories from fat",
         "dtype": "int64",
         "stats": {
          "unique_count": 5,
          "nan_count": 0,
          "min": "360",
          "max": "580",
          "histogram": [
           {
            "bin_start": 360,
            "bin_end": 382,
            "count": 1
           },
           {
            "bin_start": 382,
            "bin_end": 404,
            "count": 0
           },
           {
            "bin_start": 404,
            "bin_end": 426,
            "count": 1
           },
           {
            "bin_start": 426,
            "bin_end": 448,
            "count": 0
           },
           {
            "bin_start": 448,
            "bin_end": 470,
            "count": 1
           },
           {
            "bin_start": 470,
            "bin_end": 492,
            "count": 0
           },
           {
            "bin_start": 492,
            "bin_end": 514,
            "count": 0
           },
           {
            "bin_start": 514,
            "bin_end": 536,
            "count": 1
           },
           {
            "bin_start": 536,
            "bin_end": 558,
            "count": 0
           },
           {
            "bin_start": 558,
            "bin_end": 580,
            "count": 1
           }
          ]
         }
        },
        {
         "name": "Total fat (g)",
         "dtype": "float64",
         "stats": {
          "unique_count": 5,
          "nan_count": 0,
          "min": "40.0",
          "max": "64.0",
          "histogram": [
           {
            "bin_start": 40,
            "bin_end": 42.4,
            "count": 1
           },
           {
            "bin_start": 42.4,
            "bin_end": 44.8,
            "count": 0
           },
           {
            "bin_start": 44.8,
            "bin_end": 47.2,
            "count": 1
           },
           {
            "bin_start": 47.2,
            "bin_end": 49.6,
            "count": 0
           },
           {
            "bin_start": 49.6,
            "bin_end": 52,
            "count": 1
           },
           {
            "bin_start": 52,
            "bin_end": 54.4,
            "count": 0
           },
           {
            "bin_start": 54.4,
            "bin_end": 56.8,
            "count": 0
           },
           {
            "bin_start": 56.8,
            "bin_end": 59.2,
            "count": 1
           },
           {
            "bin_start": 59.2,
            "bin_end": 61.599999999999994,
            "count": 0
           },
           {
            "bin_start": 61.599999999999994,
            "bin_end": 64,
            "count": 1
           }
          ]
         }
        },
        {
         "name": "Saturated Fat (g)",
         "dtype": "float64",
         "stats": {
          "unique_count": 5,
          "nan_count": 0,
          "min": "12.0",
          "max": "24.0",
          "histogram": [
           {
            "bin_start": 12,
            "bin_end": 13.2,
            "count": 1
           },
           {
            "bin_start": 13.2,
            "bin_end": 14.4,
            "count": 0
           },
           {
            "bin_start": 14.4,
            "bin_end": 15.6,
            "count": 0
           },
           {
            "bin_start": 15.6,
            "bin_end": 16.8,
            "count": 1
           },
           {
            "bin_start": 16.8,
            "bin_end": 18,
            "count": 1
           },
           {
            "bin_start": 18,
            "bin_end": 19.2,
            "count": 0
           },
           {
            "bin_start": 19.2,
            "bin_end": 20.4,
            "count": 1
           },
           {
            "bin_start": 20.4,
            "bin_end": 21.6,
            "count": 0
           },
           {
            "bin_start": 21.6,
            "bin_end": 22.799999999999997,
            "count": 0
           },
           {
            "bin_start": 22.799999999999997,
            "bin_end": 24,
            "count": 1
           }
          ]
         }
        },
        {
         "name": "Trans Fat (g)",
         "dtype": "float64",
         "stats": {
          "unique_count": 3,
          "nan_count": 0,
          "min": "1.5",
          "max": "3.0",
          "histogram": [
           {
            "bin_start": 1.5,
            "bin_end": 1.65,
            "count": 1
           },
           {
            "bin_start": 1.65,
            "bin_end": 1.8,
            "count": 0
           },
           {
            "bin_start": 1.8,
            "bin_end": 1.95,
            "count": 0
           },
           {
            "bin_start": 1.95,
            "bin_end": 2.1,
            "count": 2
           },
           {
            "bin_start": 2.1,
            "bin_end": 2.25,
            "count": 0
           },
           {
            "bin_start": 2.25,
            "bin_end": 2.4,
            "count": 0
           },
           {
            "bin_start": 2.4,
            "bin_end": 2.55,
            "count": 0
           },
           {
            "bin_start": 2.55,
            "bin_end": 2.7,
            "count": 0
           },
           {
            "bin_start": 2.7,
            "bin_end": 2.8499999999999996,
            "count": 0
           },
           {
            "bin_start": 2.8499999999999996,
            "bin_end": 3,
            "count": 2
           }
          ]
         }
        },
        {
         "name": "Chol (mg)",
         "dtype": "int64",
         "stats": {
          "unique_count": 5,
          "nan_count": 0,
          "min": "90",
          "max": "195",
          "histogram": [
           {
            "bin_start": 90,
            "bin_end": 100.5,
            "count": 1
           },
           {
            "bin_start": 100.5,
            "bin_end": 111,
            "count": 0
           },
           {
            "bin_start": 111,
            "bin_end": 121.5,
            "count": 1
           },
           {
            "bin_start": 121.5,
            "bin_end": 132,
            "count": 1
           },
           {
            "bin_start": 132,
            "bin_end": 142.5,
            "count": 0
           },
           {
            "bin_start": 142.5,
            "bin_end": 153,
            "count": 0
           },
           {
            "bin_start": 153,
            "bin_end": 163.5,
            "count": 0
           },
           {
            "bin_start": 163.5,
            "bin_end": 174,
            "count": 0
           },
           {
            "bin_start": 174,
            "bin_end": 184.5,
            "count": 1
           },
           {
            "bin_start": 184.5,
            "bin_end": 195,
            "count": 1
           }
          ]
         }
        },
        {
         "name": "Sodium (mg)",
         "dtype": "int64",
         "stats": {
          "unique_count": 5,
          "nan_count": 0,
          "min": "980",
          "max": "1560",
          "histogram": [
           {
            "bin_start": 980,
            "bin_end": 1038,
            "count": 1
           },
           {
            "bin_start": 1038,
            "bin_end": 1096,
            "count": 1
           },
           {
            "bin_start": 1096,
            "bin_end": 1154,
            "count": 0
           },
           {
            "bin_start": 1154,
            "bin_end": 1212,
            "count": 0
           },
           {
            "bin_start": 1212,
            "bin_end": 1270,
            "count": 0
           },
           {
            "bin_start": 1270,
            "bin_end": 1328,
            "count": 0
           },
           {
            "bin_start": 1328,
            "bin_end": 1386,
            "count": 1
           },
           {
            "bin_start": 1386,
            "bin_end": 1444,
            "count": 1
           },
           {
            "bin_start": 1444,
            "bin_end": 1502,
            "count": 0
           },
           {
            "bin_start": 1502,
            "bin_end": 1560,
            "count": 1
           }
          ]
         }
        },
        {
         "name": "Total Carb (g)",
         "dtype": "int64",
         "stats": {
          "unique_count": 2,
          "nan_count": 0,
          "min": "49",
          "max": "50",
          "histogram": [
           {
            "bin_start": 49,
            "bin_end": 49.1,
            "count": 2
           },
           {
            "bin_start": 49.1,
            "bin_end": 49.2,
            "count": 0
           },
           {
            "bin_start": 49.2,
            "bin_end": 49.3,
            "count": 0
           },
           {
            "bin_start": 49.3,
            "bin_end": 49.4,
            "count": 0
           },
           {
            "bin_start": 49.4,
            "bin_end": 49.5,
            "count": 0
           },
           {
            "bin_start": 49.5,
            "bin_end": 49.6,
            "count": 0
           },
           {
            "bin_start": 49.6,
            "bin_end": 49.7,
            "count": 0
           },
           {
            "bin_start": 49.7,
            "bin_end": 49.8,
            "count": 0
           },
           {
            "bin_start": 49.8,
            "bin_end": 49.9,
            "count": 0
           },
           {
            "bin_start": 49.9,
            "bin_end": 50,
            "count": 3
           }
          ]
         }
        },
        {
         "name": "Dietary Fiber (g)",
         "dtype": "int64",
         "stats": {
          "unique_count": 1,
          "nan_count": 0,
          "min": "2",
          "max": "2",
          "histogram": [
           {
            "bin_start": 1.5,
            "bin_end": 1.6,
            "count": 0
           },
           {
            "bin_start": 1.6,
            "bin_end": 1.7,
            "count": 0
           },
           {
            "bin_start": 1.7,
            "bin_end": 1.8,
            "count": 0
           },
           {
            "bin_start": 1.8,
            "bin_end": 1.9,
            "count": 0
           },
           {
            "bin_start": 1.9,
            "bin_end": 2,
            "count": 0
           },
           {
            "bin_start": 2,
            "bin_end": 2.1,
            "count": 5
           },
           {
            "bin_start": 2.1,
            "bin_end": 2.2,
            "count": 0
           },
           {
            "bin_start": 2.2,
            "bin_end": 2.3,
            "count": 0
           },
           {
            "bin_start": 2.3,
            "bin_end": 2.4,
            "count": 0
           },
           {
            "bin_start": 2.4,
            "bin_end": 2.5,
            "count": 0
           }
          ]
         }
        },
        {
         "name": "Total Sugar (g)",
         "dtype": "int64",
         "stats": {
          "unique_count": 1,
          "nan_count": 0,
          "min": "11",
          "max": "11",
          "histogram": [
           {
            "bin_start": 10.5,
            "bin_end": 10.6,
            "count": 0
           },
           {
            "bin_start": 10.6,
            "bin_end": 10.7,
            "count": 0
           },
           {
            "bin_start": 10.7,
            "bin_end": 10.8,
            "count": 0
           },
           {
            "bin_start": 10.8,
            "bin_end": 10.9,
            "count": 0
           },
           {
            "bin_start": 10.9,
            "bin_end": 11,
            "count": 0
           },
           {
            "bin_start": 11,
            "bin_end": 11.1,
            "count": 5
           },
           {
            "bin_start": 11.1,
            "bin_end": 11.2,
            "count": 0
           },
           {
            "bin_start": 11.2,
            "bin_end": 11.3,
            "count": 0
           },
           {
            "bin_start": 11.3,
            "bin_end": 11.4,
            "count": 0
           },
           {
            "bin_start": 11.4,
            "bin_end": 11.5,
            "count": 0
           }
          ]
         }
        },
        {
         "name": "Protein (g)",
         "dtype": "int64",
         "stats": {
          "unique_count": 5,
          "nan_count": 0,
          "min": "28",
          "max": "52",
          "histogram": [
           {
            "bin_start": 28,
            "bin_end": 30.4,
            "count": 1
           },
           {
            "bin_start": 30.4,
            "bin_end": 32.8,
            "count": 1
           },
           {
            "bin_start": 32.8,
            "bin_end": 35.2,
            "count": 1
           },
           {
            "bin_start": 35.2,
            "bin_end": 37.6,
            "count": 0
           },
           {
            "bin_start": 37.6,
            "bin_end": 40,
            "count": 0
           },
           {
            "bin_start": 40,
            "bin_end": 42.4,
            "count": 0
           },
           {
            "bin_start": 42.4,
            "bin_end": 44.8,
            "count": 0
           },
           {
            "bin_start": 44.8,
            "bin_end": 47.2,
            "count": 0
           },
           {
            "bin_start": 47.2,
            "bin_end": 49.599999999999994,
            "count": 1
           },
           {
            "bin_start": 49.599999999999994,
            "bin_end": 52,
            "count": 1
           }
          ]
         }
        },
        {
         "name": "_deepnote_index_column",
         "dtype": "int64"
        }
       ],
       "rows": [
        {
         "Category": "WHOPPER SANDWICHES",
         "Product Name": "WHOPPER Sandwich",
         "Serving Size (g)": 270,
         "Calories": 660,
         "Calories from fat": 360,
         "Total fat (g)": 40,
         "Saturated Fat (g)": 12,
         "Trans Fat (g)": 1.5,
         "Chol (mg)": 90,
         "Sodium (mg)": 980,
         "Total Carb (g)": 49,
         "Dietary Fiber (g)": 2,
         "Total Sugar (g)": 11,
         "Protein (g)": 28,
         "_deepnote_index_column": 0
        },
        {
         "Category": "WHOPPER SANDWICHES",
         "Product Name": "WHOPPER Sandwich with Cheese",
         "Serving Size (g)": 292,
         "Calories": 740,
         "Calories from fat": 420,
         "Total fat (g)": 46,
         "Saturated Fat (g)": 16,
         "Trans Fat (g)": 2,
         "Chol (mg)": 115,
         "Sodium (mg)": 1340,
         "Total Carb (g)": 50,
         "Dietary Fiber (g)": 2,
         "Total Sugar (g)": 11,
         "Protein (g)": 32,
         "_deepnote_index_column": 1
        },
        {
         "Category": "WHOPPER SANDWICHES",
         "Product Name": "Bacon & Cheese WHOPPER Sandwich",
         "Serving Size (g)": 303,
         "Calories": 790,
         "Calories from fat": 460,
         "Total fat (g)": 51,
         "Saturated Fat (g)": 17,
         "Trans Fat (g)": 2,
         "Chol (mg)": 125,
         "Sodium (mg)": 1560,
         "Total Carb (g)": 50,
         "Dietary Fiber (g)": 2,
         "Total Sugar (g)": 11,
         "Protein (g)": 35,
         "_deepnote_index_column": 2
        },
        {
         "Category": "WHOPPER SANDWICHES",
         "Product Name": "DOUBLE WHOPPER Sandwich",
         "Serving Size (g)": 354,
         "Calories": 900,
         "Calories from fat": 520,
         "Total fat (g)": 58,
         "Saturated Fat (g)": 20,
         "Trans Fat (g)": 3,
         "Chol (mg)": 175,
         "Sodium (mg)": 1050,
         "Total Carb (g)": 49,
         "Dietary Fiber (g)": 2,
         "Total Sugar (g)": 11,
         "Protein (g)": 48,
         "_deepnote_index_column": 3
        },
        {
         "Category": "WHOPPER SANDWICHES",
         "Product Name": "DOUBLE WHOPPER Sandwich with Cheese",
         "Serving Size (g)": 377,
         "Calories": 980,
         "Calories from fat": 580,
         "Total fat (g)": 64,
         "Saturated Fat (g)": 24,
         "Trans Fat (g)": 3,
         "Chol (mg)": 195,
         "Sodium (mg)": 1410,
         "Total Carb (g)": 50,
         "Dietary Fiber (g)": 2,
         "Total Sugar (g)": 11,
         "Protein (g)": 52,
         "_deepnote_index_column": 4
        }
       ]
      },
      "text/plain": "             Category                         Product Name  Serving Size (g)  \\\n0  WHOPPER SANDWICHES                     WHOPPER Sandwich             270.0   \n1  WHOPPER SANDWICHES         WHOPPER Sandwich with Cheese             292.0   \n2  WHOPPER SANDWICHES      Bacon & Cheese WHOPPER Sandwich             303.0   \n3  WHOPPER SANDWICHES              DOUBLE WHOPPER Sandwich             354.0   \n4  WHOPPER SANDWICHES  DOUBLE WHOPPER Sandwich with Cheese             377.0   \n\n   Calories  Calories from fat  Total fat (g)  Saturated Fat (g)  \\\n0       660                360           40.0               12.0   \n1       740                420           46.0               16.0   \n2       790                460           51.0               17.0   \n3       900                520           58.0               20.0   \n4       980                580           64.0               24.0   \n\n   Trans Fat (g)  Chol (mg)  Sodium (mg)  Total Carb (g)  Dietary Fiber (g)  \\\n0            1.5         90          980              49                  2   \n1            2.0        115         1340              50                  2   \n2            2.0        125         1560              50                  2   \n3            3.0        175         1050              49                  2   \n4            3.0        195         1410              50                  2   \n\n   Total Sugar (g)  Protein (g)  \n0               11           28  \n1               11           32  \n2               11           35  \n3               11           48  \n4               11           52  ",
      "text/html": "<div>\n<style scoped>\n    .dataframe tbody tr th:only-of-type {\n        vertical-align: middle;\n    }\n\n    .dataframe tbody tr th {\n        vertical-align: top;\n    }\n\n    .dataframe thead th {\n        text-align: right;\n    }\n</style>\n<table border=\"1\" class=\"dataframe\">\n  <thead>\n    <tr style=\"text-align: right;\">\n      <th></th>\n      <th>Category</th>\n      <th>Product Name</th>\n      <th>Serving Size (g)</th>\n      <th>Calories</th>\n      <th>Calories from fat</th>\n      <th>Total fat (g)</th>\n      <th>Saturated Fat (g)</th>\n      <th>Trans Fat (g)</th>\n      <th>Chol (mg)</th>\n      <th>Sodium (mg)</th>\n      <th>Total Carb (g)</th>\n      <th>Dietary Fiber (g)</th>\n      <th>Total Sugar (g)</th>\n      <th>Protein (g)</th>\n    </tr>\n  </thead>\n  <tbody>\n    <tr>\n      <th>0</th>\n      <td>WHOPPER SANDWICHES</td>\n      <td>WHOPPER Sandwich</td>\n      <td>270.0</td>\n      <td>660</td>\n      <td>360</td>\n      <td>40.0</td>\n      <td>12.0</td>\n      <td>1.5</td>\n      <td>90</td>\n      <td>980</td>\n      <td>49</td>\n      <td>2</td>\n      <td>11</td>\n      <td>28</td>\n    </tr>\n    <tr>\n      <th>1</th>\n      <td>WHOPPER SANDWICHES</td>\n      <td>WHOPPER Sandwich with Cheese</td>\n      <td>292.0</td>\n      <td>740</td>\n      <td>420</td>\n      <td>46.0</td>\n      <td>16.0</td>\n      <td>2.0</td>\n      <td>115</td>\n      <td>1340</td>\n      <td>50</td>\n      <td>2</td>\n      <td>11</td>\n      <td>32</td>\n    </tr>\n    <tr>\n      <th>2</th>\n      <td>WHOPPER SANDWICHES</td>\n      <td>Bacon &amp; Cheese WHOPPER Sandwich</td>\n      <td>303.0</td>\n      <td>790</td>\n      <td>460</td>\n      <td>51.0</td>\n      <td>17.0</td>\n      <td>2.0</td>\n      <td>125</td>\n      <td>1560</td>\n      <td>50</td>\n      <td>2</td>\n      <td>11</td>\n      <td>35</td>\n    </tr>\n    <tr>\n      <th>3</th>\n      <td>WHOPPER SANDWICHES</td>\n      <td>DOUBLE WHOPPER Sandwich</td>\n      <td>354.0</td>\n      <td>900</td>\n      <td>520</td>\n      <td>58.0</td>\n      <td>20.0</td>\n      <td>3.0</td>\n      <td>175</td>\n      <td>1050</td>\n      <td>49</td>\n      <td>2</td>\n      <td>11</td>\n      <td>48</td>\n    </tr>\n    <tr>\n      <th>4</th>\n      <td>WHOPPER SANDWICHES</td>\n      <td>DOUBLE WHOPPER Sandwich with Cheese</td>\n      <td>377.0</td>\n      <td>980</td>\n      <td>580</td>\n      <td>64.0</td>\n      <td>24.0</td>\n      <td>3.0</td>\n      <td>195</td>\n      <td>1410</td>\n      <td>50</td>\n      <td>2</td>\n      <td>11</td>\n      <td>52</td>\n    </tr>\n  </tbody>\n</table>\n</div>"
     },
     "metadata": {}
    }
   ]
  },
  {
   "cell_type": "code",
   "metadata": {
    "cell_id": "ff4edbdc1f72436c8dd7c3dc52bccdf4",
    "tags": [],
    "deepnote_to_be_reexecuted": false,
    "source_hash": "37de7835",
    "execution_start": 1650810989269,
    "execution_millis": 167,
    "deepnote_cell_type": "code",
    "deepnote_cell_height": 430
   },
   "source": "mcd_data = pd.read_csv('datasets/1_mcdonalds_data.csv')\nmcd_data.head()",
   "execution_count": 4,
   "outputs": [
    {
     "output_type": "execute_result",
     "execution_count": 4,
     "data": {
      "application/vnd.deepnote.dataframe.v3+json": {
       "column_count": 24,
       "row_count": 5,
       "columns": [
        {
         "name": "Category",
         "dtype": "object",
         "stats": {
          "unique_count": 1,
          "nan_count": 0,
          "categories": [
           {
            "name": "Breakfast",
            "count": 5
           }
          ]
         }
        },
        {
         "name": "Item",
         "dtype": "object",
         "stats": {
          "unique_count": 5,
          "nan_count": 0,
          "categories": [
           {
            "name": "Egg McMuffin",
            "count": 1
           },
           {
            "name": "Egg White Delight",
            "count": 1
           },
           {
            "name": "3 others",
            "count": 3
           }
          ]
         }
        },
        {
         "name": "Serving Size",
         "dtype": "object",
         "stats": {
          "unique_count": 4,
          "nan_count": 0,
          "categories": [
           {
            "name": "5.7 oz (161 g)",
            "count": 2
           },
           {
            "name": "4.8 oz (136 g)",
            "count": 1
           },
           {
            "name": "2 others",
            "count": 2
           }
          ]
         }
        },
        {
         "name": "Calories",
         "dtype": "int64",
         "stats": {
          "unique_count": 5,
          "nan_count": 0,
          "min": "250",
          "max": "450",
          "histogram": [
           {
            "bin_start": 250,
            "bin_end": 270,
            "count": 1
           },
           {
            "bin_start": 270,
            "bin_end": 290,
            "count": 0
           },
           {
            "bin_start": 290,
            "bin_end": 310,
            "count": 1
           },
           {
            "bin_start": 310,
            "bin_end": 330,
            "count": 0
           },
           {
            "bin_start": 330,
            "bin_end": 350,
            "count": 0
           },
           {
            "bin_start": 350,
            "bin_end": 370,
            "count": 0
           },
           {
            "bin_start": 370,
            "bin_end": 390,
            "count": 1
           },
           {
            "bin_start": 390,
            "bin_end": 410,
            "count": 1
           },
           {
            "bin_start": 410,
            "bin_end": 430,
            "count": 0
           },
           {
            "bin_start": 430,
            "bin_end": 450,
            "count": 1
           }
          ]
         }
        },
        {
         "name": "Calories from Fat",
         "dtype": "int64",
         "stats": {
          "unique_count": 5,
          "nan_count": 0,
          "min": "70",
          "max": "250",
          "histogram": [
           {
            "bin_start": 70,
            "bin_end": 88,
            "count": 1
           },
           {
            "bin_start": 88,
            "bin_end": 106,
            "count": 0
           },
           {
            "bin_start": 106,
            "bin_end": 124,
            "count": 1
           },
           {
            "bin_start": 124,
            "bin_end": 142,
            "count": 0
           },
           {
            "bin_start": 142,
            "bin_end": 160,
            "count": 0
           },
           {
            "bin_start": 160,
            "bin_end": 178,
            "count": 0
           },
           {
            "bin_start": 178,
            "bin_end": 196,
            "count": 0
           },
           {
            "bin_start": 196,
            "bin_end": 214,
            "count": 2
           },
           {
            "bin_start": 214,
            "bin_end": 232,
            "count": 0
           },
           {
            "bin_start": 232,
            "bin_end": 250,
            "count": 1
           }
          ]
         }
        },
        {
         "name": "Total Fat",
         "dtype": "float64",
         "stats": {
          "unique_count": 4,
          "nan_count": 0,
          "min": "8.0",
          "max": "28.0",
          "histogram": [
           {
            "bin_start": 8,
            "bin_end": 10,
            "count": 1
           },
           {
            "bin_start": 10,
            "bin_end": 12,
            "count": 0
           },
           {
            "bin_start": 12,
            "bin_end": 14,
            "count": 1
           },
           {
            "bin_start": 14,
            "bin_end": 16,
            "count": 0
           },
           {
            "bin_start": 16,
            "bin_end": 18,
            "count": 0
           },
           {
            "bin_start": 18,
            "bin_end": 20,
            "count": 0
           },
           {
            "bin_start": 20,
            "bin_end": 22,
            "count": 0
           },
           {
            "bin_start": 22,
            "bin_end": 24,
            "count": 2
           },
           {
            "bin_start": 24,
            "bin_end": 26,
            "count": 0
           },
           {
            "bin_start": 26,
            "bin_end": 28,
            "count": 1
           }
          ]
         }
        },
        {
         "name": "Total Fat (% Daily Value)",
         "dtype": "int64",
         "stats": {
          "unique_count": 4,
          "nan_count": 0,
          "min": "12",
          "max": "43",
          "histogram": [
           {
            "bin_start": 12,
            "bin_end": 15.1,
            "count": 1
           },
           {
            "bin_start": 15.1,
            "bin_end": 18.2,
            "count": 0
           },
           {
            "bin_start": 18.2,
            "bin_end": 21.3,
            "count": 1
           },
           {
            "bin_start": 21.3,
            "bin_end": 24.4,
            "count": 0
           },
           {
            "bin_start": 24.4,
            "bin_end": 27.5,
            "count": 0
           },
           {
            "bin_start": 27.5,
            "bin_end": 30.6,
            "count": 0
           },
           {
            "bin_start": 30.6,
            "bin_end": 33.7,
            "count": 0
           },
           {
            "bin_start": 33.7,
            "bin_end": 36.8,
            "count": 2
           },
           {
            "bin_start": 36.8,
            "bin_end": 39.900000000000006,
            "count": 0
           },
           {
            "bin_start": 39.900000000000006,
            "bin_end": 43,
            "count": 1
           }
          ]
         }
        },
        {
         "name": "Saturated Fat",
         "dtype": "float64",
         "stats": {
          "unique_count": 4,
          "nan_count": 0,
          "min": "3.0",
          "max": "10.0",
          "histogram": [
           {
            "bin_start": 3,
            "bin_end": 3.7,
            "count": 1
           },
           {
            "bin_start": 3.7,
            "bin_end": 4.4,
            "count": 0
           },
           {
            "bin_start": 4.4,
            "bin_end": 5.1,
            "count": 1
           },
           {
            "bin_start": 5.1,
            "bin_end": 5.8,
            "count": 0
           },
           {
            "bin_start": 5.8,
            "bin_end": 6.5,
            "count": 0
           },
           {
            "bin_start": 6.5,
            "bin_end": 7.199999999999999,
            "count": 0
           },
           {
            "bin_start": 7.199999999999999,
            "bin_end": 7.8999999999999995,
            "count": 0
           },
           {
            "bin_start": 7.8999999999999995,
            "bin_end": 8.6,
            "count": 2
           },
           {
            "bin_start": 8.6,
            "bin_end": 9.3,
            "count": 0
           },
           {
            "bin_start": 9.3,
            "bin_end": 10,
            "count": 1
           }
          ]
         }
        },
        {
         "name": "Saturated Fat (% Daily Value)",
         "dtype": "int64",
         "stats": {
          "unique_count": 4,
          "nan_count": 0,
          "min": "15",
          "max": "52",
          "histogram": [
           {
            "bin_start": 15,
            "bin_end": 18.7,
            "count": 1
           },
           {
            "bin_start": 18.7,
            "bin_end": 22.4,
            "count": 0
           },
           {
            "bin_start": 22.4,
            "bin_end": 26.1,
            "count": 1
           },
           {
            "bin_start": 26.1,
            "bin_end": 29.8,
            "count": 0
           },
           {
            "bin_start": 29.8,
            "bin_end": 33.5,
            "count": 0
           },
           {
            "bin_start": 33.5,
            "bin_end": 37.2,
            "count": 0
           },
           {
            "bin_start": 37.2,
            "bin_end": 40.900000000000006,
            "count": 0
           },
           {
            "bin_start": 40.900000000000006,
            "bin_end": 44.6,
            "count": 2
           },
           {
            "bin_start": 44.6,
            "bin_end": 48.300000000000004,
            "count": 0
           },
           {
            "bin_start": 48.300000000000004,
            "bin_end": 52,
            "count": 1
           }
          ]
         }
        },
        {
         "name": "Trans Fat",
         "dtype": "float64",
         "stats": {
          "unique_count": 1,
          "nan_count": 0,
          "min": "0.0",
          "max": "0.0",
          "histogram": [
           {
            "bin_start": -0.5,
            "bin_end": -0.4,
            "count": 0
           },
           {
            "bin_start": -0.4,
            "bin_end": -0.3,
            "count": 0
           },
           {
            "bin_start": -0.3,
            "bin_end": -0.19999999999999996,
            "count": 0
           },
           {
            "bin_start": -0.19999999999999996,
            "bin_end": -0.09999999999999998,
            "count": 0
           },
           {
            "bin_start": -0.09999999999999998,
            "bin_end": 0,
            "count": 0
           },
           {
            "bin_start": 0,
            "bin_end": 0.10000000000000009,
            "count": 5
           },
           {
            "bin_start": 0.10000000000000009,
            "bin_end": 0.20000000000000007,
            "count": 0
           },
           {
            "bin_start": 0.20000000000000007,
            "bin_end": 0.30000000000000004,
            "count": 0
           },
           {
            "bin_start": 0.30000000000000004,
            "bin_end": 0.4,
            "count": 0
           },
           {
            "bin_start": 0.4,
            "bin_end": 0.5,
            "count": 0
           }
          ]
         }
        },
        {
         "name": "Cholesterol",
         "dtype": "int64",
         "stats": {
          "unique_count": 5,
          "nan_count": 0,
          "min": "25",
          "max": "285",
          "histogram": [
           {
            "bin_start": 25,
            "bin_end": 51,
            "count": 3
           },
           {
            "bin_start": 51,
            "bin_end": 77,
            "count": 0
           },
           {
            "bin_start": 77,
            "bin_end": 103,
            "count": 0
           },
           {
            "bin_start": 103,
            "bin_end": 129,
            "count": 0
           },
           {
            "bin_start": 129,
            "bin_end": 155,
            "count": 0
           },
           {
            "bin_start": 155,
            "bin_end": 181,
            "count": 0
           },
           {
            "bin_start": 181,
            "bin_end": 207,
            "count": 0
           },
           {
            "bin_start": 207,
            "bin_end": 233,
            "count": 0
           },
           {
            "bin_start": 233,
            "bin_end": 259,
            "count": 0
           },
           {
            "bin_start": 259,
            "bin_end": 285,
            "count": 2
           }
          ]
         }
        },
        {
         "name": "Cholesterol (% Daily Value)",
         "dtype": "int64",
         "stats": {
          "unique_count": 5,
          "nan_count": 0,
          "min": "8",
          "max": "95",
          "histogram": [
           {
            "bin_start": 8,
            "bin_end": 16.7,
            "count": 3
           },
           {
            "bin_start": 16.7,
            "bin_end": 25.4,
            "count": 0
           },
           {
            "bin_start": 25.4,
            "bin_end": 34.099999999999994,
            "count": 0
           },
           {
            "bin_start": 34.099999999999994,
            "bin_end": 42.8,
            "count": 0
           },
           {
            "bin_start": 42.8,
            "bin_end": 51.5,
            "count": 0
           },
           {
            "bin_start": 51.5,
            "bin_end": 60.199999999999996,
            "count": 0
           },
           {
            "bin_start": 60.199999999999996,
            "bin_end": 68.89999999999999,
            "count": 0
           },
           {
            "bin_start": 68.89999999999999,
            "bin_end": 77.6,
            "count": 0
           },
           {
            "bin_start": 77.6,
            "bin_end": 86.3,
            "count": 0
           },
           {
            "bin_start": 86.3,
            "bin_end": 95,
            "count": 2
           }
          ]
         }
        },
        {
         "name": "Sodium",
         "dtype": "int64",
         "stats": {
          "unique_count": 5,
          "nan_count": 0,
          "min": "750",
          "max": "880",
          "histogram": [
           {
            "bin_start": 750,
            "bin_end": 763,
            "count": 1
           },
           {
            "bin_start": 763,
            "bin_end": 776,
            "count": 1
           },
           {
            "bin_start": 776,
            "bin_end": 789,
            "count": 1
           },
           {
            "bin_start": 789,
            "bin_end": 802,
            "count": 0
           },
           {
            "bin_start": 802,
            "bin_end": 815,
            "count": 0
           },
           {
            "bin_start": 815,
            "bin_end": 828,
            "count": 0
           },
           {
            "bin_start": 828,
            "bin_end": 841,
            "count": 0
           },
           {
            "bin_start": 841,
            "bin_end": 854,
            "count": 0
           },
           {
            "bin_start": 854,
            "bin_end": 867,
            "count": 1
           },
           {
            "bin_start": 867,
            "bin_end": 880,
            "count": 1
           }
          ]
         }
        },
        {
         "name": "Sodium (% Daily Value)",
         "dtype": "int64",
         "stats": {
          "unique_count": 5,
          "nan_count": 0,
          "min": "31",
          "max": "37",
          "histogram": [
           {
            "bin_start": 31,
            "bin_end": 31.6,
            "count": 1
           },
           {
            "bin_start": 31.6,
            "bin_end": 32.2,
            "count": 1
           },
           {
            "bin_start": 32.2,
            "bin_end": 32.8,
            "count": 0
           },
           {
            "bin_start": 32.8,
            "bin_end": 33.4,
            "count": 1
           },
           {
            "bin_start": 33.4,
            "bin_end": 34,
            "count": 0
           },
           {
            "bin_start": 34,
            "bin_end": 34.6,
            "count": 0
           },
           {
            "bin_start": 34.6,
            "bin_end": 35.2,
            "count": 0
           },
           {
            "bin_start": 35.2,
            "bin_end": 35.8,
            "count": 0
           },
           {
            "bin_start": 35.8,
            "bin_end": 36.4,
            "count": 1
           },
           {
            "bin_start": 36.4,
            "bin_end": 37,
            "count": 1
           }
          ]
         }
        },
        {
         "name": "Carbohydrates",
         "dtype": "int64",
         "stats": {
          "unique_count": 3,
          "nan_count": 0,
          "min": "29",
          "max": "31",
          "histogram": [
           {
            "bin_start": 29,
            "bin_end": 29.2,
            "count": 1
           },
           {
            "bin_start": 29.2,
            "bin_end": 29.4,
            "count": 0
           },
           {
            "bin_start": 29.4,
            "bin_end": 29.6,
            "count": 0
           },
           {
            "bin_start": 29.6,
            "bin_end": 29.8,
            "count": 0
           },
           {
            "bin_start": 29.8,
            "bin_end": 30,
            "count": 0
           },
           {
            "bin_start": 30,
            "bin_end": 30.2,
            "count": 3
           },
           {
            "bin_start": 30.2,
            "bin_end": 30.4,
            "count": 0
           },
           {
            "bin_start": 30.4,
            "bin_end": 30.6,
            "count": 0
           },
           {
            "bin_start": 30.6,
            "bin_end": 30.8,
            "count": 0
           },
           {
            "bin_start": 30.8,
            "bin_end": 31,
            "count": 1
           }
          ]
         }
        },
        {
         "name": "Carbohydrates (% Daily Value)",
         "dtype": "int64",
         "stats": {
          "unique_count": 1,
          "nan_count": 0,
          "min": "10",
          "max": "10",
          "histogram": [
           {
            "bin_start": 9.5,
            "bin_end": 9.6,
            "count": 0
           },
           {
            "bin_start": 9.6,
            "bin_end": 9.7,
            "count": 0
           },
           {
            "bin_start": 9.7,
            "bin_end": 9.8,
            "count": 0
           },
           {
            "bin_start": 9.8,
            "bin_end": 9.9,
            "count": 0
           },
           {
            "bin_start": 9.9,
            "bin_end": 10,
            "count": 0
           },
           {
            "bin_start": 10,
            "bin_end": 10.1,
            "count": 5
           },
           {
            "bin_start": 10.1,
            "bin_end": 10.2,
            "count": 0
           },
           {
            "bin_start": 10.2,
            "bin_end": 10.3,
            "count": 0
           },
           {
            "bin_start": 10.3,
            "bin_end": 10.4,
            "count": 0
           },
           {
            "bin_start": 10.4,
            "bin_end": 10.5,
            "count": 0
           }
          ]
         }
        },
        {
         "name": "Dietary Fiber",
         "dtype": "int64",
         "stats": {
          "unique_count": 1,
          "nan_count": 0,
          "min": "4",
          "max": "4",
          "histogram": [
           {
            "bin_start": 3.5,
            "bin_end": 3.6,
            "count": 0
           },
           {
            "bin_start": 3.6,
            "bin_end": 3.7,
            "count": 0
           },
           {
            "bin_start": 3.7,
            "bin_end": 3.8,
            "count": 0
           },
           {
            "bin_start": 3.8,
            "bin_end": 3.9,
            "count": 0
           },
           {
            "bin_start": 3.9,
            "bin_end": 4,
            "count": 0
           },
           {
            "bin_start": 4,
            "bin_end": 4.1,
            "count": 5
           },
           {
            "bin_start": 4.1,
            "bin_end": 4.2,
            "count": 0
           },
           {
            "bin_start": 4.2,
            "bin_end": 4.3,
            "count": 0
           },
           {
            "bin_start": 4.3,
            "bin_end": 4.4,
            "count": 0
           },
           {
            "bin_start": 4.4,
            "bin_end": 4.5,
            "count": 0
           }
          ]
         }
        },
        {
         "name": "Dietary Fiber (% Daily Value)",
         "dtype": "int64",
         "stats": {
          "unique_count": 1,
          "nan_count": 0,
          "min": "17",
          "max": "17",
          "histogram": [
           {
            "bin_start": 16.5,
            "bin_end": 16.6,
            "count": 0
           },
           {
            "bin_start": 16.6,
            "bin_end": 16.7,
            "count": 0
           },
           {
            "bin_start": 16.7,
            "bin_end": 16.8,
            "count": 0
           },
           {
            "bin_start": 16.8,
            "bin_end": 16.9,
            "count": 0
           },
           {
            "bin_start": 16.9,
            "bin_end": 17,
            "count": 0
           },
           {
            "bin_start": 17,
            "bin_end": 17.1,
            "count": 5
           },
           {
            "bin_start": 17.1,
            "bin_end": 17.2,
            "count": 0
           },
           {
            "bin_start": 17.2,
            "bin_end": 17.3,
            "count": 0
           },
           {
            "bin_start": 17.3,
            "bin_end": 17.4,
            "count": 0
           },
           {
            "bin_start": 17.4,
            "bin_end": 17.5,
            "count": 0
           }
          ]
         }
        },
        {
         "name": "Sugars",
         "dtype": "int64",
         "stats": {
          "unique_count": 2,
          "nan_count": 0,
          "min": "2",
          "max": "3",
          "histogram": [
           {
            "bin_start": 2,
            "bin_end": 2.1,
            "count": 3
           },
           {
            "bin_start": 2.1,
            "bin_end": 2.2,
            "count": 0
           },
           {
            "bin_start": 2.2,
            "bin_end": 2.3,
            "count": 0
           },
           {
            "bin_start": 2.3,
            "bin_end": 2.4,
            "count": 0
           },
           {
            "bin_start": 2.4,
            "bin_end": 2.5,
            "count": 0
           },
           {
            "bin_start": 2.5,
            "bin_end": 2.6,
            "count": 0
           },
           {
            "bin_start": 2.6,
            "bin_end": 2.7,
            "count": 0
           },
           {
            "bin_start": 2.7,
            "bin_end": 2.8,
            "count": 0
           },
           {
            "bin_start": 2.8,
            "bin_end": 2.9,
            "count": 0
           },
           {
            "bin_start": 2.9,
            "bin_end": 3,
            "count": 2
           }
          ]
         }
        },
        {
         "name": "Protein",
         "dtype": "int64",
         "stats": {
          "unique_count": 4,
          "nan_count": 0,
          "min": "14",
          "max": "21",
          "histogram": [
           {
            "bin_start": 14,
            "bin_end": 14.7,
            "count": 1
           },
           {
            "bin_start": 14.7,
            "bin_end": 15.4,
            "count": 0
           },
           {
            "bin_start": 15.4,
            "bin_end": 16.1,
            "count": 0
           },
           {
            "bin_start": 16.1,
            "bin_end": 16.8,
            "count": 0
           },
           {
            "bin_start": 16.8,
            "bin_end": 17.5,
            "count": 1
           },
           {
            "bin_start": 17.5,
            "bin_end": 18.2,
            "count": 1
           },
           {
            "bin_start": 18.2,
            "bin_end": 18.9,
            "count": 0
           },
           {
            "bin_start": 18.9,
            "bin_end": 19.6,
            "count": 0
           },
           {
            "bin_start": 19.6,
            "bin_end": 20.3,
            "count": 0
           },
           {
            "bin_start": 20.3,
            "bin_end": 21,
            "count": 2
           }
          ]
         }
        },
        {
         "name": "Vitamin A (% Daily Value)",
         "dtype": "int64",
         "stats": {
          "unique_count": 4,
          "nan_count": 0,
          "min": "6",
          "max": "15",
          "histogram": [
           {
            "bin_start": 6,
            "bin_end": 6.9,
            "count": 2
           },
           {
            "bin_start": 6.9,
            "bin_end": 7.8,
            "count": 0
           },
           {
            "bin_start": 7.8,
            "bin_end": 8.7,
            "count": 1
           },
           {
            "bin_start": 8.7,
            "bin_end": 9.6,
            "count": 0
           },
           {
            "bin_start": 9.6,
            "bin_end": 10.5,
            "count": 1
           },
           {
            "bin_start": 10.5,
            "bin_end": 11.4,
            "count": 0
           },
           {
            "bin_start": 11.4,
            "bin_end": 12.3,
            "count": 0
           },
           {
            "bin_start": 12.3,
            "bin_end": 13.2,
            "count": 0
           },
           {
            "bin_start": 13.2,
            "bin_end": 14.1,
            "count": 0
           },
           {
            "bin_start": 14.1,
            "bin_end": 15,
            "count": 1
           }
          ]
         }
        },
        {
         "name": "Vitamin C (% Daily Value)",
         "dtype": "int64",
         "stats": {
          "unique_count": 1,
          "nan_count": 0,
          "min": "0",
          "max": "0",
          "histogram": [
           {
            "bin_start": -0.5,
            "bin_end": -0.4,
            "count": 0
           },
           {
            "bin_start": -0.4,
            "bin_end": -0.3,
            "count": 0
           },
           {
            "bin_start": -0.3,
            "bin_end": -0.19999999999999996,
            "count": 0
           },
           {
            "bin_start": -0.19999999999999996,
            "bin_end": -0.09999999999999998,
            "count": 0
           },
           {
            "bin_start": -0.09999999999999998,
            "bin_end": 0,
            "count": 0
           },
           {
            "bin_start": 0,
            "bin_end": 0.10000000000000009,
            "count": 5
           },
           {
            "bin_start": 0.10000000000000009,
            "bin_end": 0.20000000000000007,
            "count": 0
           },
           {
            "bin_start": 0.20000000000000007,
            "bin_end": 0.30000000000000004,
            "count": 0
           },
           {
            "bin_start": 0.30000000000000004,
            "bin_end": 0.4,
            "count": 0
           },
           {
            "bin_start": 0.4,
            "bin_end": 0.5,
            "count": 0
           }
          ]
         }
        },
        {
         "name": "Calcium (% Daily Value)",
         "dtype": "int64",
         "stats": {
          "unique_count": 2,
          "nan_count": 0,
          "min": "25",
          "max": "30",
          "histogram": [
           {
            "bin_start": 25,
            "bin_end": 25.5,
            "count": 4
           },
           {
            "bin_start": 25.5,
            "bin_end": 26,
            "count": 0
           },
           {
            "bin_start": 26,
            "bin_end": 26.5,
            "count": 0
           },
           {
            "bin_start": 26.5,
            "bin_end": 27,
            "count": 0
           },
           {
            "bin_start": 27,
            "bin_end": 27.5,
            "count": 0
           },
           {
            "bin_start": 27.5,
            "bin_end": 28,
            "count": 0
           },
           {
            "bin_start": 28,
            "bin_end": 28.5,
            "count": 0
           },
           {
            "bin_start": 28.5,
            "bin_end": 29,
            "count": 0
           },
           {
            "bin_start": 29,
            "bin_end": 29.5,
            "count": 0
           },
           {
            "bin_start": 29.5,
            "bin_end": 30,
            "count": 1
           }
          ]
         }
        },
        {
         "name": "Iron (% Daily Value)",
         "dtype": "int64",
         "stats": {
          "unique_count": 3,
          "nan_count": 0,
          "min": "8",
          "max": "15",
          "histogram": [
           {
            "bin_start": 8,
            "bin_end": 8.7,
            "count": 1
           },
           {
            "bin_start": 8.7,
            "bin_end": 9.4,
            "count": 0
           },
           {
            "bin_start": 9.4,
            "bin_end": 10.1,
            "count": 2
           },
           {
            "bin_start": 10.1,
            "bin_end": 10.8,
            "count": 0
           },
           {
            "bin_start": 10.8,
            "bin_end": 11.5,
            "count": 0
           },
           {
            "bin_start": 11.5,
            "bin_end": 12.2,
            "count": 0
           },
           {
            "bin_start": 12.2,
            "bin_end": 12.899999999999999,
            "count": 0
           },
           {
            "bin_start": 12.899999999999999,
            "bin_end": 13.6,
            "count": 0
           },
           {
            "bin_start": 13.6,
            "bin_end": 14.3,
            "count": 0
           },
           {
            "bin_start": 14.3,
            "bin_end": 15,
            "count": 2
           }
          ]
         }
        },
        {
         "name": "_deepnote_index_column",
         "dtype": "int64"
        }
       ],
       "rows": [
        {
         "Category": "Breakfast",
         "Item": "Egg McMuffin",
         "Serving Size": "4.8 oz (136 g)",
         "Calories": 300,
         "Calories from Fat": 120,
         "Total Fat": 13,
         "Total Fat (% Daily Value)": 20,
         "Saturated Fat": 5,
         "Saturated Fat (% Daily Value)": 25,
         "Trans Fat": 0,
         "Cholesterol": 260,
         "Cholesterol (% Daily Value)": 87,
         "Sodium": 750,
         "Sodium (% Daily Value)": 31,
         "Carbohydrates": 31,
         "Carbohydrates (% Daily Value)": 10,
         "Dietary Fiber": 4,
         "Dietary Fiber (% Daily Value)": 17,
         "Sugars": 3,
         "Protein": 17,
         "Vitamin A (% Daily Value)": 10,
         "Vitamin C (% Daily Value)": 0,
         "Calcium (% Daily Value)": 25,
         "Iron (% Daily Value)": 15,
         "_deepnote_index_column": 0
        },
        {
         "Category": "Breakfast",
         "Item": "Egg White Delight",
         "Serving Size": "4.8 oz (135 g)",
         "Calories": 250,
         "Calories from Fat": 70,
         "Total Fat": 8,
         "Total Fat (% Daily Value)": 12,
         "Saturated Fat": 3,
         "Saturated Fat (% Daily Value)": 15,
         "Trans Fat": 0,
         "Cholesterol": 25,
         "Cholesterol (% Daily Value)": 8,
         "Sodium": 770,
         "Sodium (% Daily Value)": 32,
         "Carbohydrates": 30,
         "Carbohydrates (% Daily Value)": 10,
         "Dietary Fiber": 4,
         "Dietary Fiber (% Daily Value)": 17,
         "Sugars": 3,
         "Protein": 18,
         "Vitamin A (% Daily Value)": 6,
         "Vitamin C (% Daily Value)": 0,
         "Calcium (% Daily Value)": 25,
         "Iron (% Daily Value)": 8,
         "_deepnote_index_column": 1
        },
        {
         "Category": "Breakfast",
         "Item": "Sausage McMuffin",
         "Serving Size": "3.9 oz (111 g)",
         "Calories": 370,
         "Calories from Fat": 200,
         "Total Fat": 23,
         "Total Fat (% Daily Value)": 35,
         "Saturated Fat": 8,
         "Saturated Fat (% Daily Value)": 42,
         "Trans Fat": 0,
         "Cholesterol": 45,
         "Cholesterol (% Daily Value)": 15,
         "Sodium": 780,
         "Sodium (% Daily Value)": 33,
         "Carbohydrates": 29,
         "Carbohydrates (% Daily Value)": 10,
         "Dietary Fiber": 4,
         "Dietary Fiber (% Daily Value)": 17,
         "Sugars": 2,
         "Protein": 14,
         "Vitamin A (% Daily Value)": 8,
         "Vitamin C (% Daily Value)": 0,
         "Calcium (% Daily Value)": 25,
         "Iron (% Daily Value)": 10,
         "_deepnote_index_column": 2
        },
        {
         "Category": "Breakfast",
         "Item": "Sausage McMuffin with Egg",
         "Serving Size": "5.7 oz (161 g)",
         "Calories": 450,
         "Calories from Fat": 250,
         "Total Fat": 28,
         "Total Fat (% Daily Value)": 43,
         "Saturated Fat": 10,
         "Saturated Fat (% Daily Value)": 52,
         "Trans Fat": 0,
         "Cholesterol": 285,
         "Cholesterol (% Daily Value)": 95,
         "Sodium": 860,
         "Sodium (% Daily Value)": 36,
         "Carbohydrates": 30,
         "Carbohydrates (% Daily Value)": 10,
         "Dietary Fiber": 4,
         "Dietary Fiber (% Daily Value)": 17,
         "Sugars": 2,
         "Protein": 21,
         "Vitamin A (% Daily Value)": 15,
         "Vitamin C (% Daily Value)": 0,
         "Calcium (% Daily Value)": 30,
         "Iron (% Daily Value)": 15,
         "_deepnote_index_column": 3
        },
        {
         "Category": "Breakfast",
         "Item": "Sausage McMuffin with Egg Whites",
         "Serving Size": "5.7 oz (161 g)",
         "Calories": 400,
         "Calories from Fat": 210,
         "Total Fat": 23,
         "Total Fat (% Daily Value)": 35,
         "Saturated Fat": 8,
         "Saturated Fat (% Daily Value)": 42,
         "Trans Fat": 0,
         "Cholesterol": 50,
         "Cholesterol (% Daily Value)": 16,
         "Sodium": 880,
         "Sodium (% Daily Value)": 37,
         "Carbohydrates": 30,
         "Carbohydrates (% Daily Value)": 10,
         "Dietary Fiber": 4,
         "Dietary Fiber (% Daily Value)": 17,
         "Sugars": 2,
         "Protein": 21,
         "Vitamin A (% Daily Value)": 6,
         "Vitamin C (% Daily Value)": 0,
         "Calcium (% Daily Value)": 25,
         "Iron (% Daily Value)": 10,
         "_deepnote_index_column": 4
        }
       ]
      },
      "text/plain": "    Category                              Item    Serving Size  Calories  \\\n0  Breakfast                      Egg McMuffin  4.8 oz (136 g)       300   \n1  Breakfast                 Egg White Delight  4.8 oz (135 g)       250   \n2  Breakfast                  Sausage McMuffin  3.9 oz (111 g)       370   \n3  Breakfast         Sausage McMuffin with Egg  5.7 oz (161 g)       450   \n4  Breakfast  Sausage McMuffin with Egg Whites  5.7 oz (161 g)       400   \n\n   Calories from Fat  Total Fat  Total Fat (% Daily Value)  Saturated Fat  \\\n0                120       13.0                         20            5.0   \n1                 70        8.0                         12            3.0   \n2                200       23.0                         35            8.0   \n3                250       28.0                         43           10.0   \n4                210       23.0                         35            8.0   \n\n   Saturated Fat (% Daily Value)  Trans Fat  ...  Carbohydrates  \\\n0                             25        0.0  ...             31   \n1                             15        0.0  ...             30   \n2                             42        0.0  ...             29   \n3                             52        0.0  ...             30   \n4                             42        0.0  ...             30   \n\n   Carbohydrates (% Daily Value)  Dietary Fiber  \\\n0                             10              4   \n1                             10              4   \n2                             10              4   \n3                             10              4   \n4                             10              4   \n\n   Dietary Fiber (% Daily Value)  Sugars  Protein  Vitamin A (% Daily Value)  \\\n0                             17       3       17                         10   \n1                             17       3       18                          6   \n2                             17       2       14                          8   \n3                             17       2       21                         15   \n4                             17       2       21                          6   \n\n   Vitamin C (% Daily Value)  Calcium (% Daily Value)  Iron (% Daily Value)  \n0                          0                       25                    15  \n1                          0                       25                     8  \n2                          0                       25                    10  \n3                          0                       30                    15  \n4                          0                       25                    10  \n\n[5 rows x 24 columns]",
      "text/html": "<div>\n<style scoped>\n    .dataframe tbody tr th:only-of-type {\n        vertical-align: middle;\n    }\n\n    .dataframe tbody tr th {\n        vertical-align: top;\n    }\n\n    .dataframe thead th {\n        text-align: right;\n    }\n</style>\n<table border=\"1\" class=\"dataframe\">\n  <thead>\n    <tr style=\"text-align: right;\">\n      <th></th>\n      <th>Category</th>\n      <th>Item</th>\n      <th>Serving Size</th>\n      <th>Calories</th>\n      <th>Calories from Fat</th>\n      <th>Total Fat</th>\n      <th>Total Fat (% Daily Value)</th>\n      <th>Saturated Fat</th>\n      <th>Saturated Fat (% Daily Value)</th>\n      <th>Trans Fat</th>\n      <th>...</th>\n      <th>Carbohydrates</th>\n      <th>Carbohydrates (% Daily Value)</th>\n      <th>Dietary Fiber</th>\n      <th>Dietary Fiber (% Daily Value)</th>\n      <th>Sugars</th>\n      <th>Protein</th>\n      <th>Vitamin A (% Daily Value)</th>\n      <th>Vitamin C (% Daily Value)</th>\n      <th>Calcium (% Daily Value)</th>\n      <th>Iron (% Daily Value)</th>\n    </tr>\n  </thead>\n  <tbody>\n    <tr>\n      <th>0</th>\n      <td>Breakfast</td>\n      <td>Egg McMuffin</td>\n      <td>4.8 oz (136 g)</td>\n      <td>300</td>\n      <td>120</td>\n      <td>13.0</td>\n      <td>20</td>\n      <td>5.0</td>\n      <td>25</td>\n      <td>0.0</td>\n      <td>...</td>\n      <td>31</td>\n      <td>10</td>\n      <td>4</td>\n      <td>17</td>\n      <td>3</td>\n      <td>17</td>\n      <td>10</td>\n      <td>0</td>\n      <td>25</td>\n      <td>15</td>\n    </tr>\n    <tr>\n      <th>1</th>\n      <td>Breakfast</td>\n      <td>Egg White Delight</td>\n      <td>4.8 oz (135 g)</td>\n      <td>250</td>\n      <td>70</td>\n      <td>8.0</td>\n      <td>12</td>\n      <td>3.0</td>\n      <td>15</td>\n      <td>0.0</td>\n      <td>...</td>\n      <td>30</td>\n      <td>10</td>\n      <td>4</td>\n      <td>17</td>\n      <td>3</td>\n      <td>18</td>\n      <td>6</td>\n      <td>0</td>\n      <td>25</td>\n      <td>8</td>\n    </tr>\n    <tr>\n      <th>2</th>\n      <td>Breakfast</td>\n      <td>Sausage McMuffin</td>\n      <td>3.9 oz (111 g)</td>\n      <td>370</td>\n      <td>200</td>\n      <td>23.0</td>\n      <td>35</td>\n      <td>8.0</td>\n      <td>42</td>\n      <td>0.0</td>\n      <td>...</td>\n      <td>29</td>\n      <td>10</td>\n      <td>4</td>\n      <td>17</td>\n      <td>2</td>\n      <td>14</td>\n      <td>8</td>\n      <td>0</td>\n      <td>25</td>\n      <td>10</td>\n    </tr>\n    <tr>\n      <th>3</th>\n      <td>Breakfast</td>\n      <td>Sausage McMuffin with Egg</td>\n      <td>5.7 oz (161 g)</td>\n      <td>450</td>\n      <td>250</td>\n      <td>28.0</td>\n      <td>43</td>\n      <td>10.0</td>\n      <td>52</td>\n      <td>0.0</td>\n      <td>...</td>\n      <td>30</td>\n      <td>10</td>\n      <td>4</td>\n      <td>17</td>\n      <td>2</td>\n      <td>21</td>\n      <td>15</td>\n      <td>0</td>\n      <td>30</td>\n      <td>15</td>\n    </tr>\n    <tr>\n      <th>4</th>\n      <td>Breakfast</td>\n      <td>Sausage McMuffin with Egg Whites</td>\n      <td>5.7 oz (161 g)</td>\n      <td>400</td>\n      <td>210</td>\n      <td>23.0</td>\n      <td>35</td>\n      <td>8.0</td>\n      <td>42</td>\n      <td>0.0</td>\n      <td>...</td>\n      <td>30</td>\n      <td>10</td>\n      <td>4</td>\n      <td>17</td>\n      <td>2</td>\n      <td>21</td>\n      <td>6</td>\n      <td>0</td>\n      <td>25</td>\n      <td>10</td>\n    </tr>\n  </tbody>\n</table>\n<p>5 rows × 24 columns</p>\n</div>"
     },
     "metadata": {}
    }
   ]
  },
  {
   "cell_type": "markdown",
   "source": "## Data Preparation & Cleaning",
   "metadata": {
    "cell_id": "ba3361430ef8466aae07bc18ece7eb3b",
    "tags": [],
    "deepnote_cell_type": "markdown",
    "deepnote_cell_height": 70
   }
  },
  {
   "cell_type": "markdown",
   "source": "First, we want to remove beverages and any other categories that may be irrelevant (e.g. Subway has _bread_).",
   "metadata": {
    "cell_id": "9265fd89d3bc47a7a7e0842d78b15690",
    "tags": [],
    "deepnote_cell_type": "markdown",
    "deepnote_cell_height": 52.390625
   }
  },
  {
   "cell_type": "markdown",
   "source": "### 1. Subway",
   "metadata": {
    "cell_id": "fcf06c90a5794418a5764fe6439ac557",
    "tags": [],
    "deepnote_cell_type": "markdown",
    "deepnote_cell_height": 62
   }
  },
  {
   "cell_type": "code",
   "metadata": {
    "cell_id": "317c2fd1667841f19eb80c4fb4d30f30",
    "tags": [],
    "deepnote_to_be_reexecuted": false,
    "source_hash": "22f926d3",
    "execution_start": 1650810989445,
    "execution_millis": 65,
    "deepnote_cell_type": "code",
    "deepnote_cell_height": 118.1875,
    "deepnote_output_heights": [
     21.1875
    ]
   },
   "source": "subway_data.shape",
   "execution_count": 5,
   "outputs": [
    {
     "output_type": "execute_result",
     "execution_count": 5,
     "data": {
      "text/plain": "(267, 17)"
     },
     "metadata": {}
    }
   ]
  },
  {
   "cell_type": "code",
   "metadata": {
    "cell_id": "30d034c6fd2247148aed3c8940da10df",
    "tags": [],
    "deepnote_to_be_reexecuted": false,
    "source_hash": "91f6f61c",
    "execution_start": 1650810989509,
    "execution_millis": 2,
    "deepnote_cell_type": "code",
    "deepnote_cell_height": 576.5
   },
   "source": "subway_data.info()",
   "execution_count": 6,
   "outputs": [
    {
     "name": "stdout",
     "text": "<class 'pandas.core.frame.DataFrame'>\nRangeIndex: 267 entries, 0 to 266\nData columns (total 17 columns):\n #   Column             Non-Null Count  Dtype  \n---  ------             --------------  -----  \n 0   Unnamed: 0         267 non-null    object \n 1   Category           267 non-null    object \n 2   Serving Size (g)   267 non-null    int64  \n 3   Calories           267 non-null    int64  \n 4   Total Fat (g)      267 non-null    int64  \n 5   Saturated Fat (g)  267 non-null    float64\n 6   Trans Fat (g)      267 non-null    float64\n 7   Cholesterol (mg)   267 non-null    int64  \n 8   Sodium (mg)        267 non-null    int64  \n 9   Carbohydrates (g)  267 non-null    int64  \n 10  Dietary Fiber (g)  267 non-null    object \n 11  Sugars (g)         267 non-null    int64  \n 12  Protein (g)        267 non-null    int64  \n 13  Vitamin A % DV     267 non-null    int64  \n 14  Vitamin C % DV     267 non-null    int64  \n 15  Calcium % DV       267 non-null    int64  \n 16  Iron % DV          267 non-null    int64  \ndtypes: float64(2), int64(12), object(3)\nmemory usage: 35.6+ KB\n",
     "output_type": "stream"
    }
   ]
  },
  {
   "cell_type": "code",
   "metadata": {
    "cell_id": "9ab13dc714004e388e7fa91781e2074b",
    "tags": [],
    "deepnote_to_be_reexecuted": false,
    "source_hash": "e26b8792",
    "execution_start": 1650810989553,
    "execution_millis": 0,
    "deepnote_cell_type": "code",
    "deepnote_cell_height": 99
   },
   "source": "#renaming the first column\nsubway_data = subway_data.rename(columns={'Unnamed: 0':'Item'})",
   "execution_count": 7,
   "outputs": []
  },
  {
   "cell_type": "markdown",
   "source": "All columns should contain numerical data, but Dietary Fiber (G) is labelled as having an object type. Based on observation of the csv, this is because some menu items have been given '<1' dietary fiber. We will replace this with '0.5', a reasonable estimate.",
   "metadata": {
    "cell_id": "469b9ede72024460ac7852dcd115d5dc",
    "tags": [],
    "deepnote_cell_type": "markdown",
    "deepnote_cell_height": 74.78125
   }
  },
  {
   "cell_type": "code",
   "metadata": {
    "cell_id": "e1ff18c36764463bb73af7290ea964fc",
    "tags": [],
    "deepnote_to_be_reexecuted": false,
    "source_hash": "a9ed1258",
    "execution_start": 1650810989554,
    "execution_millis": 4,
    "deepnote_cell_type": "code",
    "deepnote_cell_height": 137.375,
    "deepnote_output_heights": [
     40.375
    ]
   },
   "source": "subway_data[\"Dietary Fiber (g)\"].unique()",
   "execution_count": 8,
   "outputs": [
    {
     "output_type": "execute_result",
     "execution_count": 8,
     "data": {
      "text/plain": "array(['1', '4', '2', '3', '6', '0', '12', '8', '5', '20', '<1', '7',\n       '19', '26'], dtype=object)"
     },
     "metadata": {}
    }
   ]
  },
  {
   "cell_type": "code",
   "metadata": {
    "cell_id": "36ccc2e70b9e4fc1b1bba65fbf9c74b6",
    "tags": [],
    "deepnote_to_be_reexecuted": false,
    "source_hash": "e4ec5552",
    "execution_start": 1650810989564,
    "execution_millis": 33,
    "deepnote_cell_type": "code",
    "deepnote_cell_height": 173.375,
    "deepnote_output_heights": [
     40.375
    ]
   },
   "source": "subway_data.loc[subway_data['Dietary Fiber (g)'] == '<1', 'Dietary Fiber (g)'] = '0.5'\nsubway_data = subway_data.astype({\"Dietary Fiber (g)\": float}, errors='raise') \nsubway_data[\"Dietary Fiber (g)\"].unique()",
   "execution_count": 9,
   "outputs": [
    {
     "output_type": "execute_result",
     "execution_count": 9,
     "data": {
      "text/plain": "array([ 1. ,  4. ,  2. ,  3. ,  6. ,  0. , 12. ,  8. ,  5. , 20. ,  0.5,\n        7. , 19. , 26. ])"
     },
     "metadata": {}
    }
   ]
  },
  {
   "cell_type": "code",
   "metadata": {
    "cell_id": "89615d8453f1456b964731ff6a5512cf",
    "tags": [],
    "deepnote_to_be_reexecuted": false,
    "source_hash": "91f6f61c",
    "execution_start": 1650810989606,
    "execution_millis": 43,
    "deepnote_cell_type": "code",
    "deepnote_cell_height": 576.5
   },
   "source": "subway_data.info()",
   "execution_count": 10,
   "outputs": [
    {
     "name": "stdout",
     "text": "<class 'pandas.core.frame.DataFrame'>\nRangeIndex: 267 entries, 0 to 266\nData columns (total 17 columns):\n #   Column             Non-Null Count  Dtype  \n---  ------             --------------  -----  \n 0   Item               267 non-null    object \n 1   Category           267 non-null    object \n 2   Serving Size (g)   267 non-null    int64  \n 3   Calories           267 non-null    int64  \n 4   Total Fat (g)      267 non-null    int64  \n 5   Saturated Fat (g)  267 non-null    float64\n 6   Trans Fat (g)      267 non-null    float64\n 7   Cholesterol (mg)   267 non-null    int64  \n 8   Sodium (mg)        267 non-null    int64  \n 9   Carbohydrates (g)  267 non-null    int64  \n 10  Dietary Fiber (g)  267 non-null    float64\n 11  Sugars (g)         267 non-null    int64  \n 12  Protein (g)        267 non-null    int64  \n 13  Vitamin A % DV     267 non-null    int64  \n 14  Vitamin C % DV     267 non-null    int64  \n 15  Calcium % DV       267 non-null    int64  \n 16  Iron % DV          267 non-null    int64  \ndtypes: float64(3), int64(12), object(2)\nmemory usage: 35.6+ KB\n",
     "output_type": "stream"
    }
   ]
  },
  {
   "cell_type": "markdown",
   "source": "Upon briefly exploring the data, there is minimal cleaning to do as there are no null values in the csv. However, looking at the column \"Category\", we can see that some of the entries are not food items that can be bought alone. For example, you cannot go to Subway and order one 'cheese'. Entries in these categories will be removed.",
   "metadata": {
    "cell_id": "8a682970a6414780a5d720330f9f4f15",
    "tags": [],
    "deepnote_cell_type": "markdown",
    "deepnote_cell_height": 97.171875
   }
  },
  {
   "cell_type": "code",
   "metadata": {
    "cell_id": "d57d6b84b661428e834ad792c0fb3b07",
    "tags": [],
    "deepnote_to_be_reexecuted": false,
    "source_hash": "a8b8abc2",
    "execution_start": 1650810989656,
    "execution_millis": 23,
    "deepnote_cell_type": "code",
    "deepnote_cell_height": 175.75,
    "deepnote_output_heights": [
     78.75
    ]
   },
   "source": "subway_data[\"Category\"].unique()",
   "execution_count": 11,
   "outputs": [
    {
     "output_type": "execute_result",
     "execution_count": 11,
     "data": {
      "text/plain": "array(['Sandwich', \"Kids' Mini Sub\", 'Wrap', 'Fresh Melt', 'Salad',\n       'Protein Bowl', 'Breakfast', 'Flatizza ®', 'Pizza', 'Slider',\n       'Bread', 'Condiment', 'Seasoning', 'Vegetable', 'Cheese',\n       'Protein', 'Dessert', 'Soup'], dtype=object)"
     },
     "metadata": {}
    }
   ]
  },
  {
   "cell_type": "code",
   "metadata": {
    "cell_id": "206cc506eb16426eaf337848e98b20d5",
    "tags": [],
    "deepnote_to_be_reexecuted": false,
    "source_hash": "20487d7",
    "execution_start": 1650810989692,
    "execution_millis": 28,
    "deepnote_cell_type": "code",
    "deepnote_cell_height": 136.1875,
    "deepnote_output_heights": [
     21.1875
    ]
   },
   "source": "sub_mod = subway_data.loc[(subway_data[\"Category\"] != \"Bread\")&(subway_data[\"Category\"] != \"Cheese\")&(subway_data[\"Category\"] != \"Condiment\")&(subway_data[\"Category\"] != \"Vegetable\")&(subway_data[\"Category\"] != \"Protein\")&(subway_data[\"Category\"] != \"Seasoning\")]\nsub_mod.shape",
   "execution_count": 12,
   "outputs": [
    {
     "output_type": "execute_result",
     "execution_count": 12,
     "data": {
      "text/plain": "(190, 17)"
     },
     "metadata": {}
    }
   ]
  },
  {
   "cell_type": "code",
   "metadata": {
    "cell_id": "c175aa98f3844f6bbf53ab2ec9ec5703",
    "tags": [],
    "deepnote_to_be_reexecuted": false,
    "source_hash": "8a9070f3",
    "execution_start": 1650810989730,
    "execution_millis": 21,
    "deepnote_cell_type": "code",
    "deepnote_cell_height": 444.375,
    "deepnote_output_heights": [
     347.375
    ]
   },
   "source": "sub_mod.isnull().sum()",
   "execution_count": 13,
   "outputs": [
    {
     "output_type": "execute_result",
     "execution_count": 13,
     "data": {
      "text/plain": "Item                 0\nCategory             0\nServing Size (g)     0\nCalories             0\nTotal Fat (g)        0\nSaturated Fat (g)    0\nTrans Fat (g)        0\nCholesterol (mg)     0\nSodium (mg)          0\nCarbohydrates (g)    0\nDietary Fiber (g)    0\nSugars (g)           0\nProtein (g)          0\nVitamin A % DV       0\nVitamin C % DV       0\nCalcium % DV         0\nIron % DV            0\ndtype: int64"
     },
     "metadata": {}
    }
   ]
  },
  {
   "cell_type": "code",
   "metadata": {
    "cell_id": "71e4a19dd02d4a1b9d03c7a8fd895388",
    "tags": [],
    "deepnote_to_be_reexecuted": false,
    "source_hash": "2c64d35c",
    "execution_start": 1650810989759,
    "execution_millis": 762,
    "deepnote_cell_type": "code",
    "deepnote_cell_height": 599.5,
    "deepnote_output_heights": [
     null,
     396.125
    ]
   },
   "source": "plt.figure(figsize=(16, 7))\nsb.countplot(sub_mod[\"Category\"])\nplt.show()",
   "execution_count": 14,
   "outputs": [
    {
     "name": "stderr",
     "text": "/shared-libs/python3.7/py/lib/python3.7/site-packages/seaborn/_decorators.py:43: FutureWarning: Pass the following variable as a keyword arg: x. From version 0.12, the only valid positional argument will be `data`, and passing other arguments without an explicit keyword will result in an error or misinterpretation.\n  FutureWarning\n",
     "output_type": "stream"
    },
    {
     "data": {
      "text/plain": "<Figure size 1152x504 with 1 Axes>",
      "image/png": "[encoded data removed]"
     },
     "metadata": {
      "image/png": {
       "width": 947,
       "height": 431
      }
     },
     "output_type": "display_data"
    }
   ]
  },
  {
   "cell_type": "markdown",
   "source": "### 2. McDonald's",
   "metadata": {
    "cell_id": "eff95a6aa5ee48baa61ada7e3ca29d1f",
    "tags": [],
    "deepnote_cell_type": "markdown",
    "deepnote_cell_height": 62
   }
  },
  {
   "cell_type": "code",
   "metadata": {
    "cell_id": "df4ff9c3b6ba4175b927d2adf1a0da87",
    "tags": [],
    "deepnote_to_be_reexecuted": false,
    "source_hash": "1947103a",
    "execution_start": 1650810990524,
    "execution_millis": 32,
    "deepnote_cell_type": "code",
    "deepnote_cell_height": 701
   },
   "source": "mcd_data.info()",
   "execution_count": 15,
   "outputs": [
    {
     "name": "stdout",
     "text": "<class 'pandas.core.frame.DataFrame'>\nRangeIndex: 260 entries, 0 to 259\nData columns (total 24 columns):\n #   Column                         Non-Null Count  Dtype  \n---  ------                         --------------  -----  \n 0   Category                       260 non-null    object \n 1   Item                           260 non-null    object \n 2   Serving Size                   260 non-null    object \n 3   Calories                       260 non-null    int64  \n 4   Calories from Fat              260 non-null    int64  \n 5   Total Fat                      260 non-null    float64\n 6   Total Fat (% Daily Value)      260 non-null    int64  \n 7   Saturated Fat                  260 non-null    float64\n 8   Saturated Fat (% Daily Value)  260 non-null    int64  \n 9   Trans Fat                      260 non-null    float64\n 10  Cholesterol                    260 non-null    int64  \n 11  Cholesterol (% Daily Value)    260 non-null    int64  \n 12  Sodium                         260 non-null    int64  \n 13  Sodium (% Daily Value)         260 non-null    int64  \n 14  Carbohydrates                  260 non-null    int64  \n 15  Carbohydrates (% Daily Value)  260 non-null    int64  \n 16  Dietary Fiber                  260 non-null    int64  \n 17  Dietary Fiber (% Daily Value)  260 non-null    int64  \n 18  Sugars                         260 non-null    int64  \n 19  Protein                        260 non-null    int64  \n 20  Vitamin A (% Daily Value)      260 non-null    int64  \n 21  Vitamin C (% Daily Value)      260 non-null    int64  \n 22  Calcium (% Daily Value)        260 non-null    int64  \n 23  Iron (% Daily Value)           260 non-null    int64  \ndtypes: float64(3), int64(18), object(3)\nmemory usage: 48.9+ KB\n",
     "output_type": "stream"
    }
   ]
  },
  {
   "cell_type": "code",
   "metadata": {
    "cell_id": "d5ea4ba09d944223be60d809bb154b67",
    "tags": [],
    "deepnote_to_be_reexecuted": false,
    "source_hash": "a3853dbe",
    "execution_start": 1650810990610,
    "execution_millis": 8,
    "owner_user_id": "96049efa-3213-4130-8e67-d8a26f4ab79f",
    "deepnote_cell_type": "code",
    "deepnote_cell_height": 156.5625,
    "deepnote_output_heights": [
     59.5625
    ]
   },
   "source": "mcd_data['Category'].unique()",
   "execution_count": 16,
   "outputs": [
    {
     "output_type": "execute_result",
     "execution_count": 16,
     "data": {
      "text/plain": "array(['Breakfast', 'Beef & Pork', 'Chicken & Fish', 'Salads',\n       'Snacks & Sides', 'Desserts', 'Beverages', 'Coffee & Tea',\n       'Smoothies & Shakes'], dtype=object)"
     },
     "metadata": {}
    }
   ]
  },
  {
   "cell_type": "code",
   "metadata": {
    "cell_id": "58c58908901b4b64b4003493dad8ef76",
    "tags": [],
    "deepnote_to_be_reexecuted": false,
    "source_hash": "700e4fb1",
    "execution_start": 1650810990611,
    "execution_millis": 46,
    "deepnote_cell_type": "code",
    "deepnote_cell_height": 136.1875,
    "deepnote_output_heights": [
     21.1875
    ]
   },
   "source": "mcd_mod = mcd_data.loc[(mcd_data['Category']!='Beverages')&(mcd_data['Category']!='Coffee & Tea')&(mcd_data['Category']!='Smoothies & Shakes')]\nmcd_mod.shape",
   "execution_count": 17,
   "outputs": [
    {
     "output_type": "execute_result",
     "execution_count": 17,
     "data": {
      "text/plain": "(110, 24)"
     },
     "metadata": {}
    }
   ]
  },
  {
   "cell_type": "code",
   "metadata": {
    "cell_id": "d8efd68a32f34eaf8107a525e0452a19",
    "tags": [],
    "deepnote_to_be_reexecuted": false,
    "source_hash": "3c8ab0d",
    "execution_start": 1650810990654,
    "execution_millis": 9,
    "deepnote_cell_type": "code",
    "deepnote_cell_height": 578.6875,
    "deepnote_output_heights": [
     481.6875
    ]
   },
   "source": "mcd_mod.isnull().sum()",
   "execution_count": 18,
   "outputs": [
    {
     "output_type": "execute_result",
     "execution_count": 18,
     "data": {
      "text/plain": "Category                         0\nItem                             0\nServing Size                     0\nCalories                         0\nCalories from Fat                0\nTotal Fat                        0\nTotal Fat (% Daily Value)        0\nSaturated Fat                    0\nSaturated Fat (% Daily Value)    0\nTrans Fat                        0\nCholesterol                      0\nCholesterol (% Daily Value)      0\nSodium                           0\nSodium (% Daily Value)           0\nCarbohydrates                    0\nCarbohydrates (% Daily Value)    0\nDietary Fiber                    0\nDietary Fiber (% Daily Value)    0\nSugars                           0\nProtein                          0\nVitamin A (% Daily Value)        0\nVitamin C (% Daily Value)        0\nCalcium (% Daily Value)          0\nIron (% Daily Value)             0\ndtype: int64"
     },
     "metadata": {}
    }
   ]
  },
  {
   "cell_type": "code",
   "metadata": {
    "cell_id": "c56219eacb2a40c6ae5796c3f08f5488",
    "tags": [],
    "deepnote_to_be_reexecuted": false,
    "source_hash": "15da56a4",
    "execution_start": 1650810990668,
    "execution_millis": 887,
    "deepnote_cell_type": "code",
    "deepnote_cell_height": 599.5,
    "deepnote_output_heights": [
     null,
     396.125
    ]
   },
   "source": "plt.figure(figsize=(16, 7))\nsb.countplot(mcd_mod[\"Category\"])\nplt.show()",
   "execution_count": 19,
   "outputs": [
    {
     "name": "stderr",
     "text": "/shared-libs/python3.7/py/lib/python3.7/site-packages/seaborn/_decorators.py:43: FutureWarning: Pass the following variable as a keyword arg: x. From version 0.12, the only valid positional argument will be `data`, and passing other arguments without an explicit keyword will result in an error or misinterpretation.\n  FutureWarning\n",
     "output_type": "stream"
    },
    {
     "data": {
      "text/plain": "<Figure size 1152x504 with 1 Axes>",
      "image/png": "[encoded data removed]"
     },
     "metadata": {
      "image/png": {
       "width": 947,
       "height": 431
      }
     },
     "output_type": "display_data"
    }
   ]
  },
  {
   "cell_type": "markdown",
   "source": "We also have to update the serving size to be grams.",
   "metadata": {
    "cell_id": "00db3c51aff947a2bad6bbd58063b2a1",
    "tags": [],
    "deepnote_cell_type": "markdown",
    "deepnote_cell_height": 52.390625
   }
  },
  {
   "cell_type": "code",
   "metadata": {
    "cell_id": "00063d02cac44fb8a6adf75d9351dce3",
    "tags": [],
    "deepnote_to_be_reexecuted": false,
    "source_hash": "cc88a7d2",
    "execution_start": 1650810991116,
    "execution_millis": 441,
    "deepnote_cell_type": "code",
    "deepnote_cell_height": 718.0625,
    "deepnote_output_heights": [
     607
    ]
   },
   "source": "mcd_mod['Serving Size'].replace(to_replace=r\".*\\(\", value='', regex=True, inplace=True)\nmcd_mod['Serving Size'].replace(to_replace=r\" g\\).*$\", value='', regex=True, inplace=True)\nmcd_mod['Serving Size'] = pd.to_numeric(mcd_mod['Serving Size'])\nmcd_mod.head()",
   "execution_count": 20,
   "outputs": [
    {
     "name": "stderr",
     "text": "/shared-libs/python3.7/py/lib/python3.7/site-packages/pandas/core/series.py:4515: SettingWithCopyWarning: \nA value is trying to be set on a copy of a slice from a DataFrame\n\nSee the caveats in the documentation: https://pandas.pydata.org/pandas-docs/stable/user_guide/indexing.html#returning-a-view-versus-a-copy\n  method=method,\n/shared-libs/python3.7/py-core/lib/python3.7/site-packages/ipykernel_launcher.py:3: SettingWithCopyWarning: \nA value is trying to be set on a copy of a slice from a DataFrame.\nTry using .loc[row_indexer,col_indexer] = value instead\n\nSee the caveats in the documentation: https://pandas.pydata.org/pandas-docs/stable/user_guide/indexing.html#returning-a-view-versus-a-copy\n  This is separate from the ipykernel package so we can avoid doing imports until\n",
     "output_type": "stream"
    },
    {
     "output_type": "execute_result",
     "execution_count": 20,
     "data": {
      "application/vnd.deepnote.dataframe.v3+json": {
       "column_count": 24,
       "row_count": 5,
       "columns": [
        {
         "name": "Category",
         "dtype": "object",
         "stats": {
          "unique_count": 1,
          "nan_count": 0,
          "categories": [
           {
            "name": "Breakfast",
            "count": 5
           }
          ]
         }
        },
        {
         "name": "Item",
         "dtype": "object",
         "stats": {
          "unique_count": 5,
          "nan_count": 0,
          "categories": [
           {
            "name": "Egg McMuffin",
            "count": 1
           },
           {
            "name": "Egg White Delight",
            "count": 1
           },
           {
            "name": "3 others",
            "count": 3
           }
          ]
         }
        },
        {
         "name": "Serving Size",
         "dtype": "int64",
         "stats": {
          "unique_count": 4,
          "nan_count": 0,
          "min": "111",
          "max": "161",
          "histogram": [
           {
            "bin_start": 111,
            "bin_end": 116,
            "count": 1
           },
           {
            "bin_start": 116,
            "bin_end": 121,
            "count": 0
           },
           {
            "bin_start": 121,
            "bin_end": 126,
            "count": 0
           },
           {
            "bin_start": 126,
            "bin_end": 131,
            "count": 0
           },
           {
            "bin_start": 131,
            "bin_end": 136,
            "count": 1
           },
           {
            "bin_start": 136,
            "bin_end": 141,
            "count": 1
           },
           {
            "bin_start": 141,
            "bin_end": 146,
            "count": 0
           },
           {
            "bin_start": 146,
            "bin_end": 151,
            "count": 0
           },
           {
            "bin_start": 151,
            "bin_end": 156,
            "count": 0
           },
           {
            "bin_start": 156,
            "bin_end": 161,
            "count": 2
           }
          ]
         }
        },
        {
         "name": "Calories",
         "dtype": "int64",
         "stats": {
          "unique_count": 5,
          "nan_count": 0,
          "min": "250",
          "max": "450",
          "histogram": [
           {
            "bin_start": 250,
            "bin_end": 270,
            "count": 1
           },
           {
            "bin_start": 270,
            "bin_end": 290,
            "count": 0
           },
           {
            "bin_start": 290,
            "bin_end": 310,
            "count": 1
           },
           {
            "bin_start": 310,
            "bin_end": 330,
            "count": 0
           },
           {
            "bin_start": 330,
            "bin_end": 350,
            "count": 0
           },
           {
            "bin_start": 350,
            "bin_end": 370,
            "count": 0
           },
           {
            "bin_start": 370,
            "bin_end": 390,
            "count": 1
           },
           {
            "bin_start": 390,
            "bin_end": 410,
            "count": 1
           },
           {
            "bin_start": 410,
            "bin_end": 430,
            "count": 0
           },
           {
            "bin_start": 430,
            "bin_end": 450,
            "count": 1
           }
          ]
         }
        },
        {
         "name": "Calories from Fat",
         "dtype": "int64",
         "stats": {
          "unique_count": 5,
          "nan_count": 0,
          "min": "70",
          "max": "250",
          "histogram": [
           {
            "bin_start": 70,
            "bin_end": 88,
            "count": 1
           },
           {
            "bin_start": 88,
            "bin_end": 106,
            "count": 0
           },
           {
            "bin_start": 106,
            "bin_end": 124,
            "count": 1
           },
           {
            "bin_start": 124,
            "bin_end": 142,
            "count": 0
           },
           {
            "bin_start": 142,
            "bin_end": 160,
            "count": 0
           },
           {
            "bin_start": 160,
            "bin_end": 178,
            "count": 0
           },
           {
            "bin_start": 178,
            "bin_end": 196,
            "count": 0
           },
           {
            "bin_start": 196,
            "bin_end": 214,
            "count": 2
           },
           {
            "bin_start": 214,
            "bin_end": 232,
            "count": 0
           },
           {
            "bin_start": 232,
            "bin_end": 250,
            "count": 1
           }
          ]
         }
        },
        {
         "name": "Total Fat",
         "dtype": "float64",
         "stats": {
          "unique_count": 4,
          "nan_count": 0,
          "min": "8.0",
          "max": "28.0",
          "histogram": [
           {
            "bin_start": 8,
            "bin_end": 10,
            "count": 1
           },
           {
            "bin_start": 10,
            "bin_end": 12,
            "count": 0
           },
           {
            "bin_start": 12,
            "bin_end": 14,
            "count": 1
           },
           {
            "bin_start": 14,
            "bin_end": 16,
            "count": 0
           },
           {
            "bin_start": 16,
            "bin_end": 18,
            "count": 0
           },
           {
            "bin_start": 18,
            "bin_end": 20,
            "count": 0
           },
           {
            "bin_start": 20,
            "bin_end": 22,
            "count": 0
           },
           {
            "bin_start": 22,
            "bin_end": 24,
            "count": 2
           },
           {
            "bin_start": 24,
            "bin_end": 26,
            "count": 0
           },
           {
            "bin_start": 26,
            "bin_end": 28,
            "count": 1
           }
          ]
         }
        },
        {
         "name": "Total Fat (% Daily Value)",
         "dtype": "int64",
         "stats": {
          "unique_count": 4,
          "nan_count": 0,
          "min": "12",
          "max": "43",
          "histogram": [
           {
            "bin_start": 12,
            "bin_end": 15.1,
            "count": 1
           },
           {
            "bin_start": 15.1,
            "bin_end": 18.2,
            "count": 0
           },
           {
            "bin_start": 18.2,
            "bin_end": 21.3,
            "count": 1
           },
           {
            "bin_start": 21.3,
            "bin_end": 24.4,
            "count": 0
           },
           {
            "bin_start": 24.4,
            "bin_end": 27.5,
            "count": 0
           },
           {
            "bin_start": 27.5,
            "bin_end": 30.6,
            "count": 0
           },
           {
            "bin_start": 30.6,
            "bin_end": 33.7,
            "count": 0
           },
           {
            "bin_start": 33.7,
            "bin_end": 36.8,
            "count": 2
           },
           {
            "bin_start": 36.8,
            "bin_end": 39.900000000000006,
            "count": 0
           },
           {
            "bin_start": 39.900000000000006,
            "bin_end": 43,
            "count": 1
           }
          ]
         }
        },
        {
         "name": "Saturated Fat",
         "dtype": "float64",
         "stats": {
          "unique_count": 4,
          "nan_count": 0,
          "min": "3.0",
          "max": "10.0",
          "histogram": [
           {
            "bin_start": 3,
            "bin_end": 3.7,
            "count": 1
           },
           {
            "bin_start": 3.7,
            "bin_end": 4.4,
            "count": 0
           },
           {
            "bin_start": 4.4,
            "bin_end": 5.1,
            "count": 1
           },
           {
            "bin_start": 5.1,
            "bin_end": 5.8,
            "count": 0
           },
           {
            "bin_start": 5.8,
            "bin_end": 6.5,
            "count": 0
           },
           {
            "bin_start": 6.5,
            "bin_end": 7.199999999999999,
            "count": 0
           },
           {
            "bin_start": 7.199999999999999,
            "bin_end": 7.8999999999999995,
            "count": 0
           },
           {
            "bin_start": 7.8999999999999995,
            "bin_end": 8.6,
            "count": 2
           },
           {
            "bin_start": 8.6,
            "bin_end": 9.3,
            "count": 0
           },
           {
            "bin_start": 9.3,
            "bin_end": 10,
            "count": 1
           }
          ]
         }
        },
        {
         "name": "Saturated Fat (% Daily Value)",
         "dtype": "int64",
         "stats": {
          "unique_count": 4,
          "nan_count": 0,
          "min": "15",
          "max": "52",
          "histogram": [
           {
            "bin_start": 15,
            "bin_end": 18.7,
            "count": 1
           },
           {
            "bin_start": 18.7,
            "bin_end": 22.4,
            "count": 0
           },
           {
            "bin_start": 22.4,
            "bin_end": 26.1,
            "count": 1
           },
           {
            "bin_start": 26.1,
            "bin_end": 29.8,
            "count": 0
           },
           {
            "bin_start": 29.8,
            "bin_end": 33.5,
            "count": 0
           },
           {
            "bin_start": 33.5,
            "bin_end": 37.2,
            "count": 0
           },
           {
            "bin_start": 37.2,
            "bin_end": 40.900000000000006,
            "count": 0
           },
           {
            "bin_start": 40.900000000000006,
            "bin_end": 44.6,
            "count": 2
           },
           {
            "bin_start": 44.6,
            "bin_end": 48.300000000000004,
            "count": 0
           },
           {
            "bin_start": 48.300000000000004,
            "bin_end": 52,
            "count": 1
           }
          ]
         }
        },
        {
         "name": "Trans Fat",
         "dtype": "float64",
         "stats": {
          "unique_count": 1,
          "nan_count": 0,
          "min": "0.0",
          "max": "0.0",
          "histogram": [
           {
            "bin_start": -0.5,
            "bin_end": -0.4,
            "count": 0
           },
           {
            "bin_start": -0.4,
            "bin_end": -0.3,
            "count": 0
           },
           {
            "bin_start": -0.3,
            "bin_end": -0.19999999999999996,
            "count": 0
           },
           {
            "bin_start": -0.19999999999999996,
            "bin_end": -0.09999999999999998,
            "count": 0
           },
           {
            "bin_start": -0.09999999999999998,
            "bin_end": 0,
            "count": 0
           },
           {
            "bin_start": 0,
            "bin_end": 0.10000000000000009,
            "count": 5
           },
           {
            "bin_start": 0.10000000000000009,
            "bin_end": 0.20000000000000007,
            "count": 0
           },
           {
            "bin_start": 0.20000000000000007,
            "bin_end": 0.30000000000000004,
            "count": 0
           },
           {
            "bin_start": 0.30000000000000004,
            "bin_end": 0.4,
            "count": 0
           },
           {
            "bin_start": 0.4,
            "bin_end": 0.5,
            "count": 0
           }
          ]
         }
        },
        {
         "name": "Cholesterol",
         "dtype": "int64",
         "stats": {
          "unique_count": 5,
          "nan_count": 0,
          "min": "25",
          "max": "285",
          "histogram": [
           {
            "bin_start": 25,
            "bin_end": 51,
            "count": 3
           },
           {
            "bin_start": 51,
            "bin_end": 77,
            "count": 0
           },
           {
            "bin_start": 77,
            "bin_end": 103,
            "count": 0
           },
           {
            "bin_start": 103,
            "bin_end": 129,
            "count": 0
           },
           {
            "bin_start": 129,
            "bin_end": 155,
            "count": 0
           },
           {
            "bin_start": 155,
            "bin_end": 181,
            "count": 0
           },
           {
            "bin_start": 181,
            "bin_end": 207,
            "count": 0
           },
           {
            "bin_start": 207,
            "bin_end": 233,
            "count": 0
           },
           {
            "bin_start": 233,
            "bin_end": 259,
            "count": 0
           },
           {
            "bin_start": 259,
            "bin_end": 285,
            "count": 2
           }
          ]
         }
        },
        {
         "name": "Cholesterol (% Daily Value)",
         "dtype": "int64",
         "stats": {
          "unique_count": 5,
          "nan_count": 0,
          "min": "8",
          "max": "95",
          "histogram": [
           {
            "bin_start": 8,
            "bin_end": 16.7,
            "count": 3
           },
           {
            "bin_start": 16.7,
            "bin_end": 25.4,
            "count": 0
           },
           {
            "bin_start": 25.4,
            "bin_end": 34.099999999999994,
            "count": 0
           },
           {
            "bin_start": 34.099999999999994,
            "bin_end": 42.8,
            "count": 0
           },
           {
            "bin_start": 42.8,
            "bin_end": 51.5,
            "count": 0
           },
           {
            "bin_start": 51.5,
            "bin_end": 60.199999999999996,
            "count": 0
           },
           {
            "bin_start": 60.199999999999996,
            "bin_end": 68.89999999999999,
            "count": 0
           },
           {
            "bin_start": 68.89999999999999,
            "bin_end": 77.6,
            "count": 0
           },
           {
            "bin_start": 77.6,
            "bin_end": 86.3,
            "count": 0
           },
           {
            "bin_start": 86.3,
            "bin_end": 95,
            "count": 2
           }
          ]
         }
        },
        {
         "name": "Sodium",
         "dtype": "int64",
         "stats": {
          "unique_count": 5,
          "nan_count": 0,
          "min": "750",
          "max": "880",
          "histogram": [
           {
            "bin_start": 750,
            "bin_end": 763,
            "count": 1
           },
           {
            "bin_start": 763,
            "bin_end": 776,
            "count": 1
           },
           {
            "bin_start": 776,
            "bin_end": 789,
            "count": 1
           },
           {
            "bin_start": 789,
            "bin_end": 802,
            "count": 0
           },
           {
            "bin_start": 802,
            "bin_end": 815,
            "count": 0
           },
           {
            "bin_start": 815,
            "bin_end": 828,
            "count": 0
           },
           {
            "bin_start": 828,
            "bin_end": 841,
            "count": 0
           },
           {
            "bin_start": 841,
            "bin_end": 854,
            "count": 0
           },
           {
            "bin_start": 854,
            "bin_end": 867,
            "count": 1
           },
           {
            "bin_start": 867,
            "bin_end": 880,
            "count": 1
           }
          ]
         }
        },
        {
         "name": "Sodium (% Daily Value)",
         "dtype": "int64",
         "stats": {
          "unique_count": 5,
          "nan_count": 0,
          "min": "31",
          "max": "37",
          "histogram": [
           {
            "bin_start": 31,
            "bin_end": 31.6,
            "count": 1
           },
           {
            "bin_start": 31.6,
            "bin_end": 32.2,
            "count": 1
           },
           {
            "bin_start": 32.2,
            "bin_end": 32.8,
            "count": 0
           },
           {
            "bin_start": 32.8,
            "bin_end": 33.4,
            "count": 1
           },
           {
            "bin_start": 33.4,
            "bin_end": 34,
            "count": 0
           },
           {
            "bin_start": 34,
            "bin_end": 34.6,
            "count": 0
           },
           {
            "bin_start": 34.6,
            "bin_end": 35.2,
            "count": 0
           },
           {
            "bin_start": 35.2,
            "bin_end": 35.8,
            "count": 0
           },
           {
            "bin_start": 35.8,
            "bin_end": 36.4,
            "count": 1
           },
           {
            "bin_start": 36.4,
            "bin_end": 37,
            "count": 1
           }
          ]
         }
        },
        {
         "name": "Carbohydrates",
         "dtype": "int64",
         "stats": {
          "unique_count": 3,
          "nan_count": 0,
          "min": "29",
          "max": "31",
          "histogram": [
           {
            "bin_start": 29,
            "bin_end": 29.2,
            "count": 1
           },
           {
            "bin_start": 29.2,
            "bin_end": 29.4,
            "count": 0
           },
           {
            "bin_start": 29.4,
            "bin_end": 29.6,
            "count": 0
           },
           {
            "bin_start": 29.6,
            "bin_end": 29.8,
            "count": 0
           },
           {
            "bin_start": 29.8,
            "bin_end": 30,
            "count": 0
           },
           {
            "bin_start": 30,
            "bin_end": 30.2,
            "count": 3
           },
           {
            "bin_start": 30.2,
            "bin_end": 30.4,
            "count": 0
           },
           {
            "bin_start": 30.4,
            "bin_end": 30.6,
            "count": 0
           },
           {
            "bin_start": 30.6,
            "bin_end": 30.8,
            "count": 0
           },
           {
            "bin_start": 30.8,
            "bin_end": 31,
            "count": 1
           }
          ]
         }
        },
        {
         "name": "Carbohydrates (% Daily Value)",
         "dtype": "int64",
         "stats": {
          "unique_count": 1,
          "nan_count": 0,
          "min": "10",
          "max": "10",
          "histogram": [
           {
            "bin_start": 9.5,
            "bin_end": 9.6,
            "count": 0
           },
           {
            "bin_start": 9.6,
            "bin_end": 9.7,
            "count": 0
           },
           {
            "bin_start": 9.7,
            "bin_end": 9.8,
            "count": 0
           },
           {
            "bin_start": 9.8,
            "bin_end": 9.9,
            "count": 0
           },
           {
            "bin_start": 9.9,
            "bin_end": 10,
            "count": 0
           },
           {
            "bin_start": 10,
            "bin_end": 10.1,
            "count": 5
           },
           {
            "bin_start": 10.1,
            "bin_end": 10.2,
            "count": 0
           },
           {
            "bin_start": 10.2,
            "bin_end": 10.3,
            "count": 0
           },
           {
            "bin_start": 10.3,
            "bin_end": 10.4,
            "count": 0
           },
           {
            "bin_start": 10.4,
            "bin_end": 10.5,
            "count": 0
           }
          ]
         }
        },
        {
         "name": "Dietary Fiber",
         "dtype": "int64",
         "stats": {
          "unique_count": 1,
          "nan_count": 0,
          "min": "4",
          "max": "4",
          "histogram": [
           {
            "bin_start": 3.5,
            "bin_end": 3.6,
            "count": 0
           },
           {
            "bin_start": 3.6,
            "bin_end": 3.7,
            "count": 0
           },
           {
            "bin_start": 3.7,
            "bin_end": 3.8,
            "count": 0
           },
           {
            "bin_start": 3.8,
            "bin_end": 3.9,
            "count": 0
           },
           {
            "bin_start": 3.9,
            "bin_end": 4,
            "count": 0
           },
           {
            "bin_start": 4,
            "bin_end": 4.1,
            "count": 5
           },
           {
            "bin_start": 4.1,
            "bin_end": 4.2,
            "count": 0
           },
           {
            "bin_start": 4.2,
            "bin_end": 4.3,
            "count": 0
           },
           {
            "bin_start": 4.3,
            "bin_end": 4.4,
            "count": 0
           },
           {
            "bin_start": 4.4,
            "bin_end": 4.5,
            "count": 0
           }
          ]
         }
        },
        {
         "name": "Dietary Fiber (% Daily Value)",
         "dtype": "int64",
         "stats": {
          "unique_count": 1,
          "nan_count": 0,
          "min": "17",
          "max": "17",
          "histogram": [
           {
            "bin_start": 16.5,
            "bin_end": 16.6,
            "count": 0
           },
           {
            "bin_start": 16.6,
            "bin_end": 16.7,
            "count": 0
           },
           {
            "bin_start": 16.7,
            "bin_end": 16.8,
            "count": 0
           },
           {
            "bin_start": 16.8,
            "bin_end": 16.9,
            "count": 0
           },
           {
            "bin_start": 16.9,
            "bin_end": 17,
            "count": 0
           },
           {
            "bin_start": 17,
            "bin_end": 17.1,
            "count": 5
           },
           {
            "bin_start": 17.1,
            "bin_end": 17.2,
            "count": 0
           },
           {
            "bin_start": 17.2,
            "bin_end": 17.3,
            "count": 0
           },
           {
            "bin_start": 17.3,
            "bin_end": 17.4,
            "count": 0
           },
           {
            "bin_start": 17.4,
            "bin_end": 17.5,
            "count": 0
           }
          ]
         }
        },
        {
         "name": "Sugars",
         "dtype": "int64",
         "stats": {
          "unique_count": 2,
          "nan_count": 0,
          "min": "2",
          "max": "3",
          "histogram": [
           {
            "bin_start": 2,
            "bin_end": 2.1,
            "count": 3
           },
           {
            "bin_start": 2.1,
            "bin_end": 2.2,
            "count": 0
           },
           {
            "bin_start": 2.2,
            "bin_end": 2.3,
            "count": 0
           },
           {
            "bin_start": 2.3,
            "bin_end": 2.4,
            "count": 0
           },
           {
            "bin_start": 2.4,
            "bin_end": 2.5,
            "count": 0
           },
           {
            "bin_start": 2.5,
            "bin_end": 2.6,
            "count": 0
           },
           {
            "bin_start": 2.6,
            "bin_end": 2.7,
            "count": 0
           },
           {
            "bin_start": 2.7,
            "bin_end": 2.8,
            "count": 0
           },
           {
            "bin_start": 2.8,
            "bin_end": 2.9,
            "count": 0
           },
           {
            "bin_start": 2.9,
            "bin_end": 3,
            "count": 2
           }
          ]
         }
        },
        {
         "name": "Protein",
         "dtype": "int64",
         "stats": {
          "unique_count": 4,
          "nan_count": 0,
          "min": "14",
          "max": "21",
          "histogram": [
           {
            "bin_start": 14,
            "bin_end": 14.7,
            "count": 1
           },
           {
            "bin_start": 14.7,
            "bin_end": 15.4,
            "count": 0
           },
           {
            "bin_start": 15.4,
            "bin_end": 16.1,
            "count": 0
           },
           {
            "bin_start": 16.1,
            "bin_end": 16.8,
            "count": 0
           },
           {
            "bin_start": 16.8,
            "bin_end": 17.5,
            "count": 1
           },
           {
            "bin_start": 17.5,
            "bin_end": 18.2,
            "count": 1
           },
           {
            "bin_start": 18.2,
            "bin_end": 18.9,
            "count": 0
           },
           {
            "bin_start": 18.9,
            "bin_end": 19.6,
            "count": 0
           },
           {
            "bin_start": 19.6,
            "bin_end": 20.3,
            "count": 0
           },
           {
            "bin_start": 20.3,
            "bin_end": 21,
            "count": 2
           }
          ]
         }
        },
        {
         "name": "Vitamin A (% Daily Value)",
         "dtype": "int64",
         "stats": {
          "unique_count": 4,
          "nan_count": 0,
          "min": "6",
          "max": "15",
          "histogram": [
           {
            "bin_start": 6,
            "bin_end": 6.9,
            "count": 2
           },
           {
            "bin_start": 6.9,
            "bin_end": 7.8,
            "count": 0
           },
           {
            "bin_start": 7.8,
            "bin_end": 8.7,
            "count": 1
           },
           {
            "bin_start": 8.7,
            "bin_end": 9.6,
            "count": 0
           },
           {
            "bin_start": 9.6,
            "bin_end": 10.5,
            "count": 1
           },
           {
            "bin_start": 10.5,
            "bin_end": 11.4,
            "count": 0
           },
           {
            "bin_start": 11.4,
            "bin_end": 12.3,
            "count": 0
           },
           {
            "bin_start": 12.3,
            "bin_end": 13.2,
            "count": 0
           },
           {
            "bin_start": 13.2,
            "bin_end": 14.1,
            "count": 0
           },
           {
            "bin_start": 14.1,
            "bin_end": 15,
            "count": 1
           }
          ]
         }
        },
        {
         "name": "Vitamin C (% Daily Value)",
         "dtype": "int64",
         "stats": {
          "unique_count": 1,
          "nan_count": 0,
          "min": "0",
          "max": "0",
          "histogram": [
           {
            "bin_start": -0.5,
            "bin_end": -0.4,
            "count": 0
           },
           {
            "bin_start": -0.4,
            "bin_end": -0.3,
            "count": 0
           },
           {
            "bin_start": -0.3,
            "bin_end": -0.19999999999999996,
            "count": 0
           },
           {
            "bin_start": -0.19999999999999996,
            "bin_end": -0.09999999999999998,
            "count": 0
           },
           {
            "bin_start": -0.09999999999999998,
            "bin_end": 0,
            "count": 0
           },
           {
            "bin_start": 0,
            "bin_end": 0.10000000000000009,
            "count": 5
           },
           {
            "bin_start": 0.10000000000000009,
            "bin_end": 0.20000000000000007,
            "count": 0
           },
           {
            "bin_start": 0.20000000000000007,
            "bin_end": 0.30000000000000004,
            "count": 0
           },
           {
            "bin_start": 0.30000000000000004,
            "bin_end": 0.4,
            "count": 0
           },
           {
            "bin_start": 0.4,
            "bin_end": 0.5,
            "count": 0
           }
          ]
         }
        },
        {
         "name": "Calcium (% Daily Value)",
         "dtype": "int64",
         "stats": {
          "unique_count": 2,
          "nan_count": 0,
          "min": "25",
          "max": "30",
          "histogram": [
           {
            "bin_start": 25,
            "bin_end": 25.5,
            "count": 4
           },
           {
            "bin_start": 25.5,
            "bin_end": 26,
            "count": 0
           },
           {
            "bin_start": 26,
            "bin_end": 26.5,
            "count": 0
           },
           {
            "bin_start": 26.5,
            "bin_end": 27,
            "count": 0
           },
           {
            "bin_start": 27,
            "bin_end": 27.5,
            "count": 0
           },
           {
            "bin_start": 27.5,
            "bin_end": 28,
            "count": 0
           },
           {
            "bin_start": 28,
            "bin_end": 28.5,
            "count": 0
           },
           {
            "bin_start": 28.5,
            "bin_end": 29,
            "count": 0
           },
           {
            "bin_start": 29,
            "bin_end": 29.5,
            "count": 0
           },
           {
            "bin_start": 29.5,
            "bin_end": 30,
            "count": 1
           }
          ]
         }
        },
        {
         "name": "Iron (% Daily Value)",
         "dtype": "int64",
         "stats": {
          "unique_count": 3,
          "nan_count": 0,
          "min": "8",
          "max": "15",
          "histogram": [
           {
            "bin_start": 8,
            "bin_end": 8.7,
            "count": 1
           },
           {
            "bin_start": 8.7,
            "bin_end": 9.4,
            "count": 0
           },
           {
            "bin_start": 9.4,
            "bin_end": 10.1,
            "count": 2
           },
           {
            "bin_start": 10.1,
            "bin_end": 10.8,
            "count": 0
           },
           {
            "bin_start": 10.8,
            "bin_end": 11.5,
            "count": 0
           },
           {
            "bin_start": 11.5,
            "bin_end": 12.2,
            "count": 0
           },
           {
            "bin_start": 12.2,
            "bin_end": 12.899999999999999,
            "count": 0
           },
           {
            "bin_start": 12.899999999999999,
            "bin_end": 13.6,
            "count": 0
           },
           {
            "bin_start": 13.6,
            "bin_end": 14.3,
            "count": 0
           },
           {
            "bin_start": 14.3,
            "bin_end": 15,
            "count": 2
           }
          ]
         }
        },
        {
         "name": "_deepnote_index_column",
         "dtype": "int64"
        }
       ],
       "rows": [
        {
         "Category": "Breakfast",
         "Item": "Egg McMuffin",
         "Serving Size": 136,
         "Calories": 300,
         "Calories from Fat": 120,
         "Total Fat": 13,
         "Total Fat (% Daily Value)": 20,
         "Saturated Fat": 5,
         "Saturated Fat (% Daily Value)": 25,
         "Trans Fat": 0,
         "Cholesterol": 260,
         "Cholesterol (% Daily Value)": 87,
         "Sodium": 750,
         "Sodium (% Daily Value)": 31,
         "Carbohydrates": 31,
         "Carbohydrates (% Daily Value)": 10,
         "Dietary Fiber": 4,
         "Dietary Fiber (% Daily Value)": 17,
         "Sugars": 3,
         "Protein": 17,
         "Vitamin A (% Daily Value)": 10,
         "Vitamin C (% Daily Value)": 0,
         "Calcium (% Daily Value)": 25,
         "Iron (% Daily Value)": 15,
         "_deepnote_index_column": 0
        },
        {
         "Category": "Breakfast",
         "Item": "Egg White Delight",
         "Serving Size": 135,
         "Calories": 250,
         "Calories from Fat": 70,
         "Total Fat": 8,
         "Total Fat (% Daily Value)": 12,
         "Saturated Fat": 3,
         "Saturated Fat (% Daily Value)": 15,
         "Trans Fat": 0,
         "Cholesterol": 25,
         "Cholesterol (% Daily Value)": 8,
         "Sodium": 770,
         "Sodium (% Daily Value)": 32,
         "Carbohydrates": 30,
         "Carbohydrates (% Daily Value)": 10,
         "Dietary Fiber": 4,
         "Dietary Fiber (% Daily Value)": 17,
         "Sugars": 3,
         "Protein": 18,
         "Vitamin A (% Daily Value)": 6,
         "Vitamin C (% Daily Value)": 0,
         "Calcium (% Daily Value)": 25,
         "Iron (% Daily Value)": 8,
         "_deepnote_index_column": 1
        },
        {
         "Category": "Breakfast",
         "Item": "Sausage McMuffin",
         "Serving Size": 111,
         "Calories": 370,
         "Calories from Fat": 200,
         "Total Fat": 23,
         "Total Fat (% Daily Value)": 35,
         "Saturated Fat": 8,
         "Saturated Fat (% Daily Value)": 42,
         "Trans Fat": 0,
         "Cholesterol": 45,
         "Cholesterol (% Daily Value)": 15,
         "Sodium": 780,
         "Sodium (% Daily Value)": 33,
         "Carbohydrates": 29,
         "Carbohydrates (% Daily Value)": 10,
         "Dietary Fiber": 4,
         "Dietary Fiber (% Daily Value)": 17,
         "Sugars": 2,
         "Protein": 14,
         "Vitamin A (% Daily Value)": 8,
         "Vitamin C (% Daily Value)": 0,
         "Calcium (% Daily Value)": 25,
         "Iron (% Daily Value)": 10,
         "_deepnote_index_column": 2
        },
        {
         "Category": "Breakfast",
         "Item": "Sausage McMuffin with Egg",
         "Serving Size": 161,
         "Calories": 450,
         "Calories from Fat": 250,
         "Total Fat": 28,
         "Total Fat (% Daily Value)": 43,
         "Saturated Fat": 10,
         "Saturated Fat (% Daily Value)": 52,
         "Trans Fat": 0,
         "Cholesterol": 285,
         "Cholesterol (% Daily Value)": 95,
         "Sodium": 860,
         "Sodium (% Daily Value)": 36,
         "Carbohydrates": 30,
         "Carbohydrates (% Daily Value)": 10,
         "Dietary Fiber": 4,
         "Dietary Fiber (% Daily Value)": 17,
         "Sugars": 2,
         "Protein": 21,
         "Vitamin A (% Daily Value)": 15,
         "Vitamin C (% Daily Value)": 0,
         "Calcium (% Daily Value)": 30,
         "Iron (% Daily Value)": 15,
         "_deepnote_index_column": 3
        },
        {
         "Category": "Breakfast",
         "Item": "Sausage McMuffin with Egg Whites",
         "Serving Size": 161,
         "Calories": 400,
         "Calories from Fat": 210,
         "Total Fat": 23,
         "Total Fat (% Daily Value)": 35,
         "Saturated Fat": 8,
         "Saturated Fat (% Daily Value)": 42,
         "Trans Fat": 0,
         "Cholesterol": 50,
         "Cholesterol (% Daily Value)": 16,
         "Sodium": 880,
         "Sodium (% Daily Value)": 37,
         "Carbohydrates": 30,
         "Carbohydrates (% Daily Value)": 10,
         "Dietary Fiber": 4,
         "Dietary Fiber (% Daily Value)": 17,
         "Sugars": 2,
         "Protein": 21,
         "Vitamin A (% Daily Value)": 6,
         "Vitamin C (% Daily Value)": 0,
         "Calcium (% Daily Value)": 25,
         "Iron (% Daily Value)": 10,
         "_deepnote_index_column": 4
        }
       ]
      },
      "text/plain": "    Category                              Item  Serving Size  Calories  \\\n0  Breakfast                      Egg McMuffin           136       300   \n1  Breakfast                 Egg White Delight           135       250   \n2  Breakfast                  Sausage McMuffin           111       370   \n3  Breakfast         Sausage McMuffin with Egg           161       450   \n4  Breakfast  Sausage McMuffin with Egg Whites           161       400   \n\n   Calories from Fat  Total Fat  Total Fat (% Daily Value)  Saturated Fat  \\\n0                120       13.0                         20            5.0   \n1                 70        8.0                         12            3.0   \n2                200       23.0                         35            8.0   \n3                250       28.0                         43           10.0   \n4                210       23.0                         35            8.0   \n\n   Saturated Fat (% Daily Value)  Trans Fat  ...  Carbohydrates  \\\n0                             25        0.0  ...             31   \n1                             15        0.0  ...             30   \n2                             42        0.0  ...             29   \n3                             52        0.0  ...             30   \n4                             42        0.0  ...             30   \n\n   Carbohydrates (% Daily Value)  Dietary Fiber  \\\n0                             10              4   \n1                             10              4   \n2                             10              4   \n3                             10              4   \n4                             10              4   \n\n   Dietary Fiber (% Daily Value)  Sugars  Protein  Vitamin A (% Daily Value)  \\\n0                             17       3       17                         10   \n1                             17       3       18                          6   \n2                             17       2       14                          8   \n3                             17       2       21                         15   \n4                             17       2       21                          6   \n\n   Vitamin C (% Daily Value)  Calcium (% Daily Value)  Iron (% Daily Value)  \n0                          0                       25                    15  \n1                          0                       25                     8  \n2                          0                       25                    10  \n3                          0                       30                    15  \n4                          0                       25                    10  \n\n[5 rows x 24 columns]",
      "text/html": "<div>\n<style scoped>\n    .dataframe tbody tr th:only-of-type {\n        vertical-align: middle;\n    }\n\n    .dataframe tbody tr th {\n        vertical-align: top;\n    }\n\n    .dataframe thead th {\n        text-align: right;\n    }\n</style>\n<table border=\"1\" class=\"dataframe\">\n  <thead>\n    <tr style=\"text-align: right;\">\n      <th></th>\n      <th>Category</th>\n      <th>Item</th>\n      <th>Serving Size</th>\n      <th>Calories</th>\n      <th>Calories from Fat</th>\n      <th>Total Fat</th>\n      <th>Total Fat (% Daily Value)</th>\n      <th>Saturated Fat</th>\n      <th>Saturated Fat (% Daily Value)</th>\n      <th>Trans Fat</th>\n      <th>...</th>\n      <th>Carbohydrates</th>\n      <th>Carbohydrates (% Daily Value)</th>\n      <th>Dietary Fiber</th>\n      <th>Dietary Fiber (% Daily Value)</th>\n      <th>Sugars</th>\n      <th>Protein</th>\n      <th>Vitamin A (% Daily Value)</th>\n      <th>Vitamin C (% Daily Value)</th>\n      <th>Calcium (% Daily Value)</th>\n      <th>Iron (% Daily Value)</th>\n    </tr>\n  </thead>\n  <tbody>\n    <tr>\n      <th>0</th>\n      <td>Breakfast</td>\n      <td>Egg McMuffin</td>\n      <td>136</td>\n      <td>300</td>\n      <td>120</td>\n      <td>13.0</td>\n      <td>20</td>\n      <td>5.0</td>\n      <td>25</td>\n      <td>0.0</td>\n      <td>...</td>\n      <td>31</td>\n      <td>10</td>\n      <td>4</td>\n      <td>17</td>\n      <td>3</td>\n      <td>17</td>\n      <td>10</td>\n      <td>0</td>\n      <td>25</td>\n      <td>15</td>\n    </tr>\n    <tr>\n      <th>1</th>\n      <td>Breakfast</td>\n      <td>Egg White Delight</td>\n      <td>135</td>\n      <td>250</td>\n      <td>70</td>\n      <td>8.0</td>\n      <td>12</td>\n      <td>3.0</td>\n      <td>15</td>\n      <td>0.0</td>\n      <td>...</td>\n      <td>30</td>\n      <td>10</td>\n      <td>4</td>\n      <td>17</td>\n      <td>3</td>\n      <td>18</td>\n      <td>6</td>\n      <td>0</td>\n      <td>25</td>\n      <td>8</td>\n    </tr>\n    <tr>\n      <th>2</th>\n      <td>Breakfast</td>\n      <td>Sausage McMuffin</td>\n      <td>111</td>\n      <td>370</td>\n      <td>200</td>\n      <td>23.0</td>\n      <td>35</td>\n      <td>8.0</td>\n      <td>42</td>\n      <td>0.0</td>\n      <td>...</td>\n      <td>29</td>\n      <td>10</td>\n      <td>4</td>\n      <td>17</td>\n      <td>2</td>\n      <td>14</td>\n      <td>8</td>\n      <td>0</td>\n      <td>25</td>\n      <td>10</td>\n    </tr>\n    <tr>\n      <th>3</th>\n      <td>Breakfast</td>\n      <td>Sausage McMuffin with Egg</td>\n      <td>161</td>\n      <td>450</td>\n      <td>250</td>\n      <td>28.0</td>\n      <td>43</td>\n      <td>10.0</td>\n      <td>52</td>\n      <td>0.0</td>\n      <td>...</td>\n      <td>30</td>\n      <td>10</td>\n      <td>4</td>\n      <td>17</td>\n      <td>2</td>\n      <td>21</td>\n      <td>15</td>\n      <td>0</td>\n      <td>30</td>\n      <td>15</td>\n    </tr>\n    <tr>\n      <th>4</th>\n      <td>Breakfast</td>\n      <td>Sausage McMuffin with Egg Whites</td>\n      <td>161</td>\n      <td>400</td>\n      <td>210</td>\n      <td>23.0</td>\n      <td>35</td>\n      <td>8.0</td>\n      <td>42</td>\n      <td>0.0</td>\n      <td>...</td>\n      <td>30</td>\n      <td>10</td>\n      <td>4</td>\n      <td>17</td>\n      <td>2</td>\n      <td>21</td>\n      <td>6</td>\n      <td>0</td>\n      <td>25</td>\n      <td>10</td>\n    </tr>\n  </tbody>\n</table>\n<p>5 rows × 24 columns</p>\n</div>"
     },
     "metadata": {}
    }
   ]
  },
  {
   "cell_type": "markdown",
   "source": "### 3. Burger King",
   "metadata": {
    "cell_id": "934e4459cb6841909fb931c5746e1feb",
    "tags": [],
    "deepnote_cell_type": "markdown",
    "deepnote_cell_height": 62
   }
  },
  {
   "cell_type": "code",
   "metadata": {
    "cell_id": "95112605be154119a8ea0af74bfb7dba",
    "tags": [],
    "deepnote_to_be_reexecuted": false,
    "source_hash": "72802fa0",
    "execution_start": 1650810991513,
    "execution_millis": 45,
    "owner_user_id": "d2d28a2b-1166-4467-923f-9046bba8b6b2",
    "deepnote_cell_type": "code",
    "deepnote_cell_height": 515.9375
   },
   "source": "bk_data.info()",
   "execution_count": 21,
   "outputs": [
    {
     "name": "stdout",
     "text": "<class 'pandas.core.frame.DataFrame'>\nRangeIndex: 108 entries, 0 to 107\nData columns (total 14 columns):\n #   Column             Non-Null Count  Dtype  \n---  ------             --------------  -----  \n 0   Category           108 non-null    object \n 1   Product Name       108 non-null    object \n 2   Serving Size (g)   105 non-null    float64\n 3   Calories           108 non-null    int64  \n 4   Calories from fat  108 non-null    int64  \n 5   Total fat (g)      108 non-null    float64\n 6   Saturated Fat (g)  108 non-null    float64\n 7   Trans Fat (g)      108 non-null    float64\n 8   Chol (mg)          108 non-null    int64  \n 9   Sodium (mg)        108 non-null    int64  \n 10  Total Carb (g)     108 non-null    int64  \n 11  Dietary Fiber (g)  108 non-null    int64  \n 12  Total Sugar (g)    108 non-null    int64  \n 13  Protein (g)        108 non-null    int64  \ndtypes: float64(4), int64(8), object(2)\nmemory usage: 11.9+ KB\n",
     "output_type": "stream"
    }
   ]
  },
  {
   "cell_type": "code",
   "metadata": {
    "cell_id": "9757034d625c4d469eedad516b71a0a1",
    "tags": [],
    "deepnote_to_be_reexecuted": false,
    "source_hash": "d2f4233e",
    "execution_start": 1650810991551,
    "execution_millis": 108,
    "deepnote_cell_type": "code",
    "deepnote_cell_height": 366
   },
   "source": "#These beverages with null serving sizes will be excluded from the data analysis\nnull = bk_data[bk_data.isna().any(axis=1)]\nnull",
   "execution_count": 22,
   "outputs": [
    {
     "output_type": "execute_result",
     "execution_count": 22,
     "data": {
      "application/vnd.deepnote.dataframe.v3+json": {
       "column_count": 14,
       "row_count": 3,
       "columns": [
        {
         "name": "Category",
         "dtype": "object",
         "stats": {
          "unique_count": 1,
          "nan_count": 0,
          "categories": [
           {
            "name": "KING JR MEALS Beverage ",
            "count": 3
           }
          ]
         }
        },
        {
         "name": "Product Name",
         "dtype": "object",
         "stats": {
          "unique_count": 3,
          "nan_count": 0,
          "categories": [
           {
            "name": "Fat FREE Milk (8 fl oz)",
            "count": 1
           },
           {
            "name": "1% Low Fat Chocolate Milk (8 fl oz)",
            "count": 1
           },
           {
            "name": "Capri Sun 100% Apple Juice (6 fl oz)",
            "count": 1
           }
          ]
         }
        },
        {
         "name": "Serving Size (g)",
         "dtype": "float64",
         "stats": {
          "unique_count": 0,
          "nan_count": 3,
          "min": null,
          "max": null,
          "histogram": [
           {
            "bin_start": 0,
            "bin_end": 0.1,
            "count": 0
           },
           {
            "bin_start": 0.1,
            "bin_end": 0.2,
            "count": 0
           },
           {
            "bin_start": 0.2,
            "bin_end": 0.30000000000000004,
            "count": 0
           },
           {
            "bin_start": 0.30000000000000004,
            "bin_end": 0.4,
            "count": 0
           },
           {
            "bin_start": 0.4,
            "bin_end": 0.5,
            "count": 0
           },
           {
            "bin_start": 0.5,
            "bin_end": 0.6000000000000001,
            "count": 0
           },
           {
            "bin_start": 0.6000000000000001,
            "bin_end": 0.7000000000000001,
            "count": 0
           },
           {
            "bin_start": 0.7000000000000001,
            "bin_end": 0.8,
            "count": 0
           },
           {
            "bin_start": 0.8,
            "bin_end": 0.9,
            "count": 0
           },
           {
            "bin_start": 0.9,
            "bin_end": 1,
            "count": 0
           }
          ]
         }
        },
        {
         "name": "Calories",
         "dtype": "int64",
         "stats": {
          "unique_count": 3,
          "nan_count": 0,
          "min": "80",
          "max": "160",
          "histogram": [
           {
            "bin_start": 80,
            "bin_end": 88,
            "count": 1
           },
           {
            "bin_start": 88,
            "bin_end": 96,
            "count": 1
           },
           {
            "bin_start": 96,
            "bin_end": 104,
            "count": 0
           },
           {
            "bin_start": 104,
            "bin_end": 112,
            "count": 0
           },
           {
            "bin_start": 112,
            "bin_end": 120,
            "count": 0
           },
           {
            "bin_start": 120,
            "bin_end": 128,
            "count": 0
           },
           {
            "bin_start": 128,
            "bin_end": 136,
            "count": 0
           },
           {
            "bin_start": 136,
            "bin_end": 144,
            "count": 0
           },
           {
            "bin_start": 144,
            "bin_end": 152,
            "count": 0
           },
           {
            "bin_start": 152,
            "bin_end": 160,
            "count": 1
           }
          ]
         }
        },
        {
         "name": "Calories from fat",
         "dtype": "int64",
         "stats": {
          "unique_count": 2,
          "nan_count": 0,
          "min": "0",
          "max": "25",
          "histogram": [
           {
            "bin_start": 0,
            "bin_end": 2.5,
            "count": 2
           },
           {
            "bin_start": 2.5,
            "bin_end": 5,
            "count": 0
           },
           {
            "bin_start": 5,
            "bin_end": 7.5,
            "count": 0
           },
           {
            "bin_start": 7.5,
            "bin_end": 10,
            "count": 0
           },
           {
            "bin_start": 10,
            "bin_end": 12.5,
            "count": 0
           },
           {
            "bin_start": 12.5,
            "bin_end": 15,
            "count": 0
           },
           {
            "bin_start": 15,
            "bin_end": 17.5,
            "count": 0
           },
           {
            "bin_start": 17.5,
            "bin_end": 20,
            "count": 0
           },
           {
            "bin_start": 20,
            "bin_end": 22.5,
            "count": 0
           },
           {
            "bin_start": 22.5,
            "bin_end": 25,
            "count": 1
           }
          ]
         }
        },
        {
         "name": "Total fat (g)",
         "dtype": "float64",
         "stats": {
          "unique_count": 2,
          "nan_count": 0,
          "min": "0.0",
          "max": "2.5",
          "histogram": [
           {
            "bin_start": 0,
            "bin_end": 0.25,
            "count": 2
           },
           {
            "bin_start": 0.25,
            "bin_end": 0.5,
            "count": 0
           },
           {
            "bin_start": 0.5,
            "bin_end": 0.75,
            "count": 0
           },
           {
            "bin_start": 0.75,
            "bin_end": 1,
            "count": 0
           },
           {
            "bin_start": 1,
            "bin_end": 1.25,
            "count": 0
           },
           {
            "bin_start": 1.25,
            "bin_end": 1.5,
            "count": 0
           },
           {
            "bin_start": 1.5,
            "bin_end": 1.75,
            "count": 0
           },
           {
            "bin_start": 1.75,
            "bin_end": 2,
            "count": 0
           },
           {
            "bin_start": 2,
            "bin_end": 2.25,
            "count": 0
           },
           {
            "bin_start": 2.25,
            "bin_end": 2.5,
            "count": 1
           }
          ]
         }
        },
        {
         "name": "Saturated Fat (g)",
         "dtype": "float64",
         "stats": {
          "unique_count": 2,
          "nan_count": 0,
          "min": "0.0",
          "max": "1.5",
          "histogram": [
           {
            "bin_start": 0,
            "bin_end": 0.15,
            "count": 2
           },
           {
            "bin_start": 0.15,
            "bin_end": 0.3,
            "count": 0
           },
           {
            "bin_start": 0.3,
            "bin_end": 0.44999999999999996,
            "count": 0
           },
           {
            "bin_start": 0.44999999999999996,
            "bin_end": 0.6,
            "count": 0
           },
           {
            "bin_start": 0.6,
            "bin_end": 0.75,
            "count": 0
           },
           {
            "bin_start": 0.75,
            "bin_end": 0.8999999999999999,
            "count": 0
           },
           {
            "bin_start": 0.8999999999999999,
            "bin_end": 1.05,
            "count": 0
           },
           {
            "bin_start": 1.05,
            "bin_end": 1.2,
            "count": 0
           },
           {
            "bin_start": 1.2,
            "bin_end": 1.3499999999999999,
            "count": 0
           },
           {
            "bin_start": 1.3499999999999999,
            "bin_end": 1.5,
            "count": 1
           }
          ]
         }
        },
        {
         "name": "Trans Fat (g)",
         "dtype": "float64",
         "stats": {
          "unique_count": 1,
          "nan_count": 0,
          "min": "0.0",
          "max": "0.0",
          "histogram": [
           {
            "bin_start": -0.5,
            "bin_end": -0.4,
            "count": 0
           },
           {
            "bin_start": -0.4,
            "bin_end": -0.3,
            "count": 0
           },
           {
            "bin_start": -0.3,
            "bin_end": -0.19999999999999996,
            "count": 0
           },
           {
            "bin_start": -0.19999999999999996,
            "bin_end": -0.09999999999999998,
            "count": 0
           },
           {
            "bin_start": -0.09999999999999998,
            "bin_end": 0,
            "count": 0
           },
           {
            "bin_start": 0,
            "bin_end": 0.10000000000000009,
            "count": 3
           },
           {
            "bin_start": 0.10000000000000009,
            "bin_end": 0.20000000000000007,
            "count": 0
           },
           {
            "bin_start": 0.20000000000000007,
            "bin_end": 0.30000000000000004,
            "count": 0
           },
           {
            "bin_start": 0.30000000000000004,
            "bin_end": 0.4,
            "count": 0
           },
           {
            "bin_start": 0.4,
            "bin_end": 0.5,
            "count": 0
           }
          ]
         }
        },
        {
         "name": "Chol (mg)",
         "dtype": "int64",
         "stats": {
          "unique_count": 3,
          "nan_count": 0,
          "min": "0",
          "max": "15",
          "histogram": [
           {
            "bin_start": 0,
            "bin_end": 1.5,
            "count": 1
           },
           {
            "bin_start": 1.5,
            "bin_end": 3,
            "count": 0
           },
           {
            "bin_start": 3,
            "bin_end": 4.5,
            "count": 0
           },
           {
            "bin_start": 4.5,
            "bin_end": 6,
            "count": 1
           },
           {
            "bin_start": 6,
            "bin_end": 7.5,
            "count": 0
           },
           {
            "bin_start": 7.5,
            "bin_end": 9,
            "count": 0
           },
           {
            "bin_start": 9,
            "bin_end": 10.5,
            "count": 0
           },
           {
            "bin_start": 10.5,
            "bin_end": 12,
            "count": 0
           },
           {
            "bin_start": 12,
            "bin_end": 13.5,
            "count": 0
           },
           {
            "bin_start": 13.5,
            "bin_end": 15,
            "count": 1
           }
          ]
         }
        },
        {
         "name": "Sodium (mg)",
         "dtype": "int64",
         "stats": {
          "unique_count": 3,
          "nan_count": 0,
          "min": "25",
          "max": "150",
          "histogram": [
           {
            "bin_start": 25,
            "bin_end": 37.5,
            "count": 1
           },
           {
            "bin_start": 37.5,
            "bin_end": 50,
            "count": 0
           },
           {
            "bin_start": 50,
            "bin_end": 62.5,
            "count": 0
           },
           {
            "bin_start": 62.5,
            "bin_end": 75,
            "count": 0
           },
           {
            "bin_start": 75,
            "bin_end": 87.5,
            "count": 0
           },
           {
            "bin_start": 87.5,
            "bin_end": 100,
            "count": 0
           },
           {
            "bin_start": 100,
            "bin_end": 112.5,
            "count": 0
           },
           {
            "bin_start": 112.5,
            "bin_end": 125,
            "count": 0
           },
           {
            "bin_start": 125,
            "bin_end": 137.5,
            "count": 1
           },
           {
            "bin_start": 137.5,
            "bin_end": 150,
            "count": 1
           }
          ]
         }
        },
        {
         "name": "Total Carb (g)",
         "dtype": "int64",
         "stats": {
          "unique_count": 3,
          "nan_count": 0,
          "min": "13",
          "max": "26",
          "histogram": [
           {
            "bin_start": 13,
            "bin_end": 14.3,
            "count": 1
           },
           {
            "bin_start": 14.3,
            "bin_end": 15.6,
            "count": 0
           },
           {
            "bin_start": 15.6,
            "bin_end": 16.9,
            "count": 0
           },
           {
            "bin_start": 16.9,
            "bin_end": 18.2,
            "count": 0
           },
           {
            "bin_start": 18.2,
            "bin_end": 19.5,
            "count": 0
           },
           {
            "bin_start": 19.5,
            "bin_end": 20.8,
            "count": 1
           },
           {
            "bin_start": 20.8,
            "bin_end": 22.1,
            "count": 0
           },
           {
            "bin_start": 22.1,
            "bin_end": 23.4,
            "count": 0
           },
           {
            "bin_start": 23.4,
            "bin_end": 24.700000000000003,
            "count": 0
           },
           {
            "bin_start": 24.700000000000003,
            "bin_end": 26,
            "count": 1
           }
          ]
         }
        },
        {
         "name": "Dietary Fiber (g)",
         "dtype": "int64",
         "stats": {
          "unique_count": 1,
          "nan_count": 0,
          "min": "0",
          "max": "0",
          "histogram": [
           {
            "bin_start": -0.5,
            "bin_end": -0.4,
            "count": 0
           },
           {
            "bin_start": -0.4,
            "bin_end": -0.3,
            "count": 0
           },
           {
            "bin_start": -0.3,
            "bin_end": -0.19999999999999996,
            "count": 0
           },
           {
            "bin_start": -0.19999999999999996,
            "bin_end": -0.09999999999999998,
            "count": 0
           },
           {
            "bin_start": -0.09999999999999998,
            "bin_end": 0,
            "count": 0
           },
           {
            "bin_start": 0,
            "bin_end": 0.10000000000000009,
            "count": 3
           },
           {
            "bin_start": 0.10000000000000009,
            "bin_end": 0.20000000000000007,
            "count": 0
           },
           {
            "bin_start": 0.20000000000000007,
            "bin_end": 0.30000000000000004,
            "count": 0
           },
           {
            "bin_start": 0.30000000000000004,
            "bin_end": 0.4,
            "count": 0
           },
           {
            "bin_start": 0.4,
            "bin_end": 0.5,
            "count": 0
           }
          ]
         }
        },
        {
         "name": "Total Sugar (g)",
         "dtype": "int64",
         "stats": {
          "unique_count": 3,
          "nan_count": 0,
          "min": "12",
          "max": "25",
          "histogram": [
           {
            "bin_start": 12,
            "bin_end": 13.3,
            "count": 1
           },
           {
            "bin_start": 13.3,
            "bin_end": 14.6,
            "count": 0
           },
           {
            "bin_start": 14.6,
            "bin_end": 15.9,
            "count": 0
           },
           {
            "bin_start": 15.9,
            "bin_end": 17.2,
            "count": 0
           },
           {
            "bin_start": 17.2,
            "bin_end": 18.5,
            "count": 0
           },
           {
            "bin_start": 18.5,
            "bin_end": 19.8,
            "count": 0
           },
           {
            "bin_start": 19.8,
            "bin_end": 21.1,
            "count": 1
           },
           {
            "bin_start": 21.1,
            "bin_end": 22.4,
            "count": 0
           },
           {
            "bin_start": 22.4,
            "bin_end": 23.700000000000003,
            "count": 0
           },
           {
            "bin_start": 23.700000000000003,
            "bin_end": 25,
            "count": 1
           }
          ]
         }
        },
        {
         "name": "Protein (g)",
         "dtype": "int64",
         "stats": {
          "unique_count": 3,
          "nan_count": 0,
          "min": "0",
          "max": "9",
          "histogram": [
           {
            "bin_start": 0,
            "bin_end": 0.9,
            "count": 1
           },
           {
            "bin_start": 0.9,
            "bin_end": 1.8,
            "count": 0
           },
           {
            "bin_start": 1.8,
            "bin_end": 2.7,
            "count": 0
           },
           {
            "bin_start": 2.7,
            "bin_end": 3.6,
            "count": 0
           },
           {
            "bin_start": 3.6,
            "bin_end": 4.5,
            "count": 0
           },
           {
            "bin_start": 4.5,
            "bin_end": 5.4,
            "count": 0
           },
           {
            "bin_start": 5.4,
            "bin_end": 6.3,
            "count": 0
           },
           {
            "bin_start": 6.3,
            "bin_end": 7.2,
            "count": 0
           },
           {
            "bin_start": 7.2,
            "bin_end": 8.1,
            "count": 1
           },
           {
            "bin_start": 8.1,
            "bin_end": 9,
            "count": 1
           }
          ]
         }
        },
        {
         "name": "_deepnote_index_column",
         "dtype": "int64"
        }
       ],
       "rows": [
        {
         "Category": "KING JR MEALS Beverage ",
         "Product Name": "Fat FREE Milk (8 fl oz)",
         "Serving Size (g)": "nan",
         "Calories": 90,
         "Calories from fat": 0,
         "Total fat (g)": 0,
         "Saturated Fat (g)": 0,
         "Trans Fat (g)": 0,
         "Chol (mg)": 5,
         "Sodium (mg)": 125,
         "Total Carb (g)": 13,
         "Dietary Fiber (g)": 0,
         "Total Sugar (g)": 12,
         "Protein (g)": 9,
         "_deepnote_index_column": 61
        },
        {
         "Category": "KING JR MEALS Beverage ",
         "Product Name": "1% Low Fat Chocolate Milk (8 fl oz)",
         "Serving Size (g)": "nan",
         "Calories": 160,
         "Calories from fat": 25,
         "Total fat (g)": 2.5,
         "Saturated Fat (g)": 1.5,
         "Trans Fat (g)": 0,
         "Chol (mg)": 15,
         "Sodium (mg)": 150,
         "Total Carb (g)": 26,
         "Dietary Fiber (g)": 0,
         "Total Sugar (g)": 25,
         "Protein (g)": 8,
         "_deepnote_index_column": 62
        },
        {
         "Category": "KING JR MEALS Beverage ",
         "Product Name": "Capri Sun 100% Apple Juice (6 fl oz)",
         "Serving Size (g)": "nan",
         "Calories": 80,
         "Calories from fat": 0,
         "Total fat (g)": 0,
         "Saturated Fat (g)": 0,
         "Trans Fat (g)": 0,
         "Chol (mg)": 0,
         "Sodium (mg)": 25,
         "Total Carb (g)": 20,
         "Dietary Fiber (g)": 0,
         "Total Sugar (g)": 20,
         "Protein (g)": 0,
         "_deepnote_index_column": 63
        }
       ]
      },
      "text/plain": "                   Category                          Product Name  \\\n61  KING JR MEALS Beverage                Fat FREE Milk (8 fl oz)   \n62  KING JR MEALS Beverage    1% Low Fat Chocolate Milk (8 fl oz)   \n63  KING JR MEALS Beverage   Capri Sun 100% Apple Juice (6 fl oz)   \n\n    Serving Size (g)  Calories  Calories from fat  Total fat (g)  \\\n61               NaN        90                  0            0.0   \n62               NaN       160                 25            2.5   \n63               NaN        80                  0            0.0   \n\n    Saturated Fat (g)  Trans Fat (g)  Chol (mg)  Sodium (mg)  Total Carb (g)  \\\n61                0.0            0.0          5          125              13   \n62                1.5            0.0         15          150              26   \n63                0.0            0.0          0           25              20   \n\n    Dietary Fiber (g)  Total Sugar (g)  Protein (g)  \n61                  0               12            9  \n62                  0               25            8  \n63                  0               20            0  ",
      "text/html": "<div>\n<style scoped>\n    .dataframe tbody tr th:only-of-type {\n        vertical-align: middle;\n    }\n\n    .dataframe tbody tr th {\n        vertical-align: top;\n    }\n\n    .dataframe thead th {\n        text-align: right;\n    }\n</style>\n<table border=\"1\" class=\"dataframe\">\n  <thead>\n    <tr style=\"text-align: right;\">\n      <th></th>\n      <th>Category</th>\n      <th>Product Name</th>\n      <th>Serving Size (g)</th>\n      <th>Calories</th>\n      <th>Calories from fat</th>\n      <th>Total fat (g)</th>\n      <th>Saturated Fat (g)</th>\n      <th>Trans Fat (g)</th>\n      <th>Chol (mg)</th>\n      <th>Sodium (mg)</th>\n      <th>Total Carb (g)</th>\n      <th>Dietary Fiber (g)</th>\n      <th>Total Sugar (g)</th>\n      <th>Protein (g)</th>\n    </tr>\n  </thead>\n  <tbody>\n    <tr>\n      <th>61</th>\n      <td>KING JR MEALS Beverage</td>\n      <td>Fat FREE Milk (8 fl oz)</td>\n      <td>NaN</td>\n      <td>90</td>\n      <td>0</td>\n      <td>0.0</td>\n      <td>0.0</td>\n      <td>0.0</td>\n      <td>5</td>\n      <td>125</td>\n      <td>13</td>\n      <td>0</td>\n      <td>12</td>\n      <td>9</td>\n    </tr>\n    <tr>\n      <th>62</th>\n      <td>KING JR MEALS Beverage</td>\n      <td>1% Low Fat Chocolate Milk (8 fl oz)</td>\n      <td>NaN</td>\n      <td>160</td>\n      <td>25</td>\n      <td>2.5</td>\n      <td>1.5</td>\n      <td>0.0</td>\n      <td>15</td>\n      <td>150</td>\n      <td>26</td>\n      <td>0</td>\n      <td>25</td>\n      <td>8</td>\n    </tr>\n    <tr>\n      <th>63</th>\n      <td>KING JR MEALS Beverage</td>\n      <td>Capri Sun 100% Apple Juice (6 fl oz)</td>\n      <td>NaN</td>\n      <td>80</td>\n      <td>0</td>\n      <td>0.0</td>\n      <td>0.0</td>\n      <td>0.0</td>\n      <td>0</td>\n      <td>25</td>\n      <td>20</td>\n      <td>0</td>\n      <td>20</td>\n      <td>0</td>\n    </tr>\n  </tbody>\n</table>\n</div>"
     },
     "metadata": {}
    }
   ]
  },
  {
   "cell_type": "code",
   "metadata": {
    "cell_id": "2293af896b2d4a788229babc5e9a827c",
    "tags": [],
    "deepnote_to_be_reexecuted": false,
    "source_hash": "580db10f",
    "execution_start": 1650810991661,
    "execution_millis": 16,
    "deepnote_cell_type": "code",
    "deepnote_cell_height": 386.8125,
    "deepnote_output_heights": [
     289.8125
    ]
   },
   "source": "bk_data.isnull().sum()",
   "execution_count": 23,
   "outputs": [
    {
     "output_type": "execute_result",
     "execution_count": 23,
     "data": {
      "text/plain": "Category             0\nProduct Name         0\nServing Size (g)     3\nCalories             0\nCalories from fat    0\nTotal fat (g)        0\nSaturated Fat (g)    0\nTrans Fat (g)        0\nChol (mg)            0\nSodium (mg)          0\nTotal Carb (g)       0\nDietary Fiber (g)    0\nTotal Sugar (g)      0\nProtein (g)          0\ndtype: int64"
     },
     "metadata": {}
    }
   ]
  },
  {
   "cell_type": "code",
   "metadata": {
    "cell_id": "74b68b0a36e24031b7fb52e001c92056",
    "tags": [],
    "deepnote_to_be_reexecuted": false,
    "source_hash": "8131829b",
    "execution_start": 1650810991685,
    "execution_millis": 19,
    "deepnote_cell_type": "code",
    "deepnote_cell_height": 175.75,
    "deepnote_output_heights": [
     78.75
    ]
   },
   "source": "bk_data[\"Category\"].unique()",
   "execution_count": 24,
   "outputs": [
    {
     "output_type": "execute_result",
     "execution_count": 24,
     "data": {
      "text/plain": "array(['WHOPPER SANDWICHES', 'FLAME BROILED BURGERS', 'CHICKEN & MORE',\n       'SALADS & SIDES', 'KING JR MEALS Entrees ',\n       'KING JR MEALS Side Items', 'KING JR MEALS Beverage ',\n       'KING JR MEALS Desserts', 'BREAKFAST', 'Condiment'], dtype=object)"
     },
     "metadata": {}
    }
   ]
  },
  {
   "cell_type": "code",
   "metadata": {
    "cell_id": "38063f923e4b467ba59e742c34f207ef",
    "tags": [],
    "deepnote_to_be_reexecuted": false,
    "source_hash": "a86eb725",
    "execution_start": 1650810991710,
    "execution_millis": 25,
    "deepnote_cell_type": "code",
    "deepnote_cell_height": 136.1875,
    "deepnote_output_heights": [
     21.1875
    ]
   },
   "source": "bk_mod = bk_data.loc[(bk_data[\"Category\"] != \"KING JR MEALS Side Items\")&(bk_data[\"Category\"] != \"KING JR MEALS Beverage \")&(bk_data[\"Category\"] != \"Condiment\")]\nbk_mod.shape",
   "execution_count": 25,
   "outputs": [
    {
     "output_type": "execute_result",
     "execution_count": 25,
     "data": {
      "text/plain": "(92, 14)"
     },
     "metadata": {}
    }
   ]
  },
  {
   "cell_type": "code",
   "metadata": {
    "cell_id": "61489e4c085a42f8896544b14a95a7f3",
    "tags": [],
    "deepnote_to_be_reexecuted": false,
    "source_hash": "d94fbe67",
    "execution_start": 1650810991735,
    "execution_millis": 574,
    "deepnote_cell_type": "code",
    "deepnote_cell_height": 648.890625,
    "deepnote_output_heights": [
     null,
     445.515625
    ]
   },
   "source": "plt.figure(figsize=(16, 8))\nsb.countplot(bk_mod[\"Category\"])\nplt.show()",
   "execution_count": 26,
   "outputs": [
    {
     "name": "stderr",
     "text": "/shared-libs/python3.7/py/lib/python3.7/site-packages/seaborn/_decorators.py:43: FutureWarning: Pass the following variable as a keyword arg: x. From version 0.12, the only valid positional argument will be `data`, and passing other arguments without an explicit keyword will result in an error or misinterpretation.\n  FutureWarning\n",
     "output_type": "stream"
    },
    {
     "data": {
      "text/plain": "<Figure size 1152x576 with 1 Axes>",
      "image/png": "[encoded data removed]"
     },
     "metadata": {
      "image/png": {
       "width": 947,
       "height": 485
      }
     },
     "output_type": "display_data"
    }
   ]
  },
  {
   "cell_type": "code",
   "metadata": {
    "cell_id": "204d31696cc648178d2807ea88f8f046",
    "tags": [],
    "deepnote_to_be_reexecuted": false,
    "source_hash": "e3d72cca",
    "execution_start": 1650810992305,
    "execution_millis": 33,
    "deepnote_cell_type": "code",
    "deepnote_cell_height": 99
   },
   "source": "bk_nutrition_data = pd.DataFrame(bk_mod[[\"Serving Size (g)\",\"Calories\",\"Calories from fat\",\"Total fat (g)\",\"Saturated Fat (g)\",\"Trans Fat (g)\",\"Chol (mg)\",\"Sodium (mg)\",\"Total Carb (g)\",\"Dietary Fiber (g)\",\"Total Sugar (g)\",\"Protein (g)\"]])\n",
   "execution_count": 27,
   "outputs": []
  },
  {
   "cell_type": "code",
   "metadata": {
    "cell_id": "d4d686d75eee4e0ba9b73de6eaf0cc28",
    "tags": [],
    "deepnote_to_be_reexecuted": false,
    "source_hash": "85990895",
    "execution_start": 1650810992343,
    "execution_millis": 190,
    "deepnote_cell_type": "code",
    "deepnote_cell_height": 535
   },
   "source": "bk_nutrition_data.describe().round(2)",
   "execution_count": 28,
   "outputs": [
    {
     "output_type": "execute_result",
     "execution_count": 28,
     "data": {
      "application/vnd.deepnote.dataframe.v3+json": {
       "column_count": 12,
       "row_count": 8,
       "columns": [
        {
         "name": "Serving Size (g)",
         "dtype": "float64",
         "stats": {
          "unique_count": 8,
          "nan_count": 0,
          "min": "14.0",
          "max": "461.0",
          "histogram": [
           {
            "bin_start": 14,
            "bin_end": 58.7,
            "count": 1
           },
           {
            "bin_start": 58.7,
            "bin_end": 103.4,
            "count": 3
           },
           {
            "bin_start": 103.4,
            "bin_end": 148.10000000000002,
            "count": 0
           },
           {
            "bin_start": 148.10000000000002,
            "bin_end": 192.8,
            "count": 2
           },
           {
            "bin_start": 192.8,
            "bin_end": 237.5,
            "count": 1
           },
           {
            "bin_start": 237.5,
            "bin_end": 282.20000000000005,
            "count": 0
           },
           {
            "bin_start": 282.20000000000005,
            "bin_end": 326.90000000000003,
            "count": 0
           },
           {
            "bin_start": 326.90000000000003,
            "bin_end": 371.6,
            "count": 0
           },
           {
            "bin_start": 371.6,
            "bin_end": 416.3,
            "count": 0
           },
           {
            "bin_start": 416.3,
            "bin_end": 461,
            "count": 1
           }
          ]
         }
        },
        {
         "name": "Calories",
         "dtype": "float64",
         "stats": {
          "unique_count": 8,
          "nan_count": 0,
          "min": "60.0",
          "max": "1220.0",
          "histogram": [
           {
            "bin_start": 60,
            "bin_end": 176,
            "count": 2
           },
           {
            "bin_start": 176,
            "bin_end": 292,
            "count": 2
           },
           {
            "bin_start": 292,
            "bin_end": 408,
            "count": 1
           },
           {
            "bin_start": 408,
            "bin_end": 524,
            "count": 1
           },
           {
            "bin_start": 524,
            "bin_end": 640,
            "count": 0
           },
           {
            "bin_start": 640,
            "bin_end": 756,
            "count": 1
           },
           {
            "bin_start": 756,
            "bin_end": 872,
            "count": 0
           },
           {
            "bin_start": 872,
            "bin_end": 988,
            "count": 0
           },
           {
            "bin_start": 988,
            "bin_end": 1104,
            "count": 0
           },
           {
            "bin_start": 1104,
            "bin_end": 1220,
            "count": 1
           }
          ]
         }
        },
        {
         "name": "Calories from fat",
         "dtype": "float64",
         "stats": {
          "unique_count": 8,
          "nan_count": 0,
          "min": "20.0",
          "max": "750.0",
          "histogram": [
           {
            "bin_start": 20,
            "bin_end": 93,
            "count": 2
           },
           {
            "bin_start": 93,
            "bin_end": 166,
            "count": 1
           },
           {
            "bin_start": 166,
            "bin_end": 239,
            "count": 2
           },
           {
            "bin_start": 239,
            "bin_end": 312,
            "count": 1
           },
           {
            "bin_start": 312,
            "bin_end": 385,
            "count": 1
           },
           {
            "bin_start": 385,
            "bin_end": 458,
            "count": 0
           },
           {
            "bin_start": 458,
            "bin_end": 531,
            "count": 0
           },
           {
            "bin_start": 531,
            "bin_end": 604,
            "count": 0
           },
           {
            "bin_start": 604,
            "bin_end": 677,
            "count": 0
           },
           {
            "bin_start": 677,
            "bin_end": 750,
            "count": 1
           }
          ]
         }
        },
        {
         "name": "Total fat (g)",
         "dtype": "float64",
         "stats": {
          "unique_count": 8,
          "nan_count": 0,
          "min": "2.5",
          "max": "92.0",
          "histogram": [
           {
            "bin_start": 2.5,
            "bin_end": 11.45,
            "count": 1
           },
           {
            "bin_start": 11.45,
            "bin_end": 20.4,
            "count": 2
           },
           {
            "bin_start": 20.4,
            "bin_end": 29.349999999999998,
            "count": 2
           },
           {
            "bin_start": 29.349999999999998,
            "bin_end": 38.3,
            "count": 0
           },
           {
            "bin_start": 38.3,
            "bin_end": 47.25,
            "count": 1
           },
           {
            "bin_start": 47.25,
            "bin_end": 56.199999999999996,
            "count": 0
           },
           {
            "bin_start": 56.199999999999996,
            "bin_end": 65.14999999999999,
            "count": 0
           },
           {
            "bin_start": 65.14999999999999,
            "bin_end": 74.1,
            "count": 0
           },
           {
            "bin_start": 74.1,
            "bin_end": 83.05,
            "count": 0
           },
           {
            "bin_start": 83.05,
            "bin_end": 92,
            "count": 2
           }
          ]
         }
        },
        {
         "name": "Saturated Fat (g)",
         "dtype": "float64",
         "stats": {
          "unique_count": 8,
          "nan_count": 0,
          "min": "0.0",
          "max": "92.0",
          "histogram": [
           {
            "bin_start": 0,
            "bin_end": 9.2,
            "count": 4
           },
           {
            "bin_start": 9.2,
            "bin_end": 18.4,
            "count": 2
           },
           {
            "bin_start": 18.4,
            "bin_end": 27.599999999999998,
            "count": 0
           },
           {
            "bin_start": 27.599999999999998,
            "bin_end": 36.8,
            "count": 1
           },
           {
            "bin_start": 36.8,
            "bin_end": 46,
            "count": 0
           },
           {
            "bin_start": 46,
            "bin_end": 55.199999999999996,
            "count": 0
           },
           {
            "bin_start": 55.199999999999996,
            "bin_end": 64.39999999999999,
            "count": 0
           },
           {
            "bin_start": 64.39999999999999,
            "bin_end": 73.6,
            "count": 0
           },
           {
            "bin_start": 73.6,
            "bin_end": 82.8,
            "count": 0
           },
           {
            "bin_start": 82.8,
            "bin_end": 92,
            "count": 1
           }
          ]
         }
        },
        {
         "name": "Trans Fat (g)",
         "dtype": "float64",
         "stats": {
          "unique_count": 6,
          "nan_count": 0,
          "min": "0.0",
          "max": "92.0",
          "histogram": [
           {
            "bin_start": 0,
            "bin_end": 9.2,
            "count": 7
           },
           {
            "bin_start": 9.2,
            "bin_end": 18.4,
            "count": 0
           },
           {
            "bin_start": 18.4,
            "bin_end": 27.599999999999998,
            "count": 0
           },
           {
            "bin_start": 27.599999999999998,
            "bin_end": 36.8,
            "count": 0
           },
           {
            "bin_start": 36.8,
            "bin_end": 46,
            "count": 0
           },
           {
            "bin_start": 46,
            "bin_end": 55.199999999999996,
            "count": 0
           },
           {
            "bin_start": 55.199999999999996,
            "bin_end": 64.39999999999999,
            "count": 0
           },
           {
            "bin_start": 64.39999999999999,
            "bin_end": 73.6,
            "count": 0
           },
           {
            "bin_start": 73.6,
            "bin_end": 82.8,
            "count": 0
           },
           {
            "bin_start": 82.8,
            "bin_end": 92,
            "count": 1
           }
          ]
         }
        },
        {
         "name": "Chol (mg)",
         "dtype": "float64",
         "stats": {
          "unique_count": 8,
          "nan_count": 0,
          "min": "0.0",
          "max": "390.0",
          "histogram": [
           {
            "bin_start": 0,
            "bin_end": 39,
            "count": 2
           },
           {
            "bin_start": 39,
            "bin_end": 78,
            "count": 1
           },
           {
            "bin_start": 78,
            "bin_end": 117,
            "count": 3
           },
           {
            "bin_start": 117,
            "bin_end": 156,
            "count": 1
           },
           {
            "bin_start": 156,
            "bin_end": 195,
            "count": 0
           },
           {
            "bin_start": 195,
            "bin_end": 234,
            "count": 0
           },
           {
            "bin_start": 234,
            "bin_end": 273,
            "count": 0
           },
           {
            "bin_start": 273,
            "bin_end": 312,
            "count": 0
           },
           {
            "bin_start": 312,
            "bin_end": 351,
            "count": 0
           },
           {
            "bin_start": 351,
            "bin_end": 390,
            "count": 1
           }
          ]
         }
        },
        {
         "name": "Sodium (mg)",
         "dtype": "float64",
         "stats": {
          "unique_count": 8,
          "nan_count": 0,
          "min": "92.0",
          "max": "2840.0",
          "histogram": [
           {
            "bin_start": 92,
            "bin_end": 366.8,
            "count": 2
           },
           {
            "bin_start": 366.8,
            "bin_end": 641.6,
            "count": 2
           },
           {
            "bin_start": 641.6,
            "bin_end": 916.4000000000001,
            "count": 1
           },
           {
            "bin_start": 916.4000000000001,
            "bin_end": 1191.2,
            "count": 1
           },
           {
            "bin_start": 1191.2,
            "bin_end": 1466,
            "count": 1
           },
           {
            "bin_start": 1466,
            "bin_end": 1740.8000000000002,
            "count": 0
           },
           {
            "bin_start": 1740.8000000000002,
            "bin_end": 2015.6000000000001,
            "count": 0
           },
           {
            "bin_start": 2015.6000000000001,
            "bin_end": 2290.4,
            "count": 0
           },
           {
            "bin_start": 2290.4,
            "bin_end": 2565.2000000000003,
            "count": 0
           },
           {
            "bin_start": 2565.2000000000003,
            "bin_end": 2840,
            "count": 1
           }
          ]
         }
        },
        {
         "name": "Total Carb (g)",
         "dtype": "float64",
         "stats": {
          "unique_count": 8,
          "nan_count": 0,
          "min": "2.0",
          "max": "110.0",
          "histogram": [
           {
            "bin_start": 2,
            "bin_end": 12.8,
            "count": 1
           },
           {
            "bin_start": 12.8,
            "bin_end": 23.6,
            "count": 1
           },
           {
            "bin_start": 23.6,
            "bin_end": 34.400000000000006,
            "count": 2
           },
           {
            "bin_start": 34.400000000000006,
            "bin_end": 45.2,
            "count": 1
           },
           {
            "bin_start": 45.2,
            "bin_end": 56,
            "count": 1
           },
           {
            "bin_start": 56,
            "bin_end": 66.80000000000001,
            "count": 0
           },
           {
            "bin_start": 66.80000000000001,
            "bin_end": 77.60000000000001,
            "count": 0
           },
           {
            "bin_start": 77.60000000000001,
            "bin_end": 88.4,
            "count": 0
           },
           {
            "bin_start": 88.4,
            "bin_end": 99.2,
            "count": 1
           },
           {
            "bin_start": 99.2,
            "bin_end": 110,
            "count": 1
           }
          ]
         }
        },
        {
         "name": "Dietary Fiber (g)",
         "dtype": "float64",
         "stats": {
          "unique_count": 8,
          "nan_count": 0,
          "min": "0.0",
          "max": "92.0",
          "histogram": [
           {
            "bin_start": 0,
            "bin_end": 9.2,
            "count": 7
           },
           {
            "bin_start": 9.2,
            "bin_end": 18.4,
            "count": 0
           },
           {
            "bin_start": 18.4,
            "bin_end": 27.599999999999998,
            "count": 0
           },
           {
            "bin_start": 27.599999999999998,
            "bin_end": 36.8,
            "count": 0
           },
           {
            "bin_start": 36.8,
            "bin_end": 46,
            "count": 0
           },
           {
            "bin_start": 46,
            "bin_end": 55.199999999999996,
            "count": 0
           },
           {
            "bin_start": 55.199999999999996,
            "bin_end": 64.39999999999999,
            "count": 0
           },
           {
            "bin_start": 64.39999999999999,
            "bin_end": 73.6,
            "count": 0
           },
           {
            "bin_start": 73.6,
            "bin_end": 82.8,
            "count": 0
           },
           {
            "bin_start": 82.8,
            "bin_end": 92,
            "count": 1
           }
          ]
         }
        },
        {
         "name": "Total Sugar (g)",
         "dtype": "float64",
         "stats": {
          "unique_count": 8,
          "nan_count": 0,
          "min": "0.0",
          "max": "92.0",
          "histogram": [
           {
            "bin_start": 0,
            "bin_end": 9.2,
            "count": 5
           },
           {
            "bin_start": 9.2,
            "bin_end": 18.4,
            "count": 1
           },
           {
            "bin_start": 18.4,
            "bin_end": 27.599999999999998,
            "count": 0
           },
           {
            "bin_start": 27.599999999999998,
            "bin_end": 36.8,
            "count": 0
           },
           {
            "bin_start": 36.8,
            "bin_end": 46,
            "count": 1
           },
           {
            "bin_start": 46,
            "bin_end": 55.199999999999996,
            "count": 0
           },
           {
            "bin_start": 55.199999999999996,
            "bin_end": 64.39999999999999,
            "count": 0
           },
           {
            "bin_start": 64.39999999999999,
            "bin_end": 73.6,
            "count": 0
           },
           {
            "bin_start": 73.6,
            "bin_end": 82.8,
            "count": 0
           },
           {
            "bin_start": 82.8,
            "bin_end": 92,
            "count": 1
           }
          ]
         }
        },
        {
         "name": "Protein (g)",
         "dtype": "float64",
         "stats": {
          "unique_count": 8,
          "nan_count": 0,
          "min": "0.0",
          "max": "92.0",
          "histogram": [
           {
            "bin_start": 0,
            "bin_end": 9.2,
            "count": 2
           },
           {
            "bin_start": 9.2,
            "bin_end": 18.4,
            "count": 2
           },
           {
            "bin_start": 18.4,
            "bin_end": 27.599999999999998,
            "count": 1
           },
           {
            "bin_start": 27.599999999999998,
            "bin_end": 36.8,
            "count": 1
           },
           {
            "bin_start": 36.8,
            "bin_end": 46,
            "count": 0
           },
           {
            "bin_start": 46,
            "bin_end": 55.199999999999996,
            "count": 0
           },
           {
            "bin_start": 55.199999999999996,
            "bin_end": 64.39999999999999,
            "count": 0
           },
           {
            "bin_start": 64.39999999999999,
            "bin_end": 73.6,
            "count": 1
           },
           {
            "bin_start": 73.6,
            "bin_end": 82.8,
            "count": 0
           },
           {
            "bin_start": 82.8,
            "bin_end": 92,
            "count": 1
           }
          ]
         }
        },
        {
         "name": "_deepnote_index_column",
         "dtype": "object"
        }
       ],
       "rows": [
        {
         "Serving Size (g)": 92,
         "Calories": 92,
         "Calories from fat": 92,
         "Total fat (g)": 92,
         "Saturated Fat (g)": 92,
         "Trans Fat (g)": 92,
         "Chol (mg)": 92,
         "Sodium (mg)": 92,
         "Total Carb (g)": 92,
         "Dietary Fiber (g)": 92,
         "Total Sugar (g)": 92,
         "Protein (g)": 92,
         "_deepnote_index_column": "count"
        },
        {
         "Serving Size (g)": 179.16,
         "Calories": 486.52,
         "Calories from fat": 261.09,
         "Total fat (g)": 29.05,
         "Saturated Fat (g)": 9.23,
         "Trans Fat (g)": 0.53,
         "Chol (mg)": 88.26,
         "Sodium (mg)": 929.02,
         "Total Carb (g)": 38,
         "Dietary Fiber (g)": 2.03,
         "Total Sugar (g)": 8.37,
         "Protein (g)": 18.9,
         "_deepnote_index_column": "mean"
        },
        {
         "Serving Size (g)": 101.65,
         "Calories": 277.99,
         "Calories from fat": 173.99,
         "Total fat (g)": 19.37,
         "Saturated Fat (g)": 7.6,
         "Trans Fat (g)": 1.06,
         "Chol (mg)": 95.34,
         "Sodium (mg)": 598.26,
         "Total Carb (g)": 18.54,
         "Dietary Fiber (g)": 1.77,
         "Total Sugar (g)": 9.08,
         "Protein (g)": 16.59,
         "_deepnote_index_column": "std"
        },
        {
         "Serving Size (g)": 14,
         "Calories": 60,
         "Calories from fat": 20,
         "Total fat (g)": 2.5,
         "Saturated Fat (g)": 0,
         "Trans Fat (g)": 0,
         "Chol (mg)": 0,
         "Sodium (mg)": 95,
         "Total Carb (g)": 2,
         "Dietary Fiber (g)": 0,
         "Total Sugar (g)": 0,
         "Protein (g)": 0,
         "_deepnote_index_column": "min"
        },
        {
         "Serving Size (g)": 101.25,
         "Calories": 275,
         "Calories from fat": 140,
         "Total fat (g)": 16,
         "Saturated Fat (g)": 3.38,
         "Trans Fat (g)": 0,
         "Chol (mg)": 10,
         "Sodium (mg)": 387.5,
         "Total Carb (g)": 27,
         "Dietary Fiber (g)": 1,
         "Total Sugar (g)": 2,
         "Protein (g)": 5,
         "_deepnote_index_column": "25%"
        },
        {
         "Serving Size (g)": 150.5,
         "Calories": 405,
         "Calories from fat": 210,
         "Total fat (g)": 24,
         "Saturated Fat (g)": 7,
         "Trans Fat (g)": 0,
         "Chol (mg)": 50,
         "Sodium (mg)": 890,
         "Total Carb (g)": 32,
         "Dietary Fiber (g)": 1.5,
         "Total Sugar (g)": 6,
         "Protein (g)": 14.5,
         "_deepnote_index_column": "50%"
        },
        {
         "Serving Size (g)": 232.75,
         "Calories": 660,
         "Calories from fat": 362.5,
         "Total fat (g)": 40.25,
         "Saturated Fat (g)": 13,
         "Trans Fat (g)": 0.5,
         "Chol (mg)": 152.5,
         "Sodium (mg)": 1365,
         "Total Carb (g)": 50,
         "Dietary Fiber (g)": 2.25,
         "Total Sugar (g)": 11,
         "Protein (g)": 28,
         "_deepnote_index_column": "75%"
        },
        {
         "Serving Size (g)": 461,
         "Calories": 1220,
         "Calories from fat": 750,
         "Total fat (g)": 84,
         "Saturated Fat (g)": 33,
         "Trans Fat (g)": 4.5,
         "Chol (mg)": 390,
         "Sodium (mg)": 2840,
         "Total Carb (g)": 110,
         "Dietary Fiber (g)": 9,
         "Total Sugar (g)": 43,
         "Protein (g)": 71,
         "_deepnote_index_column": "max"
        }
       ]
      },
      "text/plain": "       Serving Size (g)  Calories  Calories from fat  Total fat (g)  \\\ncount             92.00     92.00              92.00          92.00   \nmean             179.16    486.52             261.09          29.05   \nstd              101.65    277.99             173.99          19.37   \nmin               14.00     60.00              20.00           2.50   \n25%              101.25    275.00             140.00          16.00   \n50%              150.50    405.00             210.00          24.00   \n75%              232.75    660.00             362.50          40.25   \nmax              461.00   1220.00             750.00          84.00   \n\n       Saturated Fat (g)  Trans Fat (g)  Chol (mg)  Sodium (mg)  \\\ncount              92.00          92.00      92.00        92.00   \nmean                9.23           0.53      88.26       929.02   \nstd                 7.60           1.06      95.34       598.26   \nmin                 0.00           0.00       0.00        95.00   \n25%                 3.38           0.00      10.00       387.50   \n50%                 7.00           0.00      50.00       890.00   \n75%                13.00           0.50     152.50      1365.00   \nmax                33.00           4.50     390.00      2840.00   \n\n       Total Carb (g)  Dietary Fiber (g)  Total Sugar (g)  Protein (g)  \ncount           92.00              92.00            92.00        92.00  \nmean            38.00               2.03             8.37        18.90  \nstd             18.54               1.77             9.08        16.59  \nmin              2.00               0.00             0.00         0.00  \n25%             27.00               1.00             2.00         5.00  \n50%             32.00               1.50             6.00        14.50  \n75%             50.00               2.25            11.00        28.00  \nmax            110.00               9.00            43.00        71.00  ",
      "text/html": "<div>\n<style scoped>\n    .dataframe tbody tr th:only-of-type {\n        vertical-align: middle;\n    }\n\n    .dataframe tbody tr th {\n        vertical-align: top;\n    }\n\n    .dataframe thead th {\n        text-align: right;\n    }\n</style>\n<table border=\"1\" class=\"dataframe\">\n  <thead>\n    <tr style=\"text-align: right;\">\n      <th></th>\n      <th>Serving Size (g)</th>\n      <th>Calories</th>\n      <th>Calories from fat</th>\n      <th>Total fat (g)</th>\n      <th>Saturated Fat (g)</th>\n      <th>Trans Fat (g)</th>\n      <th>Chol (mg)</th>\n      <th>Sodium (mg)</th>\n      <th>Total Carb (g)</th>\n      <th>Dietary Fiber (g)</th>\n      <th>Total Sugar (g)</th>\n      <th>Protein (g)</th>\n    </tr>\n  </thead>\n  <tbody>\n    <tr>\n      <th>count</th>\n      <td>92.00</td>\n      <td>92.00</td>\n      <td>92.00</td>\n      <td>92.00</td>\n      <td>92.00</td>\n      <td>92.00</td>\n      <td>92.00</td>\n      <td>92.00</td>\n      <td>92.00</td>\n      <td>92.00</td>\n      <td>92.00</td>\n      <td>92.00</td>\n    </tr>\n    <tr>\n      <th>mean</th>\n      <td>179.16</td>\n      <td>486.52</td>\n      <td>261.09</td>\n      <td>29.05</td>\n      <td>9.23</td>\n      <td>0.53</td>\n      <td>88.26</td>\n      <td>929.02</td>\n      <td>38.00</td>\n      <td>2.03</td>\n      <td>8.37</td>\n      <td>18.90</td>\n    </tr>\n    <tr>\n      <th>std</th>\n      <td>101.65</td>\n      <td>277.99</td>\n      <td>173.99</td>\n      <td>19.37</td>\n      <td>7.60</td>\n      <td>1.06</td>\n      <td>95.34</td>\n      <td>598.26</td>\n      <td>18.54</td>\n      <td>1.77</td>\n      <td>9.08</td>\n      <td>16.59</td>\n    </tr>\n    <tr>\n      <th>min</th>\n      <td>14.00</td>\n      <td>60.00</td>\n      <td>20.00</td>\n      <td>2.50</td>\n      <td>0.00</td>\n      <td>0.00</td>\n      <td>0.00</td>\n      <td>95.00</td>\n      <td>2.00</td>\n      <td>0.00</td>\n      <td>0.00</td>\n      <td>0.00</td>\n    </tr>\n    <tr>\n      <th>25%</th>\n      <td>101.25</td>\n      <td>275.00</td>\n      <td>140.00</td>\n      <td>16.00</td>\n      <td>3.38</td>\n      <td>0.00</td>\n      <td>10.00</td>\n      <td>387.50</td>\n      <td>27.00</td>\n      <td>1.00</td>\n      <td>2.00</td>\n      <td>5.00</td>\n    </tr>\n    <tr>\n      <th>50%</th>\n      <td>150.50</td>\n      <td>405.00</td>\n      <td>210.00</td>\n      <td>24.00</td>\n      <td>7.00</td>\n      <td>0.00</td>\n      <td>50.00</td>\n      <td>890.00</td>\n      <td>32.00</td>\n      <td>1.50</td>\n      <td>6.00</td>\n      <td>14.50</td>\n    </tr>\n    <tr>\n      <th>75%</th>\n      <td>232.75</td>\n      <td>660.00</td>\n      <td>362.50</td>\n      <td>40.25</td>\n      <td>13.00</td>\n      <td>0.50</td>\n      <td>152.50</td>\n      <td>1365.00</td>\n      <td>50.00</td>\n      <td>2.25</td>\n      <td>11.00</td>\n      <td>28.00</td>\n    </tr>\n    <tr>\n      <th>max</th>\n      <td>461.00</td>\n      <td>1220.00</td>\n      <td>750.00</td>\n      <td>84.00</td>\n      <td>33.00</td>\n      <td>4.50</td>\n      <td>390.00</td>\n      <td>2840.00</td>\n      <td>110.00</td>\n      <td>9.00</td>\n      <td>43.00</td>\n      <td>71.00</td>\n    </tr>\n  </tbody>\n</table>\n</div>"
     },
     "metadata": {}
    }
   ]
  },
  {
   "cell_type": "markdown",
   "source": "### 4. Join Datasets",
   "metadata": {
    "cell_id": "0080d7c6a0b34990a13dfbf997bc0137",
    "tags": [],
    "deepnote_cell_type": "markdown",
    "deepnote_cell_height": 62
   }
  },
  {
   "cell_type": "markdown",
   "source": "Now that we've cleaned up each dataset, we have to make sure that all three tables have the same columns.",
   "metadata": {
    "cell_id": "33242933c39c4562819f9ac7b35ea43f",
    "tags": [],
    "deepnote_cell_type": "markdown",
    "deepnote_cell_height": 52.390625
   }
  },
  {
   "cell_type": "code",
   "metadata": {
    "cell_id": "650f1898a73d446abbf5d9b921436b6e",
    "tags": [],
    "deepnote_to_be_reexecuted": false,
    "source_hash": "e028b933",
    "execution_start": 1650810992540,
    "execution_millis": 19,
    "deepnote_cell_type": "code",
    "deepnote_cell_height": 194.9375,
    "deepnote_output_heights": [
     97.9375
    ]
   },
   "source": "sub_mod.columns",
   "execution_count": 29,
   "outputs": [
    {
     "output_type": "execute_result",
     "execution_count": 29,
     "data": {
      "text/plain": "Index(['Item', 'Category', 'Serving Size (g)', 'Calories', 'Total Fat (g)',\n       'Saturated Fat (g)', 'Trans Fat (g)', 'Cholesterol (mg)', 'Sodium (mg)',\n       'Carbohydrates (g)', 'Dietary Fiber (g)', 'Sugars (g)', 'Protein (g)',\n       'Vitamin A % DV', 'Vitamin C % DV', 'Calcium % DV', 'Iron % DV'],\n      dtype='object')"
     },
     "metadata": {}
    }
   ]
  },
  {
   "cell_type": "code",
   "metadata": {
    "cell_id": "db7def9f37a64b37afe7aa6489a135f6",
    "tags": [],
    "deepnote_to_be_reexecuted": false,
    "source_hash": "fce23dbd",
    "execution_start": 1650810992572,
    "execution_millis": 14,
    "deepnote_cell_type": "code",
    "deepnote_cell_height": 271.6875,
    "deepnote_output_heights": [
     174.6875
    ]
   },
   "source": "mcd_mod.columns",
   "execution_count": 30,
   "outputs": [
    {
     "output_type": "execute_result",
     "execution_count": 30,
     "data": {
      "text/plain": "Index(['Category', 'Item', 'Serving Size', 'Calories', 'Calories from Fat',\n       'Total Fat', 'Total Fat (% Daily Value)', 'Saturated Fat',\n       'Saturated Fat (% Daily Value)', 'Trans Fat', 'Cholesterol',\n       'Cholesterol (% Daily Value)', 'Sodium', 'Sodium (% Daily Value)',\n       'Carbohydrates', 'Carbohydrates (% Daily Value)', 'Dietary Fiber',\n       'Dietary Fiber (% Daily Value)', 'Sugars', 'Protein',\n       'Vitamin A (% Daily Value)', 'Vitamin C (% Daily Value)',\n       'Calcium (% Daily Value)', 'Iron (% Daily Value)'],\n      dtype='object')"
     },
     "metadata": {}
    }
   ]
  },
  {
   "cell_type": "code",
   "metadata": {
    "cell_id": "c1d4a8a3e0f34f649cd40021a96ad2b2",
    "tags": [],
    "deepnote_to_be_reexecuted": false,
    "source_hash": "92c3d6cf",
    "execution_start": 1650810992598,
    "execution_millis": 11,
    "deepnote_cell_type": "code",
    "deepnote_cell_height": 194.9375,
    "deepnote_output_heights": [
     97.9375
    ]
   },
   "source": "bk_mod.columns",
   "execution_count": 31,
   "outputs": [
    {
     "output_type": "execute_result",
     "execution_count": 31,
     "data": {
      "text/plain": "Index(['Category', 'Product Name', 'Serving Size (g)', 'Calories',\n       'Calories from fat', 'Total fat (g)', 'Saturated Fat (g)',\n       'Trans Fat (g)', 'Chol (mg)', 'Sodium (mg)', 'Total Carb (g)',\n       'Dietary Fiber (g)', 'Total Sugar (g)', 'Protein (g)'],\n      dtype='object')"
     },
     "metadata": {}
    }
   ]
  },
  {
   "cell_type": "markdown",
   "source": "We will have to remove columns that the datasets do not share. For example, Burger King does not have Vitamin information, while subway does not have Calories From Fat information.",
   "metadata": {
    "cell_id": "d9938f2f947d4ae2929ebb2deae723c5",
    "tags": [],
    "deepnote_cell_type": "markdown",
    "deepnote_cell_height": 74.78125
   }
  },
  {
   "cell_type": "code",
   "metadata": {
    "cell_id": "5c8abd3c48b745189d5d1408110762b6",
    "tags": [],
    "deepnote_to_be_reexecuted": false,
    "source_hash": "b8566dae",
    "execution_start": 1650810992665,
    "execution_millis": 2,
    "owner_user_id": "660e27a3-0a7f-4b83-b072-779f46616fda",
    "deepnote_cell_type": "code",
    "deepnote_cell_height": 577,
    "deepnote_output_heights": [
     607
    ]
   },
   "source": "sub_common_cols = sub_mod.drop(columns=['Vitamin A % DV', 'Vitamin C % DV', 'Calcium % DV', 'Iron % DV'], axis=1)\nmcd_common_cols = mcd_mod.drop(columns=['Calories from Fat','Total Fat (% Daily Value)','Saturated Fat (% Daily Value)','Cholesterol (% Daily Value)','Sodium (% Daily Value)','Carbohydrates (% Daily Value)','Dietary Fiber (% Daily Value)','Vitamin A (% Daily Value)','Vitamin C (% Daily Value)','Calcium (% Daily Value)','Iron (% Daily Value)'], axis=1)\nbk_common_cols = bk_mod.drop(columns=['Calories from fat'], axis = 1)\n\nprint(\"Subway: \")\nprint(sub_common_cols.columns)\nprint(\"McDonalds: \")\nprint(mcd_common_cols.columns)\nprint(\"Burger King: \")\nprint(bk_common_cols.columns)",
   "execution_count": 32,
   "outputs": [
    {
     "name": "stdout",
     "text": "Subway: \nIndex(['Item', 'Category', 'Serving Size (g)', 'Calories', 'Total Fat (g)',\n       'Saturated Fat (g)', 'Trans Fat (g)', 'Cholesterol (mg)', 'Sodium (mg)',\n       'Carbohydrates (g)', 'Dietary Fiber (g)', 'Sugars (g)', 'Protein (g)'],\n      dtype='object')\nMcDonalds: \nIndex(['Category', 'Item', 'Serving Size', 'Calories', 'Total Fat',\n       'Saturated Fat', 'Trans Fat', 'Cholesterol', 'Sodium', 'Carbohydrates',\n       'Dietary Fiber', 'Sugars', 'Protein'],\n      dtype='object')\nBurger King: \nIndex(['Category', 'Product Name', 'Serving Size (g)', 'Calories',\n       'Total fat (g)', 'Saturated Fat (g)', 'Trans Fat (g)', 'Chol (mg)',\n       'Sodium (mg)', 'Total Carb (g)', 'Dietary Fiber (g)', 'Total Sugar (g)',\n       'Protein (g)'],\n      dtype='object')\n",
     "output_type": "stream"
    }
   ]
  },
  {
   "cell_type": "markdown",
   "source": "We will then have to rename the columns so that they match.",
   "metadata": {
    "cell_id": "56827e15709d4b69b1590f8180415cc7",
    "tags": [],
    "deepnote_cell_type": "markdown",
    "deepnote_cell_height": 52.390625
   }
  },
  {
   "cell_type": "code",
   "metadata": {
    "cell_id": "9139b789dd094cbfbb2d04cc2a9ea0f8",
    "tags": [],
    "deepnote_to_be_reexecuted": false,
    "source_hash": "dd15d359",
    "execution_start": 1650810992665,
    "execution_millis": 54,
    "deepnote_cell_type": "code",
    "deepnote_cell_height": 718.8125
   },
   "source": "sub_rename = {}\nsub_common_colnames = sub_common_cols.rename(columns=sub_rename)\n\nmcd_rename = {'Serving Size':'Serving Size (g)', 'Total Fat':'Total Fat (g)', \n                'Saturated Fat':'Saturated Fat (g)', 'Trans Fat':'Trans Fat (g)',\n                'Cholesterol':'Cholesterol (mg)', 'Sodium':'Sodium (mg)', 'Carbohydrates':'Carbohydrates (g)',\n                'Dietary Fiber':'Dietary Fiber (g)', 'Sugars':'Sugars (g)', 'Protein':'Protein (g)'}\nmcd_common_colnames = mcd_common_cols.rename(columns=mcd_rename)\n\nbk_rename = {'Product Name':'Item', 'Total fat (g)':'Total Fat (g)','Chol (mg)':'Cholesterol (mg)',\n            'Total Carb (g)':'Carbohydrates (g)', 'Total Sugar (g)':'Sugars (g)'}\nbk_common_colnames = bk_common_cols.rename(columns=bk_rename)\n\nprint(\"Subway: \")\nprint(sub_common_colnames.columns)\nprint(\"McDonalds: \")\nprint(mcd_common_colnames.columns)\nprint(\"Burger King: \")\nprint(bk_common_colnames.columns)",
   "execution_count": 33,
   "outputs": [
    {
     "name": "stdout",
     "text": "Subway: \nIndex(['Item', 'Category', 'Serving Size (g)', 'Calories', 'Total Fat (g)',\n       'Saturated Fat (g)', 'Trans Fat (g)', 'Cholesterol (mg)', 'Sodium (mg)',\n       'Carbohydrates (g)', 'Dietary Fiber (g)', 'Sugars (g)', 'Protein (g)'],\n      dtype='object')\nMcDonalds: \nIndex(['Category', 'Item', 'Serving Size (g)', 'Calories', 'Total Fat (g)',\n       'Saturated Fat (g)', 'Trans Fat (g)', 'Cholesterol (mg)', 'Sodium (mg)',\n       'Carbohydrates (g)', 'Dietary Fiber (g)', 'Sugars (g)', 'Protein (g)'],\n      dtype='object')\nBurger King: \nIndex(['Category', 'Item', 'Serving Size (g)', 'Calories', 'Total Fat (g)',\n       'Saturated Fat (g)', 'Trans Fat (g)', 'Cholesterol (mg)', 'Sodium (mg)',\n       'Carbohydrates (g)', 'Dietary Fiber (g)', 'Sugars (g)', 'Protein (g)'],\n      dtype='object')\n",
     "output_type": "stream"
    }
   ]
  },
  {
   "cell_type": "markdown",
   "source": "And now to join the tables:",
   "metadata": {
    "cell_id": "9d9b8fb777284a41ac59f9c906f7b668",
    "tags": [],
    "deepnote_cell_type": "markdown",
    "deepnote_cell_height": 52.390625
   }
  },
  {
   "cell_type": "code",
   "metadata": {
    "cell_id": "ed5d05c71e0446acb70b22c51506376b",
    "tags": [],
    "deepnote_to_be_reexecuted": false,
    "source_hash": "15b75e01",
    "execution_start": 1650810992710,
    "execution_millis": 42,
    "deepnote_cell_type": "code",
    "deepnote_cell_height": 370.75
   },
   "source": "sub_common_colnames['Restaurant'] = 'Subway'\nmcd_common_colnames['Restaurant'] = 'McDonalds'\nbk_common_colnames['Restaurant'] = 'Burger King'\n\nmerge1 = pd.concat([sub_common_colnames, mcd_common_colnames])\nmerged_data = pd.concat([merge1, bk_common_colnames])\n\nprint(sub_common_colnames.shape)\nprint(mcd_common_colnames.shape)\nprint(bk_common_colnames.shape)\n\nprint(merged_data.shape)",
   "execution_count": 34,
   "outputs": [
    {
     "name": "stdout",
     "text": "(190, 14)\n(110, 14)\n(92, 14)\n(392, 14)\n",
     "output_type": "stream"
    }
   ]
  },
  {
   "cell_type": "markdown",
   "source": "Seperating Categories to Breakfast/Mains/Sides",
   "metadata": {
    "cell_id": "d83f7e273537440182409dc8721fba52",
    "tags": [],
    "deepnote_cell_type": "markdown",
    "deepnote_cell_height": 52.390625
   }
  },
  {
   "cell_type": "code",
   "metadata": {
    "cell_id": "aad60e3054d74ddbab31a1aaf37dee52",
    "tags": [],
    "deepnote_to_be_reexecuted": false,
    "source_hash": "c6f48e1a",
    "execution_start": 1650810992764,
    "execution_millis": 15,
    "deepnote_cell_type": "code",
    "deepnote_cell_height": 233.3125,
    "deepnote_output_heights": [
     136.3125
    ]
   },
   "source": "merged_data[\"Category\"].unique()",
   "execution_count": 35,
   "outputs": [
    {
     "output_type": "execute_result",
     "execution_count": 35,
     "data": {
      "text/plain": "array(['Sandwich', \"Kids' Mini Sub\", 'Wrap', 'Fresh Melt', 'Salad',\n       'Protein Bowl', 'Breakfast', 'Flatizza ®', 'Pizza', 'Slider',\n       'Dessert', 'Soup', 'Beef & Pork', 'Chicken & Fish', 'Salads',\n       'Snacks & Sides', 'Desserts', 'WHOPPER SANDWICHES',\n       'FLAME BROILED BURGERS', 'CHICKEN & MORE', 'SALADS & SIDES',\n       'KING JR MEALS Entrees ', 'KING JR MEALS Desserts', 'BREAKFAST'],\n      dtype=object)"
     },
     "metadata": {}
    }
   ]
  },
  {
   "cell_type": "code",
   "metadata": {
    "cell_id": "25bb70e6189b4be4aa674858be4c8601",
    "tags": [],
    "deepnote_to_be_reexecuted": false,
    "source_hash": "40c7ce77",
    "execution_start": 1650810992798,
    "execution_millis": 7,
    "deepnote_cell_type": "code",
    "deepnote_cell_height": 297
   },
   "source": "def label_Categories(row):\n    Breakfast = ['BREAKFAST', 'Breakfast']\n    Mains = ['Sandwich', \"Kids' Mini Sub\", 'Wrap', 'Fresh Melt',\n       'Protein Bowl', 'Breakfast', 'Flatizza ®', 'Pizza','Beef & Pork', 'Chicken & Fish', 'WHOPPER SANDWICHES',\n       'FLAME BROILED BURGERS', 'CHICKEN & MORE',\n       'KING JR MEALS Entrees ', 'BREAKFAST']\n    Sides = ['Salad','Dessert', 'Soup','Slider','Salads','Snacks & Sides', 'Desserts','SALADS & SIDES', 'KING JR MEALS Desserts']\n    if row[\"Category\"] in Breakfast:\n        return \"Breakfast\"\n    elif row[\"Category\"] in Mains:\n        return \"Mains\"\n    elif row[\"Category\"] in Sides:\n        return \"Sides\"",
   "execution_count": 36,
   "outputs": []
  },
  {
   "cell_type": "code",
   "metadata": {
    "cell_id": "6b6ea85ee5cb4bf8842a96c994891e77",
    "tags": [],
    "deepnote_to_be_reexecuted": false,
    "source_hash": "75ffbb0c",
    "execution_start": 1650810992819,
    "execution_millis": 216,
    "deepnote_table_state": {
     "pageSize": 10,
     "pageIndex": 0,
     "filters": [],
     "sortBy": [
      {
       "id": "Serving Size (g)",
       "type": "desc"
      }
     ]
    },
    "deepnote_table_loading": false,
    "deepnote_table_invalid": false,
    "deepnote_cell_type": "code",
    "deepnote_cell_height": 667
   },
   "source": "merged_data[\"Meal Type\"] = merged_data.apply (lambda row: label_Categories(row), axis=1)\nmerged_data",
   "execution_count": 37,
   "outputs": [
    {
     "output_type": "execute_result",
     "execution_count": 37,
     "data": {
      "application/vnd.deepnote.dataframe.v3+json": {
       "column_count": 15,
       "row_count": 392,
       "columns": [
        {
         "name": "Item",
         "dtype": "object",
         "stats": {
          "unique_count": 336,
          "nan_count": 0,
          "categories": [
           {
            "name": "Baja Chicken & Bacon (with Rotisserie-Style Chicken)",
            "count": 3
           },
           {
            "name": "Roast Beef",
            "count": 3
           },
           {
            "name": "334 others",
            "count": 386
           }
          ]
         }
        },
        {
         "name": "Category",
         "dtype": "object",
         "stats": {
          "unique_count": 24,
          "nan_count": 0,
          "categories": [
           {
            "name": "Breakfast",
            "count": 50
           },
           {
            "name": "Salad",
            "count": 33
           },
           {
            "name": "22 others",
            "count": 309
           }
          ]
         }
        },
        {
         "name": "Serving Size (g)",
         "dtype": "float64",
         "stats": {
          "unique_count": 227,
          "nan_count": 0,
          "min": "14.0",
          "max": "646.0",
          "histogram": [
           {
            "bin_start": 14,
            "bin_end": 77.2,
            "count": 27
           },
           {
            "bin_start": 77.2,
            "bin_end": 140.4,
            "count": 56
           },
           {
            "bin_start": 140.4,
            "bin_end": 203.60000000000002,
            "count": 82
           },
           {
            "bin_start": 203.60000000000002,
            "bin_end": 266.8,
            "count": 82
           },
           {
            "bin_start": 266.8,
            "bin_end": 330,
            "count": 50
           },
           {
            "bin_start": 330,
            "bin_end": 393.20000000000005,
            "count": 61
           },
           {
            "bin_start": 393.20000000000005,
            "bin_end": 456.40000000000003,
            "count": 30
           },
           {
            "bin_start": 456.40000000000003,
            "bin_end": 519.6,
            "count": 3
           },
           {
            "bin_start": 519.6,
            "bin_end": 582.8000000000001,
            "count": 0
           },
           {
            "bin_start": 582.8000000000001,
            "bin_end": 646,
            "count": 1
           }
          ]
         }
        },
        {
         "name": "Calories",
         "dtype": "int64",
         "stats": {
          "unique_count": 96,
          "nan_count": 0,
          "min": "15",
          "max": "1880",
          "histogram": [
           {
            "bin_start": 15,
            "bin_end": 201.5,
            "count": 52
           },
           {
            "bin_start": 201.5,
            "bin_end": 388,
            "count": 114
           },
           {
            "bin_start": 388,
            "bin_end": 574.5,
            "count": 137
           },
           {
            "bin_start": 574.5,
            "bin_end": 761,
            "count": 49
           },
           {
            "bin_start": 761,
            "bin_end": 947.5,
            "count": 28
           },
           {
            "bin_start": 947.5,
            "bin_end": 1134,
            "count": 7
           },
           {
            "bin_start": 1134,
            "bin_end": 1320.5,
            "count": 4
           },
           {
            "bin_start": 1320.5,
            "bin_end": 1507,
            "count": 0
           },
           {
            "bin_start": 1507,
            "bin_end": 1693.5,
            "count": 0
           },
           {
            "bin_start": 1693.5,
            "bin_end": 1880,
            "count": 1
           }
          ]
         }
        },
        {
         "name": "Total Fat (g)",
         "dtype": "float64",
         "stats": {
          "unique_count": 71,
          "nan_count": 0,
          "min": "0.0",
          "max": "118.0",
          "histogram": [
           {
            "bin_start": 0,
            "bin_end": 11.8,
            "count": 99
           },
           {
            "bin_start": 11.8,
            "bin_end": 23.6,
            "count": 119
           },
           {
            "bin_start": 23.6,
            "bin_end": 35.400000000000006,
            "count": 102
           },
           {
            "bin_start": 35.400000000000006,
            "bin_end": 47.2,
            "count": 41
           },
           {
            "bin_start": 47.2,
            "bin_end": 59,
            "count": 21
           },
           {
            "bin_start": 59,
            "bin_end": 70.80000000000001,
            "count": 4
           },
           {
            "bin_start": 70.80000000000001,
            "bin_end": 82.60000000000001,
            "count": 4
           },
           {
            "bin_start": 82.60000000000001,
            "bin_end": 94.4,
            "count": 1
           },
           {
            "bin_start": 94.4,
            "bin_end": 106.2,
            "count": 0
           },
           {
            "bin_start": 106.2,
            "bin_end": 118,
            "count": 1
           }
          ]
         }
        },
        {
         "name": "Saturated Fat (g)",
         "dtype": "float64",
         "stats": {
          "unique_count": 33,
          "nan_count": 0,
          "min": "0.0",
          "max": "33.0",
          "histogram": [
           {
            "bin_start": 0,
            "bin_end": 3.3,
            "count": 91
           },
           {
            "bin_start": 3.3,
            "bin_end": 6.6,
            "count": 90
           },
           {
            "bin_start": 6.6,
            "bin_end": 9.899999999999999,
            "count": 75
           },
           {
            "bin_start": 9.899999999999999,
            "bin_end": 13.2,
            "count": 77
           },
           {
            "bin_start": 13.2,
            "bin_end": 16.5,
            "count": 26
           },
           {
            "bin_start": 16.5,
            "bin_end": 19.799999999999997,
            "count": 16
           },
           {
            "bin_start": 19.799999999999997,
            "bin_end": 23.099999999999998,
            "count": 10
           },
           {
            "bin_start": 23.099999999999998,
            "bin_end": 26.4,
            "count": 2
           },
           {
            "bin_start": 26.4,
            "bin_end": 29.7,
            "count": 2
           },
           {
            "bin_start": 29.7,
            "bin_end": 33,
            "count": 3
           }
          ]
         }
        },
        {
         "name": "Trans Fat (g)",
         "dtype": "float64",
         "stats": {
          "unique_count": 10,
          "nan_count": 0,
          "min": "0.0",
          "max": "4.5",
          "histogram": [
           {
            "bin_start": 0,
            "bin_end": 0.45,
            "count": 294
           },
           {
            "bin_start": 0.45,
            "bin_end": 0.9,
            "count": 19
           },
           {
            "bin_start": 0.9,
            "bin_end": 1.35,
            "count": 53
           },
           {
            "bin_start": 1.35,
            "bin_end": 1.8,
            "count": 11
           },
           {
            "bin_start": 1.8,
            "bin_end": 2.25,
            "count": 6
           },
           {
            "bin_start": 2.25,
            "bin_end": 2.7,
            "count": 1
           },
           {
            "bin_start": 2.7,
            "bin_end": 3.15,
            "count": 3
           },
           {
            "bin_start": 3.15,
            "bin_end": 3.6,
            "count": 3
           },
           {
            "bin_start": 3.6,
            "bin_end": 4.05,
            "count": 1
           },
           {
            "bin_start": 4.05,
            "bin_end": 4.5,
            "count": 1
           }
          ]
         }
        },
        {
         "name": "Cholesterol (mg)",
         "dtype": "int64",
         "stats": {
          "unique_count": 57,
          "nan_count": 0,
          "min": "0",
          "max": "575",
          "histogram": [
           {
            "bin_start": 0,
            "bin_end": 57.5,
            "count": 183
           },
           {
            "bin_start": 57.5,
            "bin_end": 115,
            "count": 130
           },
           {
            "bin_start": 115,
            "bin_end": 172.5,
            "count": 35
           },
           {
            "bin_start": 172.5,
            "bin_end": 230,
            "count": 14
           },
           {
            "bin_start": 230,
            "bin_end": 287.5,
            "count": 21
           },
           {
            "bin_start": 287.5,
            "bin_end": 345,
            "count": 2
           },
           {
            "bin_start": 345,
            "bin_end": 402.5,
            "count": 3
           },
           {
            "bin_start": 402.5,
            "bin_end": 460,
            "count": 0
           },
           {
            "bin_start": 460,
            "bin_end": 517.5,
            "count": 0
           },
           {
            "bin_start": 517.5,
            "bin_end": 575,
            "count": 4
           }
          ]
         }
        },
        {
         "name": "Sodium (mg)",
         "dtype": "int64",
         "stats": {
          "unique_count": 194,
          "nan_count": 0,
          "min": "0",
          "max": "3600",
          "histogram": [
           {
            "bin_start": 0,
            "bin_end": 360,
            "count": 47
           },
           {
            "bin_start": 360,
            "bin_end": 720,
            "count": 63
           },
           {
            "bin_start": 720,
            "bin_end": 1080,
            "count": 93
           },
           {
            "bin_start": 1080,
            "bin_end": 1440,
            "count": 88
           },
           {
            "bin_start": 1440,
            "bin_end": 1800,
            "count": 59
           },
           {
            "bin_start": 1800,
            "bin_end": 2160,
            "count": 18
           },
           {
            "bin_start": 2160,
            "bin_end": 2520,
            "count": 18
           },
           {
            "bin_start": 2520,
            "bin_end": 2880,
            "count": 4
           },
           {
            "bin_start": 2880,
            "bin_end": 3240,
            "count": 1
           },
           {
            "bin_start": 3240,
            "bin_end": 3600,
            "count": 1
           }
          ]
         }
        },
        {
         "name": "Carbohydrates (g)",
         "dtype": "int64",
         "stats": {
          "unique_count": 76,
          "nan_count": 0,
          "min": "2",
          "max": "118",
          "histogram": [
           {
            "bin_start": 2,
            "bin_end": 13.6,
            "count": 59
           },
           {
            "bin_start": 13.6,
            "bin_end": 25.2,
            "count": 41
           },
           {
            "bin_start": 25.2,
            "bin_end": 36.8,
            "count": 74
           },
           {
            "bin_start": 36.8,
            "bin_end": 48.4,
            "count": 105
           },
           {
            "bin_start": 48.4,
            "bin_end": 60,
            "count": 82
           },
           {
            "bin_start": 60,
            "bin_end": 71.6,
            "count": 15
           },
           {
            "bin_start": 71.6,
            "bin_end": 83.2,
            "count": 2
           },
           {
            "bin_start": 83.2,
            "bin_end": 94.8,
            "count": 3
           },
           {
            "bin_start": 94.8,
            "bin_end": 106.39999999999999,
            "count": 5
           },
           {
            "bin_start": 106.39999999999999,
            "bin_end": 118,
            "count": 6
           }
          ]
         }
        },
        {
         "name": "Dietary Fiber (g)",
         "dtype": "float64",
         "stats": {
          "unique_count": 14,
          "nan_count": 0,
          "min": "0.0",
          "max": "20.0",
          "histogram": [
           {
            "bin_start": 0,
            "bin_end": 2,
            "count": 102
           },
           {
            "bin_start": 2,
            "bin_end": 4,
            "count": 162
           },
           {
            "bin_start": 4,
            "bin_end": 6,
            "count": 99
           },
           {
            "bin_start": 6,
            "bin_end": 8,
            "count": 21
           },
           {
            "bin_start": 8,
            "bin_end": 10,
            "count": 4
           },
           {
            "bin_start": 10,
            "bin_end": 12,
            "count": 0
           },
           {
            "bin_start": 12,
            "bin_end": 14,
            "count": 2
           },
           {
            "bin_start": 14,
            "bin_end": 16,
            "count": 0
           },
           {
            "bin_start": 16,
            "bin_end": 18,
            "count": 0
           },
           {
            "bin_start": 18,
            "bin_end": 20,
            "count": 2
           }
          ]
         }
        },
        {
         "name": "Sugars (g)",
         "dtype": "int64",
         "stats": {
          "unique_count": 34,
          "nan_count": 0,
          "min": "0",
          "max": "48",
          "histogram": [
           {
            "bin_start": 0,
            "bin_end": 4.8,
            "count": 130
           },
           {
            "bin_start": 4.8,
            "bin_end": 9.6,
            "count": 178
           },
           {
            "bin_start": 9.6,
            "bin_end": 14.399999999999999,
            "count": 42
           },
           {
            "bin_start": 14.399999999999999,
            "bin_end": 19.2,
            "count": 19
           },
           {
            "bin_start": 19.2,
            "bin_end": 24,
            "count": 4
           },
           {
            "bin_start": 24,
            "bin_end": 28.799999999999997,
            "count": 4
           },
           {
            "bin_start": 28.799999999999997,
            "bin_end": 33.6,
            "count": 8
           },
           {
            "bin_start": 33.6,
            "bin_end": 38.4,
            "count": 1
           },
           {
            "bin_start": 38.4,
            "bin_end": 43.199999999999996,
            "count": 4
           },
           {
            "bin_start": 43.199999999999996,
            "bin_end": 48,
            "count": 2
           }
          ]
         }
        },
        {
         "name": "Protein (g)",
         "dtype": "int64",
         "stats": {
          "unique_count": 60,
          "nan_count": 0,
          "min": "0",
          "max": "87",
          "histogram": [
           {
            "bin_start": 0,
            "bin_end": 8.7,
            "count": 70
           },
           {
            "bin_start": 8.7,
            "bin_end": 17.4,
            "count": 70
           },
           {
            "bin_start": 17.4,
            "bin_end": 26.099999999999998,
            "count": 107
           },
           {
            "bin_start": 26.099999999999998,
            "bin_end": 34.8,
            "count": 74
           },
           {
            "bin_start": 34.8,
            "bin_end": 43.5,
            "count": 41
           },
           {
            "bin_start": 43.5,
            "bin_end": 52.199999999999996,
            "count": 16
           },
           {
            "bin_start": 52.199999999999996,
            "bin_end": 60.89999999999999,
            "count": 8
           },
           {
            "bin_start": 60.89999999999999,
            "bin_end": 69.6,
            "count": 4
           },
           {
            "bin_start": 69.6,
            "bin_end": 78.3,
            "count": 1
           },
           {
            "bin_start": 78.3,
            "bin_end": 87,
            "count": 1
           }
          ]
         }
        },
        {
         "name": "Restaurant",
         "dtype": "object",
         "stats": {
          "unique_count": 3,
          "nan_count": 0,
          "categories": [
           {
            "name": "Subway",
            "count": 190
           },
           {
            "name": "McDonalds",
            "count": 110
           },
           {
            "name": "Burger King",
            "count": 92
           }
          ]
         }
        },
        {
         "name": "Meal Type",
         "dtype": "object",
         "stats": {
          "unique_count": 3,
          "nan_count": 0,
          "categories": [
           {
            "name": "Mains",
            "count": 217
           },
           {
            "name": "Sides",
            "count": 102
           },
           {
            "name": "Breakfast",
            "count": 73
           }
          ]
         }
        },
        {
         "name": "_deepnote_index_column",
         "dtype": "int64"
        }
       ],
       "rows": [
        {
         "Item": "Chicken McNuggets (40 piece)",
         "Category": "Chicken & Fish",
         "Serving Size (g)": 646,
         "Calories": 1880,
         "Total Fat (g)": 118,
         "Saturated Fat (g)": 20,
         "Trans Fat (g)": 1,
         "Cholesterol (mg)": 265,
         "Sodium (mg)": 3600,
         "Carbohydrates (g)": 118,
         "Dietary Fiber (g)": 6,
         "Sugars (g)": 1,
         "Protein (g)": 87,
         "Restaurant": "McDonalds",
         "Meal Type": "Mains",
         "_deepnote_index_column": 82
        },
        {
         "Item": "Big Hot Pastrami",
         "Category": "Protein Bowl",
         "Serving Size (g)": 490,
         "Calories": 680,
         "Total Fat (g)": 52,
         "Saturated Fat (g)": 18,
         "Trans Fat (g)": 0,
         "Cholesterol (mg)": 165,
         "Sodium (mg)": 2670,
         "Carbohydrates (g)": 15,
         "Dietary Fiber (g)": 5,
         "Sugars (g)": 7,
         "Protein (g)": 45,
         "Restaurant": "Subway",
         "Meal Type": "Mains",
         "_deepnote_index_column": 143
        },
        {
         "Item": "Meatball Marinara",
         "Category": "Protein Bowl",
         "Serving Size (g)": 469,
         "Calories": 520,
         "Total Fat (g)": 32,
         "Saturated Fat (g)": 13,
         "Trans Fat (g)": 2,
         "Cholesterol (mg)": 80,
         "Sodium (mg)": 1520,
         "Carbohydrates (g)": 33,
         "Dietary Fiber (g)": 8,
         "Sugars (g)": 14,
         "Protein (g)": 28,
         "Restaurant": "Subway",
         "Meal Type": "Mains",
         "_deepnote_index_column": 128
        },
        {
         "Item": "TRIPLE WHOPPER Sandwich with Cheese",
         "Category": "WHOPPER SANDWICHES",
         "Serving Size (g)": 461,
         "Calories": 1220,
         "Total Fat (g)": 82,
         "Saturated Fat (g)": 32,
         "Trans Fat (g)": 4.5,
         "Cholesterol (mg)": 280,
         "Sodium (mg)": 1470,
         "Carbohydrates (g)": 50,
         "Dietary Fiber (g)": 2,
         "Sugars (g)": 11,
         "Protein (g)": 71,
         "Restaurant": "Burger King",
         "Meal Type": "Mains",
         "_deepnote_index_column": 6
        },
        {
         "Item": "Chicken Pizziola (with Grilled Chicken)",
         "Category": "Protein Bowl",
         "Serving Size (g)": 451,
         "Calories": 500,
         "Total Fat (g)": 28,
         "Saturated Fat (g)": 12,
         "Trans Fat (g)": 1,
         "Cholesterol (mg)": 165,
         "Sodium (mg)": 1490,
         "Carbohydrates (g)": 17,
         "Dietary Fiber (g)": 4,
         "Sugars (g)": 10,
         "Protein (g)": 49,
         "Restaurant": "Subway",
         "Meal Type": "Mains",
         "_deepnote_index_column": 145
        },
        {
         "Item": "Big Hot Pastrami",
         "Category": "Salad",
         "Serving Size (g)": 450,
         "Calories": 370,
         "Total Fat (g)": 26,
         "Saturated Fat (g)": 8,
         "Trans Fat (g)": 0,
         "Cholesterol (mg)": 80,
         "Sodium (mg)": 1670,
         "Carbohydrates (g)": 14,
         "Dietary Fiber (g)": 5,
         "Sugars (g)": 7,
         "Protein (g)": 24,
         "Restaurant": "Subway",
         "Meal Type": "Sides",
         "_deepnote_index_column": 111
        },
        {
         "Item": "Baja Chicken & Bacon (with Rotisserie-Style Chicken)",
         "Category": "Protein Bowl",
         "Serving Size (g)": 445,
         "Calories": 720,
         "Total Fat (g)": 52,
         "Saturated Fat (g)": 20,
         "Trans Fat (g)": 1,
         "Cholesterol (mg)": 205,
         "Sodium (mg)": 2410,
         "Carbohydrates (g)": 14,
         "Dietary Fiber (g)": 3,
         "Sugars (g)": 8,
         "Protein (g)": 52,
         "Restaurant": "Subway",
         "Meal Type": "Mains",
         "_deepnote_index_column": 138
        },
        {
         "Item": "Chicken & Bacon Ranch (with Grilled Chicken)",
         "Category": "Protein Bowl",
         "Serving Size (g)": 444,
         "Calories": 730,
         "Total Fat (g)": 51,
         "Saturated Fat (g)": 20,
         "Trans Fat (g)": 1,
         "Cholesterol (mg)": 205,
         "Sodium (mg)": 1380,
         "Carbohydrates (g)": 13,
         "Dietary Fiber (g)": 3,
         "Sugars (g)": 8,
         "Protein (g)": 58,
         "Restaurant": "Subway",
         "Meal Type": "Mains",
         "_deepnote_index_column": 124
        },
        {
         "Item": "Chicken & Bacon Ranch (with Rotisserie-Style Chicken)",
         "Category": "Protein Bowl",
         "Serving Size (g)": 444,
         "Calories": 760,
         "Total Fat (g)": 55,
         "Saturated Fat (g)": 21,
         "Trans Fat (g)": 1,
         "Cholesterol (mg)": 205,
         "Sodium (mg)": 1750,
         "Carbohydrates (g)": 13,
         "Dietary Fiber (g)": 4,
         "Sugars (g)": 7,
         "Protein (g)": 55,
         "Restaurant": "Subway",
         "Meal Type": "Mains",
         "_deepnote_index_column": 125
        },
        {
         "Item": "TRIPLE WHOPPER Sandwich",
         "Category": "WHOPPER SANDWICHES",
         "Serving Size (g)": 438,
         "Calories": 1130,
         "Total Fat (g)": 75,
         "Saturated Fat (g)": 28,
         "Trans Fat (g)": 4,
         "Cholesterol (mg)": 255,
         "Sodium (mg)": 1120,
         "Carbohydrates (g)": 49,
         "Dietary Fiber (g)": 2,
         "Sugars (g)": 11,
         "Protein (g)": 67,
         "Restaurant": "Burger King",
         "Meal Type": "Mains",
         "_deepnote_index_column": 5
        }
       ]
      },
      "text/plain": "                                                 Item   Category  \\\n0                                6\" All-American Club   Sandwich   \n1                                 6\" Black Forest Ham   Sandwich   \n2           6\" Buffalo Chicken (with Grilled Chicken)   Sandwich   \n3     6\" Chicken & Bacon Ranch (with Grilled Chicken)   Sandwich   \n4   6\" Chicken & Bacon Ranch (with Rotisserie-Styl...   Sandwich   \n..                                                ...        ...   \n93                                Hash Browns - small  BREAKFAST   \n94                               Hash Browns - medium  BREAKFAST   \n95                                Hash Browns - large  BREAKFAST   \n96                      French Toast Sticks (3 piece)  BREAKFAST   \n97                      French Toast Sticks (5 piece)  BREAKFAST   \n\n    Serving Size (g)  Calories  Total Fat (g)  Saturated Fat (g)  \\\n0              211.0       350           13.0                6.0   \n1              219.0       270            4.0                1.0   \n2              248.0       340           12.0                3.0   \n3              256.0       510           27.0               10.0   \n4              256.0       530           29.0               11.0   \n..               ...       ...            ...                ...   \n93              84.0       250           16.0                3.5   \n94             169.0       500           33.0                7.0   \n95             225.0       670           44.0                9.0   \n96              65.0       230           11.0                2.0   \n97             109.0       380           18.0                3.0   \n\n    Trans Fat (g)  Cholesterol (mg)  Sodium (mg)  Carbohydrates (g)  \\\n0             0.0                55         1220                 39   \n1             0.0                30          810                 41   \n2             0.0                55         1360                 39   \n3             0.0               100         1020                 39   \n4             0.0               105         1200                 39   \n..            ...               ...          ...                ...   \n93            0.0                 0          580                 24   \n94            0.0                 0         1140                 48   \n95            0.0                 0         1530                 65   \n96            0.0                 0          260                 29   \n97            0.0                 0          430                 49   \n\n    Dietary Fiber (g)  Sugars (g)  Protein (g)   Restaurant  Meal Type  \n0                 1.0           5           25       Subway      Mains  \n1                 4.0           6           18       Subway      Mains  \n2                 2.0           4           24       Subway      Mains  \n3                 2.0           5           36       Subway      Mains  \n4                 2.0           5           34       Subway      Mains  \n..                ...         ...          ...          ...        ...  \n93                3.0           0            2  Burger King  Breakfast  \n94                7.0           0            4  Burger King  Breakfast  \n95                9.0           0            5  Burger King  Breakfast  \n96                1.0           8            3  Burger King  Breakfast  \n97                2.0          13            5  Burger King  Breakfast  \n\n[392 rows x 15 columns]",
      "text/html": "<div>\n<style scoped>\n    .dataframe tbody tr th:only-of-type {\n        vertical-align: middle;\n    }\n\n    .dataframe tbody tr th {\n        vertical-align: top;\n    }\n\n    .dataframe thead th {\n        text-align: right;\n    }\n</style>\n<table border=\"1\" class=\"dataframe\">\n  <thead>\n    <tr style=\"text-align: right;\">\n      <th></th>\n      <th>Item</th>\n      <th>Category</th>\n      <th>Serving Size (g)</th>\n      <th>Calories</th>\n      <th>Total Fat (g)</th>\n      <th>Saturated Fat (g)</th>\n      <th>Trans Fat (g)</th>\n      <th>Cholesterol (mg)</th>\n      <th>Sodium (mg)</th>\n      <th>Carbohydrates (g)</th>\n      <th>Dietary Fiber (g)</th>\n      <th>Sugars (g)</th>\n      <th>Protein (g)</th>\n      <th>Restaurant</th>\n      <th>Meal Type</th>\n    </tr>\n  </thead>\n  <tbody>\n    <tr>\n      <th>0</th>\n      <td>6\" All-American Club</td>\n      <td>Sandwich</td>\n      <td>211.0</td>\n      <td>350</td>\n      <td>13.0</td>\n      <td>6.0</td>\n      <td>0.0</td>\n      <td>55</td>\n      <td>1220</td>\n      <td>39</td>\n      <td>1.0</td>\n      <td>5</td>\n      <td>25</td>\n      <td>Subway</td>\n      <td>Mains</td>\n    </tr>\n    <tr>\n      <th>1</th>\n      <td>6\" Black Forest Ham</td>\n      <td>Sandwich</td>\n      <td>219.0</td>\n      <td>270</td>\n      <td>4.0</td>\n      <td>1.0</td>\n      <td>0.0</td>\n      <td>30</td>\n      <td>810</td>\n      <td>41</td>\n      <td>4.0</td>\n      <td>6</td>\n      <td>18</td>\n      <td>Subway</td>\n      <td>Mains</td>\n    </tr>\n    <tr>\n      <th>2</th>\n      <td>6\" Buffalo Chicken (with Grilled Chicken)</td>\n      <td>Sandwich</td>\n      <td>248.0</td>\n      <td>340</td>\n      <td>12.0</td>\n      <td>3.0</td>\n      <td>0.0</td>\n      <td>55</td>\n      <td>1360</td>\n      <td>39</td>\n      <td>2.0</td>\n      <td>4</td>\n      <td>24</td>\n      <td>Subway</td>\n      <td>Mains</td>\n    </tr>\n    <tr>\n      <th>3</th>\n      <td>6\" Chicken &amp; Bacon Ranch (with Grilled Chicken)</td>\n      <td>Sandwich</td>\n      <td>256.0</td>\n      <td>510</td>\n      <td>27.0</td>\n      <td>10.0</td>\n      <td>0.0</td>\n      <td>100</td>\n      <td>1020</td>\n      <td>39</td>\n      <td>2.0</td>\n      <td>5</td>\n      <td>36</td>\n      <td>Subway</td>\n      <td>Mains</td>\n    </tr>\n    <tr>\n      <th>4</th>\n      <td>6\" Chicken &amp; Bacon Ranch (with Rotisserie-Styl...</td>\n      <td>Sandwich</td>\n      <td>256.0</td>\n      <td>530</td>\n      <td>29.0</td>\n      <td>11.0</td>\n      <td>0.0</td>\n      <td>105</td>\n      <td>1200</td>\n      <td>39</td>\n      <td>2.0</td>\n      <td>5</td>\n      <td>34</td>\n      <td>Subway</td>\n      <td>Mains</td>\n    </tr>\n    <tr>\n      <th>...</th>\n      <td>...</td>\n      <td>...</td>\n      <td>...</td>\n      <td>...</td>\n      <td>...</td>\n      <td>...</td>\n      <td>...</td>\n      <td>...</td>\n      <td>...</td>\n      <td>...</td>\n      <td>...</td>\n      <td>...</td>\n      <td>...</td>\n      <td>...</td>\n      <td>...</td>\n    </tr>\n    <tr>\n      <th>93</th>\n      <td>Hash Browns - small</td>\n      <td>BREAKFAST</td>\n      <td>84.0</td>\n      <td>250</td>\n      <td>16.0</td>\n      <td>3.5</td>\n      <td>0.0</td>\n      <td>0</td>\n      <td>580</td>\n      <td>24</td>\n      <td>3.0</td>\n      <td>0</td>\n      <td>2</td>\n      <td>Burger King</td>\n      <td>Breakfast</td>\n    </tr>\n    <tr>\n      <th>94</th>\n      <td>Hash Browns - medium</td>\n      <td>BREAKFAST</td>\n      <td>169.0</td>\n      <td>500</td>\n      <td>33.0</td>\n      <td>7.0</td>\n      <td>0.0</td>\n      <td>0</td>\n      <td>1140</td>\n      <td>48</td>\n      <td>7.0</td>\n      <td>0</td>\n      <td>4</td>\n      <td>Burger King</td>\n      <td>Breakfast</td>\n    </tr>\n    <tr>\n      <th>95</th>\n      <td>Hash Browns - large</td>\n      <td>BREAKFAST</td>\n      <td>225.0</td>\n      <td>670</td>\n      <td>44.0</td>\n      <td>9.0</td>\n      <td>0.0</td>\n      <td>0</td>\n      <td>1530</td>\n      <td>65</td>\n      <td>9.0</td>\n      <td>0</td>\n      <td>5</td>\n      <td>Burger King</td>\n      <td>Breakfast</td>\n    </tr>\n    <tr>\n      <th>96</th>\n      <td>French Toast Sticks (3 piece)</td>\n      <td>BREAKFAST</td>\n      <td>65.0</td>\n      <td>230</td>\n      <td>11.0</td>\n      <td>2.0</td>\n      <td>0.0</td>\n      <td>0</td>\n      <td>260</td>\n      <td>29</td>\n      <td>1.0</td>\n      <td>8</td>\n      <td>3</td>\n      <td>Burger King</td>\n      <td>Breakfast</td>\n    </tr>\n    <tr>\n      <th>97</th>\n      <td>French Toast Sticks (5 piece)</td>\n      <td>BREAKFAST</td>\n      <td>109.0</td>\n      <td>380</td>\n      <td>18.0</td>\n      <td>3.0</td>\n      <td>0.0</td>\n      <td>0</td>\n      <td>430</td>\n      <td>49</td>\n      <td>2.0</td>\n      <td>13</td>\n      <td>5</td>\n      <td>Burger King</td>\n      <td>Breakfast</td>\n    </tr>\n  </tbody>\n</table>\n<p>392 rows × 15 columns</p>\n</div>"
     },
     "metadata": {}
    }
   ]
  },
  {
   "cell_type": "markdown",
   "source": "### Removing outliers\nSome of the menu items have a serving size for more than one person which would skew out analysis which is intended for items with serving size suited for one person.",
   "metadata": {
    "cell_id": "590d0d91de9741dfa119e39d1d232f99",
    "tags": [],
    "deepnote_cell_type": "markdown",
    "deepnote_cell_height": 122.78125
   }
  },
  {
   "cell_type": "code",
   "metadata": {
    "cell_id": "02178c994bc843f8a8d1e4eee60eb694",
    "tags": [],
    "deepnote_to_be_reexecuted": false,
    "source_hash": "6332950c",
    "execution_start": 1650810993032,
    "execution_millis": 31,
    "deepnote_cell_type": "code",
    "deepnote_cell_height": 81
   },
   "source": "merged_data.drop(merged_data[merged_data[\"Item\"] == \"Chicken McNuggets (40 piece)\"].index, inplace = True)",
   "execution_count": 38,
   "outputs": []
  },
  {
   "cell_type": "code",
   "metadata": {
    "cell_id": "6e1ad2af79684092a87c0da9c53f813a",
    "tags": [],
    "deepnote_to_be_reexecuted": false,
    "source_hash": "38b1da96",
    "execution_start": 1650810993066,
    "execution_millis": 186,
    "deepnote_table_state": {
     "pageSize": 10,
     "pageIndex": 0,
     "filters": [],
     "sortBy": [
      {
       "id": "Serving Size (g)",
       "type": "desc"
      }
     ]
    },
    "deepnote_table_loading": false,
    "deepnote_cell_type": "code",
    "deepnote_cell_height": 649
   },
   "source": "merged_data",
   "execution_count": 39,
   "outputs": [
    {
     "output_type": "execute_result",
     "execution_count": 39,
     "data": {
      "application/vnd.deepnote.dataframe.v3+json": {
       "column_count": 15,
       "row_count": 389,
       "columns": [
        {
         "name": "Item",
         "dtype": "object",
         "stats": {
          "unique_count": 334,
          "nan_count": 0,
          "categories": [
           {
            "name": "Baja Chicken & Bacon (with Rotisserie-Style Chicken)",
            "count": 3
           },
           {
            "name": "Roast Beef",
            "count": 3
           },
           {
            "name": "332 others",
            "count": 383
           }
          ]
         }
        },
        {
         "name": "Category",
         "dtype": "object",
         "stats": {
          "unique_count": 24,
          "nan_count": 0,
          "categories": [
           {
            "name": "Breakfast",
            "count": 50
           },
           {
            "name": "Salad",
            "count": 33
           },
           {
            "name": "22 others",
            "count": 306
           }
          ]
         }
        },
        {
         "name": "Serving Size (g)",
         "dtype": "float64",
         "stats": {
          "unique_count": 226,
          "nan_count": 0,
          "min": "14.0",
          "max": "490.0",
          "histogram": [
           {
            "bin_start": 14,
            "bin_end": 61.6,
            "count": 18
           },
           {
            "bin_start": 61.6,
            "bin_end": 109.2,
            "count": 31
           },
           {
            "bin_start": 109.2,
            "bin_end": 156.8,
            "count": 58
           },
           {
            "bin_start": 156.8,
            "bin_end": 204.4,
            "count": 58
           },
           {
            "bin_start": 204.4,
            "bin_end": 252,
            "count": 69
           },
           {
            "bin_start": 252,
            "bin_end": 299.6,
            "count": 35
           },
           {
            "bin_start": 299.6,
            "bin_end": 347.2,
            "count": 47
           },
           {
            "bin_start": 347.2,
            "bin_end": 394.8,
            "count": 42
           },
           {
            "bin_start": 394.8,
            "bin_end": 442.40000000000003,
            "count": 23
           },
           {
            "bin_start": 442.40000000000003,
            "bin_end": 490,
            "count": 8
           }
          ]
         }
        },
        {
         "name": "Calories",
         "dtype": "int64",
         "stats": {
          "unique_count": 95,
          "nan_count": 0,
          "min": "15",
          "max": "1220",
          "histogram": [
           {
            "bin_start": 15,
            "bin_end": 135.5,
            "count": 15
           },
           {
            "bin_start": 135.5,
            "bin_end": 256,
            "count": 63
           },
           {
            "bin_start": 256,
            "bin_end": 376.5,
            "count": 78
           },
           {
            "bin_start": 376.5,
            "bin_end": 497,
            "count": 90
           },
           {
            "bin_start": 497,
            "bin_end": 617.5,
            "count": 71
           },
           {
            "bin_start": 617.5,
            "bin_end": 738,
            "count": 28
           },
           {
            "bin_start": 738,
            "bin_end": 858.5,
            "count": 22
           },
           {
            "bin_start": 858.5,
            "bin_end": 979,
            "count": 11
           },
           {
            "bin_start": 979,
            "bin_end": 1099.5,
            "count": 6
           },
           {
            "bin_start": 1099.5,
            "bin_end": 1220,
            "count": 5
           }
          ]
         }
        },
        {
         "name": "Total Fat (g)",
         "dtype": "float64",
         "stats": {
          "unique_count": 70,
          "nan_count": 0,
          "min": "0.0",
          "max": "84.0",
          "histogram": [
           {
            "bin_start": 0,
            "bin_end": 8.4,
            "count": 68
           },
           {
            "bin_start": 8.4,
            "bin_end": 16.8,
            "count": 79
           },
           {
            "bin_start": 16.8,
            "bin_end": 25.200000000000003,
            "count": 92
           },
           {
            "bin_start": 25.200000000000003,
            "bin_end": 33.6,
            "count": 72
           },
           {
            "bin_start": 33.6,
            "bin_end": 42,
            "count": 29
           },
           {
            "bin_start": 42,
            "bin_end": 50.400000000000006,
            "count": 24
           },
           {
            "bin_start": 50.400000000000006,
            "bin_end": 58.800000000000004,
            "count": 16
           },
           {
            "bin_start": 58.800000000000004,
            "bin_end": 67.2,
            "count": 3
           },
           {
            "bin_start": 67.2,
            "bin_end": 75.60000000000001,
            "count": 3
           },
           {
            "bin_start": 75.60000000000001,
            "bin_end": 84,
            "count": 3
           }
          ]
         }
        },
        {
         "name": "Saturated Fat (g)",
         "dtype": "float64",
         "stats": {
          "unique_count": 33,
          "nan_count": 0,
          "min": "0.0",
          "max": "33.0",
          "histogram": [
           {
            "bin_start": 0,
            "bin_end": 3.3,
            "count": 91
           },
           {
            "bin_start": 3.3,
            "bin_end": 6.6,
            "count": 90
           },
           {
            "bin_start": 6.6,
            "bin_end": 9.899999999999999,
            "count": 75
           },
           {
            "bin_start": 9.899999999999999,
            "bin_end": 13.2,
            "count": 76
           },
           {
            "bin_start": 13.2,
            "bin_end": 16.5,
            "count": 25
           },
           {
            "bin_start": 16.5,
            "bin_end": 19.799999999999997,
            "count": 16
           },
           {
            "bin_start": 19.799999999999997,
            "bin_end": 23.099999999999998,
            "count": 9
           },
           {
            "bin_start": 23.099999999999998,
            "bin_end": 26.4,
            "count": 2
           },
           {
            "bin_start": 26.4,
            "bin_end": 29.7,
            "count": 2
           },
           {
            "bin_start": 29.7,
            "bin_end": 33,
            "count": 3
           }
          ]
         }
        },
        {
         "name": "Trans Fat (g)",
         "dtype": "float64",
         "stats": {
          "unique_count": 10,
          "nan_count": 0,
          "min": "0.0",
          "max": "4.5",
          "histogram": [
           {
            "bin_start": 0,
            "bin_end": 0.45,
            "count": 294
           },
           {
            "bin_start": 0.45,
            "bin_end": 0.9,
            "count": 18
           },
           {
            "bin_start": 0.9,
            "bin_end": 1.35,
            "count": 51
           },
           {
            "bin_start": 1.35,
            "bin_end": 1.8,
            "count": 11
           },
           {
            "bin_start": 1.8,
            "bin_end": 2.25,
            "count": 6
           },
           {
            "bin_start": 2.25,
            "bin_end": 2.7,
            "count": 1
           },
           {
            "bin_start": 2.7,
            "bin_end": 3.15,
            "count": 3
           },
           {
            "bin_start": 3.15,
            "bin_end": 3.6,
            "count": 3
           },
           {
            "bin_start": 3.6,
            "bin_end": 4.05,
            "count": 1
           },
           {
            "bin_start": 4.05,
            "bin_end": 4.5,
            "count": 1
           }
          ]
         }
        },
        {
         "name": "Cholesterol (mg)",
         "dtype": "int64",
         "stats": {
          "unique_count": 56,
          "nan_count": 0,
          "min": "0",
          "max": "575",
          "histogram": [
           {
            "bin_start": 0,
            "bin_end": 57.5,
            "count": 183
           },
           {
            "bin_start": 57.5,
            "bin_end": 115,
            "count": 129
           },
           {
            "bin_start": 115,
            "bin_end": 172.5,
            "count": 35
           },
           {
            "bin_start": 172.5,
            "bin_end": 230,
            "count": 13
           },
           {
            "bin_start": 230,
            "bin_end": 287.5,
            "count": 20
           },
           {
            "bin_start": 287.5,
            "bin_end": 345,
            "count": 2
           },
           {
            "bin_start": 345,
            "bin_end": 402.5,
            "count": 3
           },
           {
            "bin_start": 402.5,
            "bin_end": 460,
            "count": 0
           },
           {
            "bin_start": 460,
            "bin_end": 517.5,
            "count": 0
           },
           {
            "bin_start": 517.5,
            "bin_end": 575,
            "count": 4
           }
          ]
         }
        },
        {
         "name": "Sodium (mg)",
         "dtype": "int64",
         "stats": {
          "unique_count": 193,
          "nan_count": 0,
          "min": "0",
          "max": "3070",
          "histogram": [
           {
            "bin_start": 0,
            "bin_end": 307,
            "count": 40
           },
           {
            "bin_start": 307,
            "bin_end": 614,
            "count": 52
           },
           {
            "bin_start": 614,
            "bin_end": 921,
            "count": 72
           },
           {
            "bin_start": 921,
            "bin_end": 1228,
            "count": 75
           },
           {
            "bin_start": 1228,
            "bin_end": 1535,
            "count": 68
           },
           {
            "bin_start": 1535,
            "bin_end": 1842,
            "count": 44
           },
           {
            "bin_start": 1842,
            "bin_end": 2149,
            "count": 13
           },
           {
            "bin_start": 2149,
            "bin_end": 2456,
            "count": 19
           },
           {
            "bin_start": 2456,
            "bin_end": 2763,
            "count": 4
           },
           {
            "bin_start": 2763,
            "bin_end": 3070,
            "count": 2
           }
          ]
         }
        },
        {
         "name": "Carbohydrates (g)",
         "dtype": "int64",
         "stats": {
          "unique_count": 75,
          "nan_count": 0,
          "min": "2",
          "max": "116",
          "histogram": [
           {
            "bin_start": 2,
            "bin_end": 13.4,
            "count": 59
           },
           {
            "bin_start": 13.4,
            "bin_end": 24.8,
            "count": 40
           },
           {
            "bin_start": 24.8,
            "bin_end": 36.2,
            "count": 73
           },
           {
            "bin_start": 36.2,
            "bin_end": 47.6,
            "count": 99
           },
           {
            "bin_start": 47.6,
            "bin_end": 59,
            "count": 85
           },
           {
            "bin_start": 59,
            "bin_end": 70.4,
            "count": 17
           },
           {
            "bin_start": 70.4,
            "bin_end": 81.8,
            "count": 3
           },
           {
            "bin_start": 81.8,
            "bin_end": 93.2,
            "count": 2
           },
           {
            "bin_start": 93.2,
            "bin_end": 104.60000000000001,
            "count": 6
           },
           {
            "bin_start": 104.60000000000001,
            "bin_end": 116,
            "count": 5
           }
          ]
         }
        },
        {
         "name": "Dietary Fiber (g)",
         "dtype": "float64",
         "stats": {
          "unique_count": 14,
          "nan_count": 0,
          "min": "0.0",
          "max": "20.0",
          "histogram": [
           {
            "bin_start": 0,
            "bin_end": 2,
            "count": 100
           },
           {
            "bin_start": 2,
            "bin_end": 4,
            "count": 162
           },
           {
            "bin_start": 4,
            "bin_end": 6,
            "count": 99
           },
           {
            "bin_start": 6,
            "bin_end": 8,
            "count": 20
           },
           {
            "bin_start": 8,
            "bin_end": 10,
            "count": 4
           },
           {
            "bin_start": 10,
            "bin_end": 12,
            "count": 0
           },
           {
            "bin_start": 12,
            "bin_end": 14,
            "count": 2
           },
           {
            "bin_start": 14,
            "bin_end": 16,
            "count": 0
           },
           {
            "bin_start": 16,
            "bin_end": 18,
            "count": 0
           },
           {
            "bin_start": 18,
            "bin_end": 20,
            "count": 2
           }
          ]
         }
        },
        {
         "name": "Sugars (g)",
         "dtype": "int64",
         "stats": {
          "unique_count": 34,
          "nan_count": 0,
          "min": "0",
          "max": "48",
          "histogram": [
           {
            "bin_start": 0,
            "bin_end": 4.8,
            "count": 128
           },
           {
            "bin_start": 4.8,
            "bin_end": 9.6,
            "count": 177
           },
           {
            "bin_start": 9.6,
            "bin_end": 14.399999999999999,
            "count": 42
           },
           {
            "bin_start": 14.399999999999999,
            "bin_end": 19.2,
            "count": 19
           },
           {
            "bin_start": 19.2,
            "bin_end": 24,
            "count": 4
           },
           {
            "bin_start": 24,
            "bin_end": 28.799999999999997,
            "count": 4
           },
           {
            "bin_start": 28.799999999999997,
            "bin_end": 33.6,
            "count": 8
           },
           {
            "bin_start": 33.6,
            "bin_end": 38.4,
            "count": 1
           },
           {
            "bin_start": 38.4,
            "bin_end": 43.199999999999996,
            "count": 4
           },
           {
            "bin_start": 43.199999999999996,
            "bin_end": 48,
            "count": 2
           }
          ]
         }
        },
        {
         "name": "Protein (g)",
         "dtype": "int64",
         "stats": {
          "unique_count": 59,
          "nan_count": 0,
          "min": "0",
          "max": "71",
          "histogram": [
           {
            "bin_start": 0,
            "bin_end": 7.1,
            "count": 62
           },
           {
            "bin_start": 7.1,
            "bin_end": 14.2,
            "count": 54
           },
           {
            "bin_start": 14.2,
            "bin_end": 21.299999999999997,
            "count": 70
           },
           {
            "bin_start": 21.299999999999997,
            "bin_end": 28.4,
            "count": 88
           },
           {
            "bin_start": 28.4,
            "bin_end": 35.5,
            "count": 54
           },
           {
            "bin_start": 35.5,
            "bin_end": 42.599999999999994,
            "count": 32
           },
           {
            "bin_start": 42.599999999999994,
            "bin_end": 49.699999999999996,
            "count": 12
           },
           {
            "bin_start": 49.699999999999996,
            "bin_end": 56.8,
            "count": 10
           },
           {
            "bin_start": 56.8,
            "bin_end": 63.9,
            "count": 4
           },
           {
            "bin_start": 63.9,
            "bin_end": 71,
            "count": 3
           }
          ]
         }
        },
        {
         "name": "Restaurant",
         "dtype": "object",
         "stats": {
          "unique_count": 3,
          "nan_count": 0,
          "categories": [
           {
            "name": "Subway",
            "count": 189
           },
           {
            "name": "McDonalds",
            "count": 109
           },
           {
            "name": "Burger King",
            "count": 91
           }
          ]
         }
        },
        {
         "name": "Meal Type",
         "dtype": "object",
         "stats": {
          "unique_count": 3,
          "nan_count": 0,
          "categories": [
           {
            "name": "Mains",
            "count": 215
           },
           {
            "name": "Sides",
            "count": 102
           },
           {
            "name": "Breakfast",
            "count": 72
           }
          ]
         }
        },
        {
         "name": "_deepnote_index_column",
         "dtype": "int64"
        }
       ],
       "rows": [
        {
         "Item": "Big Hot Pastrami",
         "Category": "Protein Bowl",
         "Serving Size (g)": 490,
         "Calories": 680,
         "Total Fat (g)": 52,
         "Saturated Fat (g)": 18,
         "Trans Fat (g)": 0,
         "Cholesterol (mg)": 165,
         "Sodium (mg)": 2670,
         "Carbohydrates (g)": 15,
         "Dietary Fiber (g)": 5,
         "Sugars (g)": 7,
         "Protein (g)": 45,
         "Restaurant": "Subway",
         "Meal Type": "Mains",
         "_deepnote_index_column": 143
        },
        {
         "Item": "Meatball Marinara",
         "Category": "Protein Bowl",
         "Serving Size (g)": 469,
         "Calories": 520,
         "Total Fat (g)": 32,
         "Saturated Fat (g)": 13,
         "Trans Fat (g)": 2,
         "Cholesterol (mg)": 80,
         "Sodium (mg)": 1520,
         "Carbohydrates (g)": 33,
         "Dietary Fiber (g)": 8,
         "Sugars (g)": 14,
         "Protein (g)": 28,
         "Restaurant": "Subway",
         "Meal Type": "Mains",
         "_deepnote_index_column": 128
        },
        {
         "Item": "TRIPLE WHOPPER Sandwich with Cheese",
         "Category": "WHOPPER SANDWICHES",
         "Serving Size (g)": 461,
         "Calories": 1220,
         "Total Fat (g)": 82,
         "Saturated Fat (g)": 32,
         "Trans Fat (g)": 4.5,
         "Cholesterol (mg)": 280,
         "Sodium (mg)": 1470,
         "Carbohydrates (g)": 50,
         "Dietary Fiber (g)": 2,
         "Sugars (g)": 11,
         "Protein (g)": 71,
         "Restaurant": "Burger King",
         "Meal Type": "Mains",
         "_deepnote_index_column": 6
        },
        {
         "Item": "Chicken Pizziola (with Grilled Chicken)",
         "Category": "Protein Bowl",
         "Serving Size (g)": 451,
         "Calories": 500,
         "Total Fat (g)": 28,
         "Saturated Fat (g)": 12,
         "Trans Fat (g)": 1,
         "Cholesterol (mg)": 165,
         "Sodium (mg)": 1490,
         "Carbohydrates (g)": 17,
         "Dietary Fiber (g)": 4,
         "Sugars (g)": 10,
         "Protein (g)": 49,
         "Restaurant": "Subway",
         "Meal Type": "Mains",
         "_deepnote_index_column": 145
        },
        {
         "Item": "Big Hot Pastrami",
         "Category": "Salad",
         "Serving Size (g)": 450,
         "Calories": 370,
         "Total Fat (g)": 26,
         "Saturated Fat (g)": 8,
         "Trans Fat (g)": 0,
         "Cholesterol (mg)": 80,
         "Sodium (mg)": 1670,
         "Carbohydrates (g)": 14,
         "Dietary Fiber (g)": 5,
         "Sugars (g)": 7,
         "Protein (g)": 24,
         "Restaurant": "Subway",
         "Meal Type": "Sides",
         "_deepnote_index_column": 111
        },
        {
         "Item": "Baja Chicken & Bacon (with Rotisserie-Style Chicken)",
         "Category": "Protein Bowl",
         "Serving Size (g)": 445,
         "Calories": 720,
         "Total Fat (g)": 52,
         "Saturated Fat (g)": 20,
         "Trans Fat (g)": 1,
         "Cholesterol (mg)": 205,
         "Sodium (mg)": 2410,
         "Carbohydrates (g)": 14,
         "Dietary Fiber (g)": 3,
         "Sugars (g)": 8,
         "Protein (g)": 52,
         "Restaurant": "Subway",
         "Meal Type": "Mains",
         "_deepnote_index_column": 138
        },
        {
         "Item": "Chicken & Bacon Ranch (with Rotisserie-Style Chicken)",
         "Category": "Protein Bowl",
         "Serving Size (g)": 444,
         "Calories": 760,
         "Total Fat (g)": 55,
         "Saturated Fat (g)": 21,
         "Trans Fat (g)": 1,
         "Cholesterol (mg)": 205,
         "Sodium (mg)": 1750,
         "Carbohydrates (g)": 13,
         "Dietary Fiber (g)": 4,
         "Sugars (g)": 7,
         "Protein (g)": 55,
         "Restaurant": "Subway",
         "Meal Type": "Mains",
         "_deepnote_index_column": 125
        },
        {
         "Item": "Chicken & Bacon Ranch (with Grilled Chicken)",
         "Category": "Protein Bowl",
         "Serving Size (g)": 444,
         "Calories": 730,
         "Total Fat (g)": 51,
         "Saturated Fat (g)": 20,
         "Trans Fat (g)": 1,
         "Cholesterol (mg)": 205,
         "Sodium (mg)": 1380,
         "Carbohydrates (g)": 13,
         "Dietary Fiber (g)": 3,
         "Sugars (g)": 8,
         "Protein (g)": 58,
         "Restaurant": "Subway",
         "Meal Type": "Mains",
         "_deepnote_index_column": 124
        },
        {
         "Item": "TRIPLE WHOPPER Sandwich",
         "Category": "WHOPPER SANDWICHES",
         "Serving Size (g)": 438,
         "Calories": 1130,
         "Total Fat (g)": 75,
         "Saturated Fat (g)": 28,
         "Trans Fat (g)": 4,
         "Cholesterol (mg)": 255,
         "Sodium (mg)": 1120,
         "Carbohydrates (g)": 49,
         "Dietary Fiber (g)": 2,
         "Sugars (g)": 11,
         "Protein (g)": 67,
         "Restaurant": "Burger King",
         "Meal Type": "Mains",
         "_deepnote_index_column": 5
        },
        {
         "Item": "Big Breakfast with Hotcakes and Egg Whites (Large Biscuit)",
         "Category": "Breakfast",
         "Serving Size (g)": 437,
         "Calories": 1050,
         "Total Fat (g)": 50,
         "Saturated Fat (g)": 16,
         "Trans Fat (g)": 0,
         "Cholesterol (mg)": 55,
         "Sodium (mg)": 2290,
         "Carbohydrates (g)": 115,
         "Dietary Fiber (g)": 7,
         "Sugars (g)": 18,
         "Protein (g)": 35,
         "Restaurant": "McDonalds",
         "Meal Type": "Breakfast",
         "_deepnote_index_column": 34
        }
       ]
      },
      "text/plain": "                                                 Item   Category  \\\n0                                6\" All-American Club   Sandwich   \n1                                 6\" Black Forest Ham   Sandwich   \n2           6\" Buffalo Chicken (with Grilled Chicken)   Sandwich   \n3     6\" Chicken & Bacon Ranch (with Grilled Chicken)   Sandwich   \n4   6\" Chicken & Bacon Ranch (with Rotisserie-Styl...   Sandwich   \n..                                                ...        ...   \n93                                Hash Browns - small  BREAKFAST   \n94                               Hash Browns - medium  BREAKFAST   \n95                                Hash Browns - large  BREAKFAST   \n96                      French Toast Sticks (3 piece)  BREAKFAST   \n97                      French Toast Sticks (5 piece)  BREAKFAST   \n\n    Serving Size (g)  Calories  Total Fat (g)  Saturated Fat (g)  \\\n0              211.0       350           13.0                6.0   \n1              219.0       270            4.0                1.0   \n2              248.0       340           12.0                3.0   \n3              256.0       510           27.0               10.0   \n4              256.0       530           29.0               11.0   \n..               ...       ...            ...                ...   \n93              84.0       250           16.0                3.5   \n94             169.0       500           33.0                7.0   \n95             225.0       670           44.0                9.0   \n96              65.0       230           11.0                2.0   \n97             109.0       380           18.0                3.0   \n\n    Trans Fat (g)  Cholesterol (mg)  Sodium (mg)  Carbohydrates (g)  \\\n0             0.0                55         1220                 39   \n1             0.0                30          810                 41   \n2             0.0                55         1360                 39   \n3             0.0               100         1020                 39   \n4             0.0               105         1200                 39   \n..            ...               ...          ...                ...   \n93            0.0                 0          580                 24   \n94            0.0                 0         1140                 48   \n95            0.0                 0         1530                 65   \n96            0.0                 0          260                 29   \n97            0.0                 0          430                 49   \n\n    Dietary Fiber (g)  Sugars (g)  Protein (g)   Restaurant  Meal Type  \n0                 1.0           5           25       Subway      Mains  \n1                 4.0           6           18       Subway      Mains  \n2                 2.0           4           24       Subway      Mains  \n3                 2.0           5           36       Subway      Mains  \n4                 2.0           5           34       Subway      Mains  \n..                ...         ...          ...          ...        ...  \n93                3.0           0            2  Burger King  Breakfast  \n94                7.0           0            4  Burger King  Breakfast  \n95                9.0           0            5  Burger King  Breakfast  \n96                1.0           8            3  Burger King  Breakfast  \n97                2.0          13            5  Burger King  Breakfast  \n\n[389 rows x 15 columns]",
      "text/html": "<div>\n<style scoped>\n    .dataframe tbody tr th:only-of-type {\n        vertical-align: middle;\n    }\n\n    .dataframe tbody tr th {\n        vertical-align: top;\n    }\n\n    .dataframe thead th {\n        text-align: right;\n    }\n</style>\n<table border=\"1\" class=\"dataframe\">\n  <thead>\n    <tr style=\"text-align: right;\">\n      <th></th>\n      <th>Item</th>\n      <th>Category</th>\n      <th>Serving Size (g)</th>\n      <th>Calories</th>\n      <th>Total Fat (g)</th>\n      <th>Saturated Fat (g)</th>\n      <th>Trans Fat (g)</th>\n      <th>Cholesterol (mg)</th>\n      <th>Sodium (mg)</th>\n      <th>Carbohydrates (g)</th>\n      <th>Dietary Fiber (g)</th>\n      <th>Sugars (g)</th>\n      <th>Protein (g)</th>\n      <th>Restaurant</th>\n      <th>Meal Type</th>\n    </tr>\n  </thead>\n  <tbody>\n    <tr>\n      <th>0</th>\n      <td>6\" All-American Club</td>\n      <td>Sandwich</td>\n      <td>211.0</td>\n      <td>350</td>\n      <td>13.0</td>\n      <td>6.0</td>\n      <td>0.0</td>\n      <td>55</td>\n      <td>1220</td>\n      <td>39</td>\n      <td>1.0</td>\n      <td>5</td>\n      <td>25</td>\n      <td>Subway</td>\n      <td>Mains</td>\n    </tr>\n    <tr>\n      <th>1</th>\n      <td>6\" Black Forest Ham</td>\n      <td>Sandwich</td>\n      <td>219.0</td>\n      <td>270</td>\n      <td>4.0</td>\n      <td>1.0</td>\n      <td>0.0</td>\n      <td>30</td>\n      <td>810</td>\n      <td>41</td>\n      <td>4.0</td>\n      <td>6</td>\n      <td>18</td>\n      <td>Subway</td>\n      <td>Mains</td>\n    </tr>\n    <tr>\n      <th>2</th>\n      <td>6\" Buffalo Chicken (with Grilled Chicken)</td>\n      <td>Sandwich</td>\n      <td>248.0</td>\n      <td>340</td>\n      <td>12.0</td>\n      <td>3.0</td>\n      <td>0.0</td>\n      <td>55</td>\n      <td>1360</td>\n      <td>39</td>\n      <td>2.0</td>\n      <td>4</td>\n      <td>24</td>\n      <td>Subway</td>\n      <td>Mains</td>\n    </tr>\n    <tr>\n      <th>3</th>\n      <td>6\" Chicken &amp; Bacon Ranch (with Grilled Chicken)</td>\n      <td>Sandwich</td>\n      <td>256.0</td>\n      <td>510</td>\n      <td>27.0</td>\n      <td>10.0</td>\n      <td>0.0</td>\n      <td>100</td>\n      <td>1020</td>\n      <td>39</td>\n      <td>2.0</td>\n      <td>5</td>\n      <td>36</td>\n      <td>Subway</td>\n      <td>Mains</td>\n    </tr>\n    <tr>\n      <th>4</th>\n      <td>6\" Chicken &amp; Bacon Ranch (with Rotisserie-Styl...</td>\n      <td>Sandwich</td>\n      <td>256.0</td>\n      <td>530</td>\n      <td>29.0</td>\n      <td>11.0</td>\n      <td>0.0</td>\n      <td>105</td>\n      <td>1200</td>\n      <td>39</td>\n      <td>2.0</td>\n      <td>5</td>\n      <td>34</td>\n      <td>Subway</td>\n      <td>Mains</td>\n    </tr>\n    <tr>\n      <th>...</th>\n      <td>...</td>\n      <td>...</td>\n      <td>...</td>\n      <td>...</td>\n      <td>...</td>\n      <td>...</td>\n      <td>...</td>\n      <td>...</td>\n      <td>...</td>\n      <td>...</td>\n      <td>...</td>\n      <td>...</td>\n      <td>...</td>\n      <td>...</td>\n      <td>...</td>\n    </tr>\n    <tr>\n      <th>93</th>\n      <td>Hash Browns - small</td>\n      <td>BREAKFAST</td>\n      <td>84.0</td>\n      <td>250</td>\n      <td>16.0</td>\n      <td>3.5</td>\n      <td>0.0</td>\n      <td>0</td>\n      <td>580</td>\n      <td>24</td>\n      <td>3.0</td>\n      <td>0</td>\n      <td>2</td>\n      <td>Burger King</td>\n      <td>Breakfast</td>\n    </tr>\n    <tr>\n      <th>94</th>\n      <td>Hash Browns - medium</td>\n      <td>BREAKFAST</td>\n      <td>169.0</td>\n      <td>500</td>\n      <td>33.0</td>\n      <td>7.0</td>\n      <td>0.0</td>\n      <td>0</td>\n      <td>1140</td>\n      <td>48</td>\n      <td>7.0</td>\n      <td>0</td>\n      <td>4</td>\n      <td>Burger King</td>\n      <td>Breakfast</td>\n    </tr>\n    <tr>\n      <th>95</th>\n      <td>Hash Browns - large</td>\n      <td>BREAKFAST</td>\n      <td>225.0</td>\n      <td>670</td>\n      <td>44.0</td>\n      <td>9.0</td>\n      <td>0.0</td>\n      <td>0</td>\n      <td>1530</td>\n      <td>65</td>\n      <td>9.0</td>\n      <td>0</td>\n      <td>5</td>\n      <td>Burger King</td>\n      <td>Breakfast</td>\n    </tr>\n    <tr>\n      <th>96</th>\n      <td>French Toast Sticks (3 piece)</td>\n      <td>BREAKFAST</td>\n      <td>65.0</td>\n      <td>230</td>\n      <td>11.0</td>\n      <td>2.0</td>\n      <td>0.0</td>\n      <td>0</td>\n      <td>260</td>\n      <td>29</td>\n      <td>1.0</td>\n      <td>8</td>\n      <td>3</td>\n      <td>Burger King</td>\n      <td>Breakfast</td>\n    </tr>\n    <tr>\n      <th>97</th>\n      <td>French Toast Sticks (5 piece)</td>\n      <td>BREAKFAST</td>\n      <td>109.0</td>\n      <td>380</td>\n      <td>18.0</td>\n      <td>3.0</td>\n      <td>0.0</td>\n      <td>0</td>\n      <td>430</td>\n      <td>49</td>\n      <td>2.0</td>\n      <td>13</td>\n      <td>5</td>\n      <td>Burger King</td>\n      <td>Breakfast</td>\n    </tr>\n  </tbody>\n</table>\n<p>389 rows × 15 columns</p>\n</div>"
     },
     "metadata": {}
    }
   ]
  },
  {
   "cell_type": "markdown",
   "source": "All looks good, the columns are preserved and the numbers of rows add up, so let's save it to a csv.",
   "metadata": {
    "cell_id": "b9c88c6704dc4c359134bc3038981aed",
    "tags": [],
    "deepnote_cell_type": "markdown",
    "deepnote_cell_height": 52.390625
   }
  },
  {
   "cell_type": "code",
   "metadata": {
    "cell_id": "38e62d91683244b284ac1f3611a83fe3",
    "tags": [],
    "deepnote_to_be_reexecuted": false,
    "source_hash": "77014c3b",
    "execution_start": 1650810993266,
    "execution_millis": 67,
    "deepnote_cell_type": "code",
    "deepnote_cell_height": 81
   },
   "source": "merged_data.to_csv('datasets/2_merged_data.csv', index=False)",
   "execution_count": 40,
   "outputs": []
  },
  {
   "cell_type": "code",
   "metadata": {
    "cell_id": "87f6a8fcffcc4dcfb732a432d8d28606",
    "tags": [],
    "deepnote_to_be_reexecuted": false,
    "source_hash": "ce616e3c",
    "execution_start": 1650810993333,
    "execution_millis": 2,
    "deepnote_cell_type": "code",
    "deepnote_cell_height": 406,
    "deepnote_output_heights": [
     309
    ]
   },
   "source": "merged_data.dtypes",
   "execution_count": 41,
   "outputs": [
    {
     "output_type": "execute_result",
     "execution_count": 41,
     "data": {
      "text/plain": "Item                  object\nCategory              object\nServing Size (g)     float64\nCalories               int64\nTotal Fat (g)        float64\nSaturated Fat (g)    float64\nTrans Fat (g)        float64\nCholesterol (mg)       int64\nSodium (mg)            int64\nCarbohydrates (g)      int64\nDietary Fiber (g)    float64\nSugars (g)             int64\nProtein (g)            int64\nRestaurant            object\nMeal Type             object\ndtype: object"
     },
     "metadata": {}
    }
   ]
  },
  {
   "cell_type": "markdown",
   "source": "<a style='text-decoration:none;line-height:16px;display:flex;color:#5B5B62;padding:10px;justify-content:end;' href='https://deepnote.com?utm_source=created-in-deepnote-cell&projectId=3cd1c4af-daef-4005-958a-27a380c5f533' target=\"_blank\">\n<img alt='Created in deepnote.com' style='display:inline;max-height:16px;margin:0px;margin-right:7.5px;' src='data:image/svg+xml;base64,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' > </img>\nCreated in <span style='font-weight:600;margin-left:4px;'>Deepnote</span></a>",
   "metadata": {
    "tags": [],
    "created_in_deepnote_cell": true,
    "deepnote_cell_type": "markdown"
   }
  }
 ],
 "nbformat": 4,
 "nbformat_minor": 2,
 "metadata": {
  "orig_nbformat": 2,
  "deepnote": {
   "is_reactive": false
  },
  "deepnote_notebook_id": "890c7032-5267-4fc1-957f-f809ecf69eb7",
  "deepnote_execution_queue": []
 }
}